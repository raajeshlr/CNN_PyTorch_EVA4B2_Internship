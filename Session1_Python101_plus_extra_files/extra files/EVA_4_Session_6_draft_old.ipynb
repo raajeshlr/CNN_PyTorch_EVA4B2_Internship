{
  "nbformat": 4,
  "nbformat_minor": 0,
  "metadata": {
    "colab": {
      "name": "EVA 4 - Session 6_draft.ipynb",
      "provenance": [],
      "collapsed_sections": []
    },
    "kernelspec": {
      "name": "python3",
      "display_name": "Python 3"
    },
    "accelerator": "GPU"
  },
  "cells": [
    {
      "cell_type": "markdown",
      "metadata": {
        "id": "62ENDlnAXx4O",
        "colab_type": "text"
      },
      "source": [
        "\n",
        "\n"
      ]
    },
    {
      "cell_type": "code",
      "metadata": {
        "id": "0m2JWFliFfKT",
        "colab_type": "code",
        "colab": {}
      },
      "source": [
        "from __future__ import print_function\n",
        "import torch\n",
        "import torch.nn as nn\n",
        "import torch.nn.functional as F\n",
        "import torch.optim as optim\n",
        "from torchvision import datasets, transforms"
      ],
      "execution_count": 0,
      "outputs": []
    },
    {
      "cell_type": "markdown",
      "metadata": {
        "id": "lYaDvWN7Reow",
        "colab_type": "text"
      },
      "source": [
        "# Ghost Batch Normalization Class"
      ]
    },
    {
      "cell_type": "code",
      "metadata": {
        "id": "MDeX7CQL6bNT",
        "colab_type": "code",
        "colab": {}
      },
      "source": [
        "\n",
        "class BatchNorm(nn.BatchNorm2d):\n",
        "    def __init__(self, num_features, eps=1e-05, momentum=0.1, weight=True, bias=True):\n",
        "        #print(\"batch norm\")\n",
        "        super().__init__(num_features, eps=eps, momentum=momentum)\n",
        "        self.weight.data.fill_(1.0)\n",
        "        self.bias.data.fill_(0.0)\n",
        "        self.weight.requires_grad = weight\n",
        "        self.bias.requires_grad = bias\n",
        "\n",
        "\n",
        "class GhostBatchNorm(BatchNorm):\n",
        "    def __init__(self, num_features, num_splits, **kw):\n",
        "        #print(\"Ghost batch norm\",num_features)\n",
        "        super().__init__(num_features, **kw)\n",
        "        #print(\"Ghost batch norm...1...\",num_features)\n",
        "        self.num_splits = num_splits\n",
        "        self.register_buffer('running_mean', torch.zeros(num_features * self.num_splits))\n",
        "        self.register_buffer('running_var', torch.ones(num_features * self.num_splits))\n",
        "\n",
        "    def train(self, mode=True):\n",
        "        if (self.training is True) and (mode is False):  # lazily collate stats when we are going to use them\n",
        "            self.running_mean = torch.mean(self.running_mean.view(self.num_splits, self.num_features), dim=0).repeat(\n",
        "                self.num_splits)\n",
        "            self.running_var = torch.mean(self.running_var.view(self.num_splits, self.num_features), dim=0).repeat(\n",
        "                self.num_splits)\n",
        "        return super().train(mode)\n",
        "\n",
        "    def forward(self, input):\n",
        "        N, C, H, W = input.shape\n",
        "        if self.training or not self.track_running_stats:\n",
        "            return F.batch_norm(\n",
        "                input.view(-1, C * self.num_splits, H, W), self.running_mean, self.running_var,\n",
        "                self.weight.repeat(self.num_splits), self.bias.repeat(self.num_splits),\n",
        "                True, self.momentum, self.eps).view(N, C, H, W)\n",
        "        else:\n",
        "            return F.batch_norm(\n",
        "                input, self.running_mean[:self.num_features], self.running_var[:self.num_features],\n",
        "                self.weight, self.bias, False, self.momentum, self.eps)\n"
      ],
      "execution_count": 0,
      "outputs": []
    },
    {
      "cell_type": "code",
      "metadata": {
        "id": "7Mb92r5eJCoN",
        "colab_type": "code",
        "colab": {}
      },
      "source": [
        "dropout_value = 0\n",
        "class Net(nn.Module):\n",
        "\n",
        "    def __init__(self,batch_normalization=False,ghost_batch_normalization=False):\n",
        "        super(Net, self).__init__()\n",
        "        self.do_bn = batch_normalization        \n",
        "        self.do_ghost_bn = ghost_batch_normalization \n",
        "\n",
        "\n",
        "        self.conv1 = nn.Sequential(nn.Conv2d(1, 8, 3, padding=0, bias=False),nn.ReLU(inplace=True),nn.Dropout(dropout_value)) # output_size = 26, RF = 3\n",
        "        if self.do_bn:\n",
        "          self.conv1_bn = nn.BatchNorm2d(8) \n",
        "        elif self.do_ghost_bn:          \n",
        "          self.conv1_ghost_bn = GhostBatchNorm(8,2)\n",
        "                \n",
        "\n",
        "        self.conv2 = nn.Sequential(nn.Conv2d(8, 12, 3, padding=0, bias=False), nn.ReLU(inplace=True),nn.Dropout(dropout_value)) # output_size = 24, RF = 5\n",
        "        if self.do_bn:\n",
        "          self.conv2_bn = nn.BatchNorm2d(12) \n",
        "        elif self.do_ghost_bn:          \n",
        "          self.conv2_ghost_bn = GhostBatchNorm(12,2)             \n",
        "\n",
        "\n",
        "        self.conv3 = nn.Sequential(nn.MaxPool2d(kernel_size=2, stride=2),nn.Conv2d(12, 8, 1, padding=0, bias=False),nn.ReLU(inplace=True),nn.Dropout(dropout_value)) # output_size = 12, RF = 6\n",
        "        if self.do_bn:   \n",
        "          self.conv3_bn = nn.BatchNorm2d(8) \n",
        "        elif self.do_ghost_bn:          \n",
        "          self.conv3_ghost_bn = GhostBatchNorm(8,2)              \n",
        "\n",
        "\n",
        "        self.conv4 = nn.Sequential(nn.Conv2d(8, 12, 3, padding=0, bias=False),nn.ReLU(inplace=True), nn.Dropout(dropout_value)) # output_size = 10, RF = 10\n",
        "        if self.do_bn: \n",
        "          self.conv4_bn = nn.BatchNorm2d(12)\n",
        "        elif self.do_ghost_bn:          \n",
        "          self.conv4_ghost_bn = GhostBatchNorm(12,2)             \n",
        "\n",
        "\n",
        "        self.conv5 = nn.Sequential(nn.Conv2d(12, 16, 3, padding=0, bias=False),nn.ReLU(inplace=True),nn.Dropout(dropout_value)) # output_size = 8, RF = 14\n",
        "        if self.do_bn:\n",
        "          self.conv5_bn = nn.BatchNorm2d(16)\n",
        "        elif self.do_ghost_bn:          \n",
        "          self.conv5_ghost_bn = GhostBatchNorm(16,2)             \n",
        "\n",
        "\n",
        "        self.conv6 = nn.Sequential(nn.Conv2d(16, 32, 3, padding=0, bias=False),nn.ReLU(inplace=True),nn.Dropout(dropout_value)) # output_size = 6, RF = 18\n",
        "        if self.do_bn:\n",
        "          self.conv6_bn = nn.BatchNorm2d(32)\n",
        "        elif self.do_ghost_bn:          \n",
        "          self.conv6_ghost_bn = GhostBatchNorm(32,2)               \n",
        "\n",
        "\n",
        "        self.gap = nn.AvgPool2d(kernel_size=6) # output_size = 1, RF = 28\n",
        "        self.conv7 = nn.Sequential(nn.Conv2d(32, 10, 1, padding=0, bias=False)) # output_size = 1, RF = 28\n",
        "\n",
        "\n",
        "    def forward(self, x):\n",
        "\n",
        "        # Model with Batch Normalization\n",
        "        if self.do_bn: \n",
        "          x = self.conv1(x)\n",
        "          x = self.conv1_bn(x)          \n",
        "          x = self.conv2(x)\n",
        "          x = self.conv2_bn(x)   \n",
        "          x = self.conv3(x)\n",
        "          x = self.conv3_bn(x)   \n",
        "          x = self.conv4(x)\n",
        "          x = self.conv4_bn(x)\n",
        "          x = self.conv5(x)\n",
        "          x = self.conv5_bn(x)\n",
        "          x = self.conv6(x)\n",
        "          x = self.conv6_bn(x)\n",
        "\n",
        "        # Model with Ghost Batch Normalization\n",
        "        elif self.do_ghost_bn:\n",
        "\n",
        "          x = self.conv1(x)\n",
        "          x = self.conv1_ghost_bn(x)          \n",
        "          x = self.conv2(x)\n",
        "          x = self.conv2_ghost_bn(x)   \n",
        "          x = self.conv3(x)\n",
        "          x = self.conv3_ghost_bn(x)   \n",
        "          x = self.conv4(x)\n",
        "          x = self.conv4_ghost_bn(x)\n",
        "          x = self.conv5(x)\n",
        "          x = self.conv5_ghost_bn(x)\n",
        "          x = self.conv6(x)\n",
        "          x = self.conv6_ghost_bn(x)\n",
        "\n",
        "        else:\n",
        "          x = self.conv1(x)\n",
        "          x = self.conv2(x)\n",
        "          x = self.conv3(x)\n",
        "          x = self.conv4(x)\n",
        "          x = self.conv5(x)\n",
        "          x = self.conv6(x)\n",
        "            \n",
        "\n",
        "        x = self.gap(x)\n",
        "        x = self.conv7(x)\n",
        "        x = x.view(-1, 10)\n",
        "\n",
        "        return F.log_softmax(x)"
      ],
      "execution_count": 0,
      "outputs": []
    },
    {
      "cell_type": "code",
      "metadata": {
        "id": "Y6cyrLQvJqhw",
        "colab_type": "code",
        "colab": {
          "base_uri": "https://localhost:8080/",
          "height": 1000
        },
        "outputId": "d582d7a6-9ede-4402-d5ad-6d2197ecf3f8"
      },
      "source": [
        "!pip install torchsummary\n",
        "from torchsummary import summary\n",
        "use_cuda = torch.cuda.is_available()\n",
        "device = torch.device(\"cuda\" if use_cuda else \"cpu\")\n",
        "model = Net(batch_normalization=True,ghost_batch_normalization=False).to(device)\n",
        "model2=Net(batch_normalization=False,ghost_batch_normalization=True).to(device)\n",
        "summary(model, input_size=(1, 28, 28))\n",
        "summary(model2, input_size=(1, 28, 28))"
      ],
      "execution_count": 4,
      "outputs": [
        {
          "output_type": "stream",
          "text": [
            "Requirement already satisfied: torchsummary in /usr/local/lib/python3.6/dist-packages (1.5.1)\n",
            "----------------------------------------------------------------\n",
            "        Layer (type)               Output Shape         Param #\n",
            "================================================================\n",
            "            Conv2d-1            [-1, 8, 26, 26]              72\n",
            "              ReLU-2            [-1, 8, 26, 26]               0\n",
            "           Dropout-3            [-1, 8, 26, 26]               0\n",
            "       BatchNorm2d-4            [-1, 8, 26, 26]              16\n",
            "            Conv2d-5           [-1, 12, 24, 24]             864\n",
            "              ReLU-6           [-1, 12, 24, 24]               0\n",
            "           Dropout-7           [-1, 12, 24, 24]               0\n",
            "       BatchNorm2d-8           [-1, 12, 24, 24]              24\n",
            "         MaxPool2d-9           [-1, 12, 12, 12]               0\n",
            "           Conv2d-10            [-1, 8, 12, 12]              96\n",
            "             ReLU-11            [-1, 8, 12, 12]               0\n",
            "          Dropout-12            [-1, 8, 12, 12]               0\n",
            "      BatchNorm2d-13            [-1, 8, 12, 12]              16\n",
            "           Conv2d-14           [-1, 12, 10, 10]             864\n",
            "             ReLU-15           [-1, 12, 10, 10]               0\n",
            "          Dropout-16           [-1, 12, 10, 10]               0\n",
            "      BatchNorm2d-17           [-1, 12, 10, 10]              24\n",
            "           Conv2d-18             [-1, 16, 8, 8]           1,728\n",
            "             ReLU-19             [-1, 16, 8, 8]               0\n",
            "          Dropout-20             [-1, 16, 8, 8]               0\n",
            "      BatchNorm2d-21             [-1, 16, 8, 8]              32\n",
            "           Conv2d-22             [-1, 32, 6, 6]           4,608\n",
            "             ReLU-23             [-1, 32, 6, 6]               0\n",
            "          Dropout-24             [-1, 32, 6, 6]               0\n",
            "      BatchNorm2d-25             [-1, 32, 6, 6]              64\n",
            "        AvgPool2d-26             [-1, 32, 1, 1]               0\n",
            "           Conv2d-27             [-1, 10, 1, 1]             320\n",
            "================================================================\n",
            "Total params: 8,728\n",
            "Trainable params: 8,728\n",
            "Non-trainable params: 0\n",
            "----------------------------------------------------------------\n",
            "Input size (MB): 0.00\n",
            "Forward/backward pass size (MB): 0.53\n",
            "Params size (MB): 0.03\n",
            "Estimated Total Size (MB): 0.56\n",
            "----------------------------------------------------------------\n",
            "----------------------------------------------------------------\n",
            "        Layer (type)               Output Shape         Param #\n",
            "================================================================\n",
            "            Conv2d-1            [-1, 8, 26, 26]              72\n",
            "              ReLU-2            [-1, 8, 26, 26]               0\n",
            "           Dropout-3            [-1, 8, 26, 26]               0\n",
            "    GhostBatchNorm-4            [-1, 8, 26, 26]              16\n",
            "            Conv2d-5           [-1, 12, 24, 24]             864\n",
            "              ReLU-6           [-1, 12, 24, 24]               0\n",
            "           Dropout-7           [-1, 12, 24, 24]               0\n",
            "    GhostBatchNorm-8           [-1, 12, 24, 24]              24\n",
            "         MaxPool2d-9           [-1, 12, 12, 12]               0\n",
            "           Conv2d-10            [-1, 8, 12, 12]              96\n",
            "             ReLU-11            [-1, 8, 12, 12]               0\n",
            "          Dropout-12            [-1, 8, 12, 12]               0\n",
            "   GhostBatchNorm-13            [-1, 8, 12, 12]              16\n",
            "           Conv2d-14           [-1, 12, 10, 10]             864\n",
            "             ReLU-15           [-1, 12, 10, 10]               0\n",
            "          Dropout-16           [-1, 12, 10, 10]               0\n",
            "   GhostBatchNorm-17           [-1, 12, 10, 10]              24\n",
            "           Conv2d-18             [-1, 16, 8, 8]           1,728\n",
            "             ReLU-19             [-1, 16, 8, 8]               0\n",
            "          Dropout-20             [-1, 16, 8, 8]               0\n",
            "   GhostBatchNorm-21             [-1, 16, 8, 8]              32\n",
            "           Conv2d-22             [-1, 32, 6, 6]           4,608\n",
            "             ReLU-23             [-1, 32, 6, 6]               0\n",
            "          Dropout-24             [-1, 32, 6, 6]               0\n",
            "   GhostBatchNorm-25             [-1, 32, 6, 6]              64\n",
            "        AvgPool2d-26             [-1, 32, 1, 1]               0\n",
            "           Conv2d-27             [-1, 10, 1, 1]             320\n",
            "================================================================\n",
            "Total params: 8,728\n",
            "Trainable params: 8,728\n",
            "Non-trainable params: 0\n",
            "----------------------------------------------------------------\n",
            "Input size (MB): 0.00\n",
            "Forward/backward pass size (MB): 0.53\n",
            "Params size (MB): 0.03\n",
            "Estimated Total Size (MB): 0.56\n",
            "----------------------------------------------------------------\n"
          ],
          "name": "stdout"
        },
        {
          "output_type": "stream",
          "text": [
            "/usr/local/lib/python3.6/dist-packages/ipykernel_launcher.py:102: UserWarning: Implicit dimension choice for log_softmax has been deprecated. Change the call to include dim=X as an argument.\n"
          ],
          "name": "stderr"
        }
      ]
    },
    {
      "cell_type": "code",
      "metadata": {
        "id": "DqTWLaM5GHgH",
        "colab_type": "code",
        "colab": {}
      },
      "source": [
        "torch.manual_seed(1)\n",
        "batch_size = 128\n",
        "\n",
        "kwargs = {'num_workers': 1, 'pin_memory': True} if use_cuda else {}\n",
        "train_loader = torch.utils.data.DataLoader(\n",
        "    datasets.MNIST('../data', train=True, download=True,\n",
        "                    transform=transforms.Compose([\n",
        "                        transforms.RandomRotation((-7.0, 7.0), fill=(1,)),\n",
        "                        transforms.ToTensor(),\n",
        "                        transforms.Normalize((0.1307,), (0.3081,))\n",
        "                    ])),\n",
        "    batch_size=batch_size, shuffle=True, **kwargs)\n",
        "test_loader = torch.utils.data.DataLoader(\n",
        "    datasets.MNIST('../data', train=False, transform=transforms.Compose([\n",
        "                        transforms.ToTensor(),\n",
        "                        transforms.Normalize((0.1307,), (0.3081,))\n",
        "                    ])),\n",
        "    batch_size=batch_size, shuffle=True, **kwargs)\n"
      ],
      "execution_count": 0,
      "outputs": []
    },
    {
      "cell_type": "code",
      "metadata": {
        "id": "CR5dVfsiy5oW",
        "colab_type": "code",
        "colab": {}
      },
      "source": [
        "def train_eval(model, device, train_loader):\n",
        "    model.eval()\n",
        "    train_loss = 0\n",
        "    correct = 0\n",
        "    with torch.no_grad():\n",
        "        for data, target in train_loader:\n",
        "            data, target = data.to(device), target.to(device)\n",
        "            output = model(data)\n",
        "            train_loss += F.nll_loss(output, target, reduction='sum').item()  # sum up batch loss\n",
        "            pred = output.argmax(dim=1, keepdim=True)  # get the index of the max log-probability\n",
        "            correct += pred.eq(target.view_as(pred)).sum().item()\n",
        "\n",
        "    train_loss /= len(train_loader.dataset)\n",
        "\n",
        "    print('\\n\\nTrain set: Average loss: {:.4f}, Accuracy: {}/{} ({:.3f}%)\\n'.format(\n",
        "        train_loss, correct, len(train_loader.dataset),\n",
        "        100. * correct / len(train_loader.dataset)))"
      ],
      "execution_count": 0,
      "outputs": []
    },
    {
      "cell_type": "code",
      "metadata": {
        "id": "8fDefDhaFlwH",
        "colab_type": "code",
        "colab": {}
      },
      "source": [
        "from tqdm import tqdm\n",
        "\n",
        "train_losses = []\n",
        "test_losses = []\n",
        "test_acc = []\n",
        "train_acc = []\n",
        "#final_test_results=[]\n",
        "\n",
        "def train(model, device, train_loader, optimizer, epoch):\n",
        "  model.train()\n",
        "  pbar = tqdm(train_loader)\n",
        "  correct = 0\n",
        "  processed = 0\n",
        "  for batch_idx, (data, target) in enumerate(pbar):\n",
        "    # get samples\n",
        "    data, target = data.to(device), target.to(device)\n",
        "\n",
        "    # Init\n",
        "    optimizer.zero_grad()\n",
        "    # In PyTorch, we need to set the gradients to zero before starting to do backpropragation because PyTorch accumulates the gradients on subsequent backward passes. \n",
        "    # Because of this, when you start your training loop, ideally you should zero out the gradients so that you do the parameter update correctly.\n",
        "\n",
        "    # Predict\n",
        "    y_pred = model(data)\n",
        "\n",
        "    # Calculate loss\n",
        "    loss = F.nll_loss(y_pred, target)\n",
        "    train_losses.append(loss)\n",
        "\n",
        "    # Backpropagation\n",
        "    loss.backward()\n",
        "    optimizer.step()\n",
        "\n",
        "    # Update pbar-tqdm\n",
        "    \n",
        "    pred = y_pred.argmax(dim=1, keepdim=True)  # get the index of the max log-probability\n",
        "    correct += pred.eq(target.view_as(pred)).sum().item()\n",
        "    processed += len(data)\n",
        "\n",
        "    pbar.set_description(desc= f'Loss={loss.item()} Batch_id={batch_idx} Accuracy={100*correct/processed:0.2f}')\n",
        "    train_acc.append(100*correct/processed)\n",
        "\n",
        "\n",
        "def test(model, device, test_loader):\n",
        "    print(\"length of test dataset\",len(test_loader.dataset))\n",
        "    model.eval()\n",
        "    test_loss = 0\n",
        "    correct = 0\n",
        "    with torch.no_grad():\n",
        "        for data, target in test_loader:\n",
        "            data, target = data.to(device), target.to(device)\n",
        "            output = model(data)\n",
        "            test_loss += F.nll_loss(output, target, reduction='sum').item()  # sum up batch loss\n",
        "            pred = output.argmax(dim=1, keepdim=True)  # get the index of the max log-probability\n",
        "            correct += pred.eq(target.view_as(pred)).sum().item()\n",
        "\n",
        "    test_loss /= len(test_loader.dataset)\n",
        "    test_losses.append(test_loss)\n",
        "\n",
        "    print('\\nTest set: Average loss: {:.4f}, Accuracy: {}/{} ({:.2f}%)\\n'.format(\n",
        "        test_loss, correct, len(test_loader.dataset),\n",
        "        100. * correct / len(test_loader.dataset)))\n",
        "    \n",
        "    test_acc.append(100. * correct / len(test_loader.dataset))\n",
        "\n",
        "    #print(\"in Test...final losses\",test_losses)\n",
        "    #print(\"in Test...final accuracies\",test_acc)\n",
        "    final_test_results.append(test_losses)\n",
        "    final_test_results.append(test_acc)\n",
        "    \n",
        "    return final_test_results"
      ],
      "execution_count": 0,
      "outputs": []
    },
    {
      "cell_type": "code",
      "metadata": {
        "id": "7bBD2USqSeHR",
        "colab_type": "code",
        "colab": {}
      },
      "source": [
        "def l1_train(model, device, train_loader, optimizer, epoch):\n",
        "  model.train()\n",
        "  pbar = tqdm(train_loader)\n",
        "  correct = 0\n",
        "  processed = 0\n",
        "  for batch_idx, (data, target) in enumerate(pbar):\n",
        "    # get samples\n",
        "    data, target = data.to(device), target.to(device)\n",
        "\n",
        "    # Init\n",
        "    optimizer.zero_grad()\n",
        "    # In PyTorch, we need to set the gradients to zero before starting to do backpropragation because PyTorch accumulates the gradients on subsequent backward passes. \n",
        "    # Because of this, when you start your training loop, ideally you should zero out the gradients so that you do the parameter update correctly.\n",
        "\n",
        "    # Predict\n",
        "    y_pred = model(data)\n",
        "\n",
        "    # Calculate loss\n",
        "    loss = F.nll_loss(y_pred, target)\n",
        "\n",
        "    l1_crit = nn.L1Loss(size_average=False)\n",
        "    reg_loss = 0\n",
        "    for parameter in model.parameters():\n",
        "      reg_loss += l1_crit(parameter, loss)\n",
        "    factor = 0.00025\n",
        "    loss += factor * reg_loss\n",
        "\n",
        "    train_losses.append(loss)\n",
        "\n",
        "    # Backpropagation\n",
        "    loss.backward()\n",
        "    optimizer.step()\n",
        "\n",
        "    # Update pbar-tqdm\n",
        "    \n",
        "    pred = y_pred.argmax(dim=1, keepdim=True)  # get the index of the max log-probability\n",
        "    correct += pred.eq(target.view_as(pred)).sum().item()\n",
        "    processed += len(data)\n",
        "\n",
        "    pbar.set_description(desc= f'Loss={loss.item()} Batch_id={batch_idx} Accuracy={100*correct/processed:0.2f}')\n",
        "    train_acc.append(100*correct/processed)\n",
        "    \n"
      ],
      "execution_count": 0,
      "outputs": []
    },
    {
      "cell_type": "code",
      "metadata": {
        "id": "SGhZnkZESeRS",
        "colab_type": "code",
        "colab": {
          "base_uri": "https://localhost:8080/",
          "height": 1000
        },
        "outputId": "67e411a2-2cf6-4ad0-9677-9569506178b8"
      },
      "source": [
        "from torch.optim.lr_scheduler import StepLR\n",
        "\n",
        "BN_model = Net(batch_normalization=True,ghost_batch_normalization=False).to(device)\n",
        "GBN_model=Net(batch_normalization=False,ghost_batch_normalization=True).to(device)\n",
        "\n",
        "# Training for 25 Epocs \n",
        "EPOCHS = 25\n",
        "for i in range(8):\n",
        "  for epoch in range(EPOCHS):\n",
        "    if i == 0:\n",
        "      print(\"CASE_1: without L1andL2 with BN\")\n",
        "      print(\"EPOCH:\", epoch)     \n",
        "      final_test_results=[] \n",
        "      optimizer = optim.SGD(BN_model.parameters(), lr=0.01, momentum=0.9)\n",
        "      scheduler = StepLR(optimizer, step_size=6, gamma=0.1)\n",
        "      train(BN_model, device, train_loader, optimizer, epoch)\n",
        "      results1 = test(BN_model, device, test_loader)\n",
        "      \n",
        "\n",
        "    elif i == 1:\n",
        "      print(\"CASE_1: without L1andL2 with GBN\")\n",
        "      print(\"EPOCH:\", epoch)      \n",
        "      final_test_results=[]\n",
        "      optimizer = optim.SGD(GBN_model.parameters(), lr=0.01, momentum=0.9)\n",
        "      scheduler = StepLR(optimizer, step_size=6, gamma=0.1)\n",
        "      train(GBN_model, device, train_loader, optimizer, epoch)\n",
        "      results2 = test(GBN_model, device, test_loader)\n",
        "      \n",
        "    elif i == 2:\n",
        "      print(\"CASE_2: with L1 with BN\")\n",
        "      print(\"EPOCH:\", epoch)   \n",
        "      final_test_results=[]   \n",
        "      optimizer = optim.SGD(BN_model.parameters(), lr=0.01, momentum=0.9)\n",
        "      scheduler = StepLR(optimizer, step_size=6, gamma=0.1)\n",
        "      l1_train(BN_model, device, train_loader, optimizer, epoch)\n",
        "      results3 = test(BN_model, device, test_loader)\n",
        "\n",
        "    elif i == 3:\n",
        "      print(\"CASE_3: with L1 with GBN\")\n",
        "      print(\"EPOCH:\", epoch)    \n",
        "      final_test_results=[]  \n",
        "      optimizer = optim.SGD(GBN_model.parameters(), lr=0.01, momentum=0.9)\n",
        "      scheduler = StepLR(optimizer, step_size=6, gamma=0.1)\n",
        "      l1_train(GBN_model, device, train_loader, optimizer, epoch)\n",
        "      results4 = test(GBN_model, device, test_loader)\n",
        "\n",
        "\n",
        "    elif i == 4:\n",
        "      print(\"CASE_4: with L2 with BN\")\n",
        "      print(\"EPOCH:\", epoch)   \n",
        "      final_test_results=[]   \n",
        "      scheduler = StepLR(optimizer, step_size=6, gamma=0.1)\n",
        "      optimizer = optim.SGD(BN_model.parameters(), lr=0.01, weight_decay=1e-5, momentum=0.9)\n",
        "      train(BN_model, device, train_loader, optimizer, epoch)\n",
        "      results5 =test(BN_model, device, test_loader)\n",
        "\n",
        "    elif i == 5:\n",
        "      print(\"CASE_5: with L2 with GBN\")\n",
        "      print(\"EPOCH:\", epoch)    \n",
        "      final_test_results=[]  \n",
        "      scheduler = StepLR(optimizer, step_size=6, gamma=0.1)\n",
        "      optimizer = optim.SGD(GBN_model.parameters(), lr=0.01, weight_decay=1e-5, momentum=0.9)\n",
        "      train(GBN_model, device, train_loader, optimizer, epoch)\n",
        "      results6 =test(GBN_model, device, test_loader)\n",
        "\n",
        "\n",
        "    elif i ==6:\n",
        "      print(\"CASE_6: with L1andL2 with BN\")\n",
        "      print(\"EPOCH:\", epoch)     \n",
        "      final_test_results=[] \n",
        "      scheduler = StepLR(optimizer, step_size=6, gamma=0.1)\n",
        "      optimizer = optim.SGD(BN_model.parameters(), lr=0.01, weight_decay=1e-5, momentum=0.9)\n",
        "      l1_train(BN_model, device, train_loader, optimizer, epoch)\n",
        "      results7 =test(BN_model, device, test_loader)    \n",
        "\n",
        "\n",
        "    elif i ==7:\n",
        "      print(\"CASE_7: with L1andL2 with GBN\")\n",
        "      print(\"EPOCH:\", epoch)  \n",
        "      final_test_results=[]    \n",
        "      scheduler = StepLR(optimizer, step_size=6, gamma=0.1)\n",
        "      optimizer = optim.SGD(GBN_model.parameters(), lr=0.01, weight_decay=1e-5, momentum=0.9)\n",
        "      l1_train(GBN_model, device, train_loader, optimizer, epoch)\n",
        "      results8 =test(GBN_model, device, test_loader)    \n"
      ],
      "execution_count": 30,
      "outputs": [
        {
          "output_type": "stream",
          "text": [
            "\r  0%|          | 0/469 [00:00<?, ?it/s]"
          ],
          "name": "stderr"
        },
        {
          "output_type": "stream",
          "text": [
            "CASE_1: without L1andL2 with BN\n",
            "EPOCH: 0\n"
          ],
          "name": "stdout"
        },
        {
          "output_type": "stream",
          "text": [
            "/usr/local/lib/python3.6/dist-packages/ipykernel_launcher.py:102: UserWarning: Implicit dimension choice for log_softmax has been deprecated. Change the call to include dim=X as an argument.\n",
            "Loss=0.0693228617310524 Batch_id=468 Accuracy=89.84: 100%|██████████| 469/469 [00:15<00:00, 31.07it/s]"
          ],
          "name": "stderr"
        },
        {
          "output_type": "stream",
          "text": [
            "length of test dataset 10000\n"
          ],
          "name": "stdout"
        },
        {
          "output_type": "stream",
          "text": [
            "\n",
            "  0%|          | 0/469 [00:00<?, ?it/s]"
          ],
          "name": "stderr"
        },
        {
          "output_type": "stream",
          "text": [
            "\n",
            "Test set: Average loss: 0.0820, Accuracy: 9817/10000 (98.17%)\n",
            "\n",
            "CASE_1: without L1andL2 with BN\n",
            "EPOCH: 1\n"
          ],
          "name": "stdout"
        },
        {
          "output_type": "stream",
          "text": [
            "Loss=0.07071768492460251 Batch_id=468 Accuracy=97.98: 100%|██████████| 469/469 [00:14<00:00, 31.36it/s]"
          ],
          "name": "stderr"
        },
        {
          "output_type": "stream",
          "text": [
            "length of test dataset 10000\n"
          ],
          "name": "stdout"
        },
        {
          "output_type": "stream",
          "text": [
            "\n",
            "  0%|          | 0/469 [00:00<?, ?it/s]"
          ],
          "name": "stderr"
        },
        {
          "output_type": "stream",
          "text": [
            "\n",
            "Test set: Average loss: 0.0548, Accuracy: 9837/10000 (98.37%)\n",
            "\n",
            "CASE_1: without L1andL2 with BN\n",
            "EPOCH: 2\n"
          ],
          "name": "stdout"
        },
        {
          "output_type": "stream",
          "text": [
            "Loss=0.1359933763742447 Batch_id=468 Accuracy=98.38: 100%|██████████| 469/469 [00:15<00:00, 31.27it/s]"
          ],
          "name": "stderr"
        },
        {
          "output_type": "stream",
          "text": [
            "length of test dataset 10000\n"
          ],
          "name": "stdout"
        },
        {
          "output_type": "stream",
          "text": [
            "\n",
            "  0%|          | 0/469 [00:00<?, ?it/s]"
          ],
          "name": "stderr"
        },
        {
          "output_type": "stream",
          "text": [
            "\n",
            "Test set: Average loss: 0.0412, Accuracy: 9889/10000 (98.89%)\n",
            "\n",
            "CASE_1: without L1andL2 with BN\n",
            "EPOCH: 3\n"
          ],
          "name": "stdout"
        },
        {
          "output_type": "stream",
          "text": [
            "Loss=0.01490795612335205 Batch_id=468 Accuracy=98.60: 100%|██████████| 469/469 [00:14<00:00, 31.56it/s]"
          ],
          "name": "stderr"
        },
        {
          "output_type": "stream",
          "text": [
            "length of test dataset 10000\n"
          ],
          "name": "stdout"
        },
        {
          "output_type": "stream",
          "text": [
            "\n",
            "  0%|          | 0/469 [00:00<?, ?it/s]"
          ],
          "name": "stderr"
        },
        {
          "output_type": "stream",
          "text": [
            "\n",
            "Test set: Average loss: 0.0417, Accuracy: 9873/10000 (98.73%)\n",
            "\n",
            "CASE_1: without L1andL2 with BN\n",
            "EPOCH: 4\n"
          ],
          "name": "stdout"
        },
        {
          "output_type": "stream",
          "text": [
            "Loss=0.06975262612104416 Batch_id=468 Accuracy=98.72: 100%|██████████| 469/469 [00:14<00:00, 31.61it/s]"
          ],
          "name": "stderr"
        },
        {
          "output_type": "stream",
          "text": [
            "length of test dataset 10000\n"
          ],
          "name": "stdout"
        },
        {
          "output_type": "stream",
          "text": [
            "\n",
            "  0%|          | 0/469 [00:00<?, ?it/s]"
          ],
          "name": "stderr"
        },
        {
          "output_type": "stream",
          "text": [
            "\n",
            "Test set: Average loss: 0.0329, Accuracy: 9913/10000 (99.13%)\n",
            "\n",
            "CASE_1: without L1andL2 with BN\n",
            "EPOCH: 5\n"
          ],
          "name": "stdout"
        },
        {
          "output_type": "stream",
          "text": [
            "Loss=0.0147622125223279 Batch_id=468 Accuracy=98.85: 100%|██████████| 469/469 [00:14<00:00, 31.28it/s]"
          ],
          "name": "stderr"
        },
        {
          "output_type": "stream",
          "text": [
            "length of test dataset 10000\n"
          ],
          "name": "stdout"
        },
        {
          "output_type": "stream",
          "text": [
            "\n",
            "  0%|          | 0/469 [00:00<?, ?it/s]"
          ],
          "name": "stderr"
        },
        {
          "output_type": "stream",
          "text": [
            "\n",
            "Test set: Average loss: 0.0330, Accuracy: 9889/10000 (98.89%)\n",
            "\n",
            "CASE_1: without L1andL2 with BN\n",
            "EPOCH: 6\n"
          ],
          "name": "stdout"
        },
        {
          "output_type": "stream",
          "text": [
            "Loss=0.026332296431064606 Batch_id=468 Accuracy=98.89: 100%|██████████| 469/469 [00:15<00:00, 31.24it/s]"
          ],
          "name": "stderr"
        },
        {
          "output_type": "stream",
          "text": [
            "length of test dataset 10000\n"
          ],
          "name": "stdout"
        },
        {
          "output_type": "stream",
          "text": [
            "\n",
            "  0%|          | 0/469 [00:00<?, ?it/s]"
          ],
          "name": "stderr"
        },
        {
          "output_type": "stream",
          "text": [
            "\n",
            "Test set: Average loss: 0.0277, Accuracy: 9907/10000 (99.07%)\n",
            "\n",
            "CASE_1: without L1andL2 with BN\n",
            "EPOCH: 7\n"
          ],
          "name": "stdout"
        },
        {
          "output_type": "stream",
          "text": [
            "Loss=0.037858571857213974 Batch_id=468 Accuracy=98.98: 100%|██████████| 469/469 [00:14<00:00, 31.58it/s]"
          ],
          "name": "stderr"
        },
        {
          "output_type": "stream",
          "text": [
            "length of test dataset 10000\n"
          ],
          "name": "stdout"
        },
        {
          "output_type": "stream",
          "text": [
            "\n",
            "  0%|          | 0/469 [00:00<?, ?it/s]"
          ],
          "name": "stderr"
        },
        {
          "output_type": "stream",
          "text": [
            "\n",
            "Test set: Average loss: 0.0299, Accuracy: 9916/10000 (99.16%)\n",
            "\n",
            "CASE_1: without L1andL2 with BN\n",
            "EPOCH: 8\n"
          ],
          "name": "stdout"
        },
        {
          "output_type": "stream",
          "text": [
            "Loss=0.03856881335377693 Batch_id=468 Accuracy=99.00: 100%|██████████| 469/469 [00:14<00:00, 31.44it/s]"
          ],
          "name": "stderr"
        },
        {
          "output_type": "stream",
          "text": [
            "length of test dataset 10000\n"
          ],
          "name": "stdout"
        },
        {
          "output_type": "stream",
          "text": [
            "\n",
            "  0%|          | 0/469 [00:00<?, ?it/s]"
          ],
          "name": "stderr"
        },
        {
          "output_type": "stream",
          "text": [
            "\n",
            "Test set: Average loss: 0.0319, Accuracy: 9903/10000 (99.03%)\n",
            "\n",
            "CASE_1: without L1andL2 with BN\n",
            "EPOCH: 9\n"
          ],
          "name": "stdout"
        },
        {
          "output_type": "stream",
          "text": [
            "Loss=0.020321249961853027 Batch_id=468 Accuracy=99.02: 100%|██████████| 469/469 [00:14<00:00, 31.30it/s]"
          ],
          "name": "stderr"
        },
        {
          "output_type": "stream",
          "text": [
            "length of test dataset 10000\n"
          ],
          "name": "stdout"
        },
        {
          "output_type": "stream",
          "text": [
            "\n",
            "  0%|          | 0/469 [00:00<?, ?it/s]"
          ],
          "name": "stderr"
        },
        {
          "output_type": "stream",
          "text": [
            "\n",
            "Test set: Average loss: 0.0271, Accuracy: 9911/10000 (99.11%)\n",
            "\n",
            "CASE_1: without L1andL2 with BN\n",
            "EPOCH: 10\n"
          ],
          "name": "stdout"
        },
        {
          "output_type": "stream",
          "text": [
            "Loss=0.0575687550008297 Batch_id=468 Accuracy=99.05: 100%|██████████| 469/469 [00:14<00:00, 31.51it/s]"
          ],
          "name": "stderr"
        },
        {
          "output_type": "stream",
          "text": [
            "length of test dataset 10000\n"
          ],
          "name": "stdout"
        },
        {
          "output_type": "stream",
          "text": [
            "\n",
            "  0%|          | 0/469 [00:00<?, ?it/s]"
          ],
          "name": "stderr"
        },
        {
          "output_type": "stream",
          "text": [
            "\n",
            "Test set: Average loss: 0.0283, Accuracy: 9910/10000 (99.10%)\n",
            "\n",
            "CASE_1: without L1andL2 with BN\n",
            "EPOCH: 11\n"
          ],
          "name": "stdout"
        },
        {
          "output_type": "stream",
          "text": [
            "Loss=0.012985874898731709 Batch_id=468 Accuracy=99.16: 100%|██████████| 469/469 [00:14<00:00, 31.72it/s]"
          ],
          "name": "stderr"
        },
        {
          "output_type": "stream",
          "text": [
            "length of test dataset 10000\n"
          ],
          "name": "stdout"
        },
        {
          "output_type": "stream",
          "text": [
            "\n",
            "  0%|          | 0/469 [00:00<?, ?it/s]"
          ],
          "name": "stderr"
        },
        {
          "output_type": "stream",
          "text": [
            "\n",
            "Test set: Average loss: 0.0256, Accuracy: 9908/10000 (99.08%)\n",
            "\n",
            "CASE_1: without L1andL2 with BN\n",
            "EPOCH: 12\n"
          ],
          "name": "stdout"
        },
        {
          "output_type": "stream",
          "text": [
            "Loss=0.017899692058563232 Batch_id=468 Accuracy=99.16: 100%|██████████| 469/469 [00:15<00:00, 31.21it/s]"
          ],
          "name": "stderr"
        },
        {
          "output_type": "stream",
          "text": [
            "length of test dataset 10000\n"
          ],
          "name": "stdout"
        },
        {
          "output_type": "stream",
          "text": [
            "\n",
            "  0%|          | 0/469 [00:00<?, ?it/s]"
          ],
          "name": "stderr"
        },
        {
          "output_type": "stream",
          "text": [
            "\n",
            "Test set: Average loss: 0.0262, Accuracy: 9922/10000 (99.22%)\n",
            "\n",
            "CASE_1: without L1andL2 with BN\n",
            "EPOCH: 13\n"
          ],
          "name": "stdout"
        },
        {
          "output_type": "stream",
          "text": [
            "Loss=0.04933861270546913 Batch_id=468 Accuracy=99.19: 100%|██████████| 469/469 [00:15<00:00, 30.30it/s]"
          ],
          "name": "stderr"
        },
        {
          "output_type": "stream",
          "text": [
            "length of test dataset 10000\n"
          ],
          "name": "stdout"
        },
        {
          "output_type": "stream",
          "text": [
            "\n",
            "  0%|          | 0/469 [00:00<?, ?it/s]"
          ],
          "name": "stderr"
        },
        {
          "output_type": "stream",
          "text": [
            "\n",
            "Test set: Average loss: 0.0267, Accuracy: 9913/10000 (99.13%)\n",
            "\n",
            "CASE_1: without L1andL2 with BN\n",
            "EPOCH: 14\n"
          ],
          "name": "stdout"
        },
        {
          "output_type": "stream",
          "text": [
            "Loss=0.023359840735793114 Batch_id=468 Accuracy=99.15: 100%|██████████| 469/469 [00:15<00:00, 29.72it/s]"
          ],
          "name": "stderr"
        },
        {
          "output_type": "stream",
          "text": [
            "length of test dataset 10000\n"
          ],
          "name": "stdout"
        },
        {
          "output_type": "stream",
          "text": [
            "\n",
            "  0%|          | 0/469 [00:00<?, ?it/s]"
          ],
          "name": "stderr"
        },
        {
          "output_type": "stream",
          "text": [
            "\n",
            "Test set: Average loss: 0.0268, Accuracy: 9911/10000 (99.11%)\n",
            "\n",
            "CASE_1: without L1andL2 with BN\n",
            "EPOCH: 15\n"
          ],
          "name": "stdout"
        },
        {
          "output_type": "stream",
          "text": [
            "Loss=0.015924977138638496 Batch_id=468 Accuracy=99.22: 100%|██████████| 469/469 [00:16<00:00, 29.27it/s]"
          ],
          "name": "stderr"
        },
        {
          "output_type": "stream",
          "text": [
            "length of test dataset 10000\n"
          ],
          "name": "stdout"
        },
        {
          "output_type": "stream",
          "text": [
            "\n",
            "  0%|          | 0/469 [00:00<?, ?it/s]"
          ],
          "name": "stderr"
        },
        {
          "output_type": "stream",
          "text": [
            "\n",
            "Test set: Average loss: 0.0255, Accuracy: 9922/10000 (99.22%)\n",
            "\n",
            "CASE_1: without L1andL2 with BN\n",
            "EPOCH: 16\n"
          ],
          "name": "stdout"
        },
        {
          "output_type": "stream",
          "text": [
            "Loss=0.010279555805027485 Batch_id=468 Accuracy=99.25: 100%|██████████| 469/469 [00:16<00:00, 29.23it/s]"
          ],
          "name": "stderr"
        },
        {
          "output_type": "stream",
          "text": [
            "length of test dataset 10000\n"
          ],
          "name": "stdout"
        },
        {
          "output_type": "stream",
          "text": [
            "\n",
            "  0%|          | 0/469 [00:00<?, ?it/s]"
          ],
          "name": "stderr"
        },
        {
          "output_type": "stream",
          "text": [
            "\n",
            "Test set: Average loss: 0.0211, Accuracy: 9931/10000 (99.31%)\n",
            "\n",
            "CASE_1: without L1andL2 with BN\n",
            "EPOCH: 17\n"
          ],
          "name": "stdout"
        },
        {
          "output_type": "stream",
          "text": [
            "Loss=0.01233913004398346 Batch_id=468 Accuracy=99.23: 100%|██████████| 469/469 [00:15<00:00, 29.74it/s]"
          ],
          "name": "stderr"
        },
        {
          "output_type": "stream",
          "text": [
            "length of test dataset 10000\n"
          ],
          "name": "stdout"
        },
        {
          "output_type": "stream",
          "text": [
            "\n",
            "  0%|          | 0/469 [00:00<?, ?it/s]"
          ],
          "name": "stderr"
        },
        {
          "output_type": "stream",
          "text": [
            "\n",
            "Test set: Average loss: 0.0238, Accuracy: 9922/10000 (99.22%)\n",
            "\n",
            "CASE_1: without L1andL2 with BN\n",
            "EPOCH: 18\n"
          ],
          "name": "stdout"
        },
        {
          "output_type": "stream",
          "text": [
            "Loss=0.004079242702573538 Batch_id=468 Accuracy=99.33: 100%|██████████| 469/469 [00:15<00:00, 30.59it/s]"
          ],
          "name": "stderr"
        },
        {
          "output_type": "stream",
          "text": [
            "length of test dataset 10000\n"
          ],
          "name": "stdout"
        },
        {
          "output_type": "stream",
          "text": [
            "\n",
            "  0%|          | 0/469 [00:00<?, ?it/s]"
          ],
          "name": "stderr"
        },
        {
          "output_type": "stream",
          "text": [
            "\n",
            "Test set: Average loss: 0.0238, Accuracy: 9925/10000 (99.25%)\n",
            "\n",
            "CASE_1: without L1andL2 with BN\n",
            "EPOCH: 19\n"
          ],
          "name": "stdout"
        },
        {
          "output_type": "stream",
          "text": [
            "Loss=0.015516340732574463 Batch_id=468 Accuracy=99.26: 100%|██████████| 469/469 [00:15<00:00, 30.48it/s]"
          ],
          "name": "stderr"
        },
        {
          "output_type": "stream",
          "text": [
            "length of test dataset 10000\n"
          ],
          "name": "stdout"
        },
        {
          "output_type": "stream",
          "text": [
            "\n",
            "  0%|          | 0/469 [00:00<?, ?it/s]"
          ],
          "name": "stderr"
        },
        {
          "output_type": "stream",
          "text": [
            "\n",
            "Test set: Average loss: 0.0245, Accuracy: 9920/10000 (99.20%)\n",
            "\n",
            "CASE_1: without L1andL2 with BN\n",
            "EPOCH: 20\n"
          ],
          "name": "stdout"
        },
        {
          "output_type": "stream",
          "text": [
            "Loss=0.013288344256579876 Batch_id=468 Accuracy=99.29: 100%|██████████| 469/469 [00:15<00:00, 30.78it/s]"
          ],
          "name": "stderr"
        },
        {
          "output_type": "stream",
          "text": [
            "length of test dataset 10000\n"
          ],
          "name": "stdout"
        },
        {
          "output_type": "stream",
          "text": [
            "\n",
            "  0%|          | 0/469 [00:00<?, ?it/s]"
          ],
          "name": "stderr"
        },
        {
          "output_type": "stream",
          "text": [
            "\n",
            "Test set: Average loss: 0.0218, Accuracy: 9926/10000 (99.26%)\n",
            "\n",
            "CASE_1: without L1andL2 with BN\n",
            "EPOCH: 21\n"
          ],
          "name": "stdout"
        },
        {
          "output_type": "stream",
          "text": [
            "Loss=0.04062996804714203 Batch_id=468 Accuracy=99.37: 100%|██████████| 469/469 [00:15<00:00, 30.92it/s]"
          ],
          "name": "stderr"
        },
        {
          "output_type": "stream",
          "text": [
            "length of test dataset 10000\n"
          ],
          "name": "stdout"
        },
        {
          "output_type": "stream",
          "text": [
            "\n",
            "  0%|          | 0/469 [00:00<?, ?it/s]"
          ],
          "name": "stderr"
        },
        {
          "output_type": "stream",
          "text": [
            "\n",
            "Test set: Average loss: 0.0225, Accuracy: 9924/10000 (99.24%)\n",
            "\n",
            "CASE_1: without L1andL2 with BN\n",
            "EPOCH: 22\n"
          ],
          "name": "stdout"
        },
        {
          "output_type": "stream",
          "text": [
            "Loss=0.027635836973786354 Batch_id=468 Accuracy=99.33: 100%|██████████| 469/469 [00:15<00:00, 30.93it/s]"
          ],
          "name": "stderr"
        },
        {
          "output_type": "stream",
          "text": [
            "length of test dataset 10000\n"
          ],
          "name": "stdout"
        },
        {
          "output_type": "stream",
          "text": [
            "\n",
            "  0%|          | 0/469 [00:00<?, ?it/s]"
          ],
          "name": "stderr"
        },
        {
          "output_type": "stream",
          "text": [
            "\n",
            "Test set: Average loss: 0.0215, Accuracy: 9930/10000 (99.30%)\n",
            "\n",
            "CASE_1: without L1andL2 with BN\n",
            "EPOCH: 23\n"
          ],
          "name": "stdout"
        },
        {
          "output_type": "stream",
          "text": [
            "Loss=0.031217018142342567 Batch_id=468 Accuracy=99.33: 100%|██████████| 469/469 [00:15<00:00, 30.88it/s]"
          ],
          "name": "stderr"
        },
        {
          "output_type": "stream",
          "text": [
            "length of test dataset 10000\n"
          ],
          "name": "stdout"
        },
        {
          "output_type": "stream",
          "text": [
            "\n",
            "  0%|          | 0/469 [00:00<?, ?it/s]"
          ],
          "name": "stderr"
        },
        {
          "output_type": "stream",
          "text": [
            "\n",
            "Test set: Average loss: 0.0216, Accuracy: 9934/10000 (99.34%)\n",
            "\n",
            "CASE_1: without L1andL2 with BN\n",
            "EPOCH: 24\n"
          ],
          "name": "stdout"
        },
        {
          "output_type": "stream",
          "text": [
            "Loss=0.10990040749311447 Batch_id=468 Accuracy=99.42: 100%|██████████| 469/469 [00:15<00:00, 30.32it/s]"
          ],
          "name": "stderr"
        },
        {
          "output_type": "stream",
          "text": [
            "length of test dataset 10000\n"
          ],
          "name": "stdout"
        },
        {
          "output_type": "stream",
          "text": [
            "\n",
            "  0%|          | 0/469 [00:00<?, ?it/s]"
          ],
          "name": "stderr"
        },
        {
          "output_type": "stream",
          "text": [
            "\n",
            "Test set: Average loss: 0.0235, Accuracy: 9925/10000 (99.25%)\n",
            "\n",
            "CASE_1: without L1andL2 with GBN\n",
            "EPOCH: 0\n"
          ],
          "name": "stdout"
        },
        {
          "output_type": "stream",
          "text": [
            "Loss=0.07886796444654465 Batch_id=468 Accuracy=89.21: 100%|██████████| 469/469 [00:15<00:00, 30.56it/s]"
          ],
          "name": "stderr"
        },
        {
          "output_type": "stream",
          "text": [
            "length of test dataset 10000\n"
          ],
          "name": "stdout"
        },
        {
          "output_type": "stream",
          "text": [
            "\n",
            "  0%|          | 0/469 [00:00<?, ?it/s]"
          ],
          "name": "stderr"
        },
        {
          "output_type": "stream",
          "text": [
            "\n",
            "Test set: Average loss: 0.0861, Accuracy: 9788/10000 (97.88%)\n",
            "\n",
            "CASE_1: without L1andL2 with GBN\n",
            "EPOCH: 1\n"
          ],
          "name": "stdout"
        },
        {
          "output_type": "stream",
          "text": [
            "Loss=0.08451349288225174 Batch_id=468 Accuracy=97.44: 100%|██████████| 469/469 [00:15<00:00, 30.69it/s]\n"
          ],
          "name": "stderr"
        },
        {
          "output_type": "stream",
          "text": [
            "length of test dataset 10000\n"
          ],
          "name": "stdout"
        },
        {
          "output_type": "stream",
          "text": [
            "\r  0%|          | 0/469 [00:00<?, ?it/s]"
          ],
          "name": "stderr"
        },
        {
          "output_type": "stream",
          "text": [
            "\n",
            "Test set: Average loss: 0.0557, Accuracy: 9851/10000 (98.51%)\n",
            "\n",
            "CASE_1: without L1andL2 with GBN\n",
            "EPOCH: 2\n"
          ],
          "name": "stdout"
        },
        {
          "output_type": "stream",
          "text": [
            "Loss=0.10590562969446182 Batch_id=468 Accuracy=98.16: 100%|██████████| 469/469 [00:15<00:00, 30.52it/s]"
          ],
          "name": "stderr"
        },
        {
          "output_type": "stream",
          "text": [
            "length of test dataset 10000\n"
          ],
          "name": "stdout"
        },
        {
          "output_type": "stream",
          "text": [
            "\n",
            "  0%|          | 0/469 [00:00<?, ?it/s]"
          ],
          "name": "stderr"
        },
        {
          "output_type": "stream",
          "text": [
            "\n",
            "Test set: Average loss: 0.0527, Accuracy: 9833/10000 (98.33%)\n",
            "\n",
            "CASE_1: without L1andL2 with GBN\n",
            "EPOCH: 3\n"
          ],
          "name": "stdout"
        },
        {
          "output_type": "stream",
          "text": [
            "Loss=0.043283987790346146 Batch_id=468 Accuracy=98.43: 100%|██████████| 469/469 [00:16<00:00, 28.92it/s]"
          ],
          "name": "stderr"
        },
        {
          "output_type": "stream",
          "text": [
            "length of test dataset 10000\n"
          ],
          "name": "stdout"
        },
        {
          "output_type": "stream",
          "text": [
            "\n",
            "  0%|          | 0/469 [00:00<?, ?it/s]"
          ],
          "name": "stderr"
        },
        {
          "output_type": "stream",
          "text": [
            "\n",
            "Test set: Average loss: 0.0407, Accuracy: 9878/10000 (98.78%)\n",
            "\n",
            "CASE_1: without L1andL2 with GBN\n",
            "EPOCH: 4\n"
          ],
          "name": "stdout"
        },
        {
          "output_type": "stream",
          "text": [
            "Loss=0.031138166785240173 Batch_id=468 Accuracy=98.61: 100%|██████████| 469/469 [00:15<00:00, 29.45it/s]"
          ],
          "name": "stderr"
        },
        {
          "output_type": "stream",
          "text": [
            "length of test dataset 10000\n"
          ],
          "name": "stdout"
        },
        {
          "output_type": "stream",
          "text": [
            "\n",
            "  0%|          | 0/469 [00:00<?, ?it/s]"
          ],
          "name": "stderr"
        },
        {
          "output_type": "stream",
          "text": [
            "\n",
            "Test set: Average loss: 0.0306, Accuracy: 9914/10000 (99.14%)\n",
            "\n",
            "CASE_1: without L1andL2 with GBN\n",
            "EPOCH: 5\n"
          ],
          "name": "stdout"
        },
        {
          "output_type": "stream",
          "text": [
            "Loss=0.026169786229729652 Batch_id=468 Accuracy=98.74: 100%|██████████| 469/469 [00:15<00:00, 30.03it/s]"
          ],
          "name": "stderr"
        },
        {
          "output_type": "stream",
          "text": [
            "length of test dataset 10000\n"
          ],
          "name": "stdout"
        },
        {
          "output_type": "stream",
          "text": [
            "\n",
            "  0%|          | 0/469 [00:00<?, ?it/s]"
          ],
          "name": "stderr"
        },
        {
          "output_type": "stream",
          "text": [
            "\n",
            "Test set: Average loss: 0.0343, Accuracy: 9893/10000 (98.93%)\n",
            "\n",
            "CASE_1: without L1andL2 with GBN\n",
            "EPOCH: 6\n"
          ],
          "name": "stdout"
        },
        {
          "output_type": "stream",
          "text": [
            "Loss=0.05387159064412117 Batch_id=468 Accuracy=98.84: 100%|██████████| 469/469 [00:15<00:00, 30.18it/s]"
          ],
          "name": "stderr"
        },
        {
          "output_type": "stream",
          "text": [
            "length of test dataset 10000\n"
          ],
          "name": "stdout"
        },
        {
          "output_type": "stream",
          "text": [
            "\n",
            "  0%|          | 0/469 [00:00<?, ?it/s]"
          ],
          "name": "stderr"
        },
        {
          "output_type": "stream",
          "text": [
            "\n",
            "Test set: Average loss: 0.0315, Accuracy: 9908/10000 (99.08%)\n",
            "\n",
            "CASE_1: without L1andL2 with GBN\n",
            "EPOCH: 7\n"
          ],
          "name": "stdout"
        },
        {
          "output_type": "stream",
          "text": [
            "Loss=0.028399473056197166 Batch_id=468 Accuracy=98.86: 100%|██████████| 469/469 [00:15<00:00, 30.45it/s]"
          ],
          "name": "stderr"
        },
        {
          "output_type": "stream",
          "text": [
            "length of test dataset 10000\n"
          ],
          "name": "stdout"
        },
        {
          "output_type": "stream",
          "text": [
            "\n",
            "  0%|          | 0/469 [00:00<?, ?it/s]"
          ],
          "name": "stderr"
        },
        {
          "output_type": "stream",
          "text": [
            "\n",
            "Test set: Average loss: 0.0302, Accuracy: 9909/10000 (99.09%)\n",
            "\n",
            "CASE_1: without L1andL2 with GBN\n",
            "EPOCH: 8\n"
          ],
          "name": "stdout"
        },
        {
          "output_type": "stream",
          "text": [
            "Loss=0.04006450995802879 Batch_id=468 Accuracy=98.91: 100%|██████████| 469/469 [00:15<00:00, 30.13it/s]"
          ],
          "name": "stderr"
        },
        {
          "output_type": "stream",
          "text": [
            "length of test dataset 10000\n"
          ],
          "name": "stdout"
        },
        {
          "output_type": "stream",
          "text": [
            "\n",
            "  0%|          | 0/469 [00:00<?, ?it/s]"
          ],
          "name": "stderr"
        },
        {
          "output_type": "stream",
          "text": [
            "\n",
            "Test set: Average loss: 0.0251, Accuracy: 9938/10000 (99.38%)\n",
            "\n",
            "CASE_1: without L1andL2 with GBN\n",
            "EPOCH: 9\n"
          ],
          "name": "stdout"
        },
        {
          "output_type": "stream",
          "text": [
            "Loss=0.019056200981140137 Batch_id=468 Accuracy=99.04: 100%|██████████| 469/469 [00:15<00:00, 30.42it/s]"
          ],
          "name": "stderr"
        },
        {
          "output_type": "stream",
          "text": [
            "length of test dataset 10000\n"
          ],
          "name": "stdout"
        },
        {
          "output_type": "stream",
          "text": [
            "\n",
            "  0%|          | 0/469 [00:00<?, ?it/s]"
          ],
          "name": "stderr"
        },
        {
          "output_type": "stream",
          "text": [
            "\n",
            "Test set: Average loss: 0.0247, Accuracy: 9928/10000 (99.28%)\n",
            "\n",
            "CASE_1: without L1andL2 with GBN\n",
            "EPOCH: 10\n"
          ],
          "name": "stdout"
        },
        {
          "output_type": "stream",
          "text": [
            "Loss=0.016877824440598488 Batch_id=468 Accuracy=99.08: 100%|██████████| 469/469 [00:15<00:00, 30.44it/s]"
          ],
          "name": "stderr"
        },
        {
          "output_type": "stream",
          "text": [
            "length of test dataset 10000\n"
          ],
          "name": "stdout"
        },
        {
          "output_type": "stream",
          "text": [
            "\n",
            "  0%|          | 0/469 [00:00<?, ?it/s]"
          ],
          "name": "stderr"
        },
        {
          "output_type": "stream",
          "text": [
            "\n",
            "Test set: Average loss: 0.0238, Accuracy: 9933/10000 (99.33%)\n",
            "\n",
            "CASE_1: without L1andL2 with GBN\n",
            "EPOCH: 11\n"
          ],
          "name": "stdout"
        },
        {
          "output_type": "stream",
          "text": [
            "Loss=0.042857587337493896 Batch_id=468 Accuracy=99.10: 100%|██████████| 469/469 [00:15<00:00, 30.48it/s]"
          ],
          "name": "stderr"
        },
        {
          "output_type": "stream",
          "text": [
            "length of test dataset 10000\n"
          ],
          "name": "stdout"
        },
        {
          "output_type": "stream",
          "text": [
            "\n",
            "  0%|          | 0/469 [00:00<?, ?it/s]"
          ],
          "name": "stderr"
        },
        {
          "output_type": "stream",
          "text": [
            "\n",
            "Test set: Average loss: 0.0244, Accuracy: 9927/10000 (99.27%)\n",
            "\n",
            "CASE_1: without L1andL2 with GBN\n",
            "EPOCH: 12\n"
          ],
          "name": "stdout"
        },
        {
          "output_type": "stream",
          "text": [
            "Loss=0.0297244880348444 Batch_id=468 Accuracy=99.14: 100%|██████████| 469/469 [00:15<00:00, 29.77it/s]"
          ],
          "name": "stderr"
        },
        {
          "output_type": "stream",
          "text": [
            "length of test dataset 10000\n"
          ],
          "name": "stdout"
        },
        {
          "output_type": "stream",
          "text": [
            "\n",
            "  0%|          | 0/469 [00:00<?, ?it/s]"
          ],
          "name": "stderr"
        },
        {
          "output_type": "stream",
          "text": [
            "\n",
            "Test set: Average loss: 0.0221, Accuracy: 9933/10000 (99.33%)\n",
            "\n",
            "CASE_1: without L1andL2 with GBN\n",
            "EPOCH: 13\n"
          ],
          "name": "stdout"
        },
        {
          "output_type": "stream",
          "text": [
            "Loss=0.008279417641460896 Batch_id=468 Accuracy=99.13: 100%|██████████| 469/469 [00:15<00:00, 30.09it/s]\n"
          ],
          "name": "stderr"
        },
        {
          "output_type": "stream",
          "text": [
            "length of test dataset 10000\n"
          ],
          "name": "stdout"
        },
        {
          "output_type": "stream",
          "text": [
            "\r  0%|          | 0/469 [00:00<?, ?it/s]"
          ],
          "name": "stderr"
        },
        {
          "output_type": "stream",
          "text": [
            "\n",
            "Test set: Average loss: 0.0235, Accuracy: 9928/10000 (99.28%)\n",
            "\n",
            "CASE_1: without L1andL2 with GBN\n",
            "EPOCH: 14\n"
          ],
          "name": "stdout"
        },
        {
          "output_type": "stream",
          "text": [
            "Loss=0.06586185842752457 Batch_id=468 Accuracy=99.20: 100%|██████████| 469/469 [00:15<00:00, 30.07it/s]"
          ],
          "name": "stderr"
        },
        {
          "output_type": "stream",
          "text": [
            "length of test dataset 10000\n"
          ],
          "name": "stdout"
        },
        {
          "output_type": "stream",
          "text": [
            "\n",
            "  0%|          | 0/469 [00:00<?, ?it/s]"
          ],
          "name": "stderr"
        },
        {
          "output_type": "stream",
          "text": [
            "\n",
            "Test set: Average loss: 0.0259, Accuracy: 9922/10000 (99.22%)\n",
            "\n",
            "CASE_1: without L1andL2 with GBN\n",
            "EPOCH: 15\n"
          ],
          "name": "stdout"
        },
        {
          "output_type": "stream",
          "text": [
            "Loss=0.007172077894210815 Batch_id=468 Accuracy=99.22: 100%|██████████| 469/469 [00:15<00:00, 29.62it/s]"
          ],
          "name": "stderr"
        },
        {
          "output_type": "stream",
          "text": [
            "length of test dataset 10000\n"
          ],
          "name": "stdout"
        },
        {
          "output_type": "stream",
          "text": [
            "\n",
            "  0%|          | 0/469 [00:00<?, ?it/s]"
          ],
          "name": "stderr"
        },
        {
          "output_type": "stream",
          "text": [
            "\n",
            "Test set: Average loss: 0.0204, Accuracy: 9939/10000 (99.39%)\n",
            "\n",
            "CASE_1: without L1andL2 with GBN\n",
            "EPOCH: 16\n"
          ],
          "name": "stdout"
        },
        {
          "output_type": "stream",
          "text": [
            "Loss=0.03765009343624115 Batch_id=468 Accuracy=99.27: 100%|██████████| 469/469 [00:15<00:00, 29.54it/s]\n"
          ],
          "name": "stderr"
        },
        {
          "output_type": "stream",
          "text": [
            "length of test dataset 10000\n"
          ],
          "name": "stdout"
        },
        {
          "output_type": "stream",
          "text": [
            "\r  0%|          | 0/469 [00:00<?, ?it/s]"
          ],
          "name": "stderr"
        },
        {
          "output_type": "stream",
          "text": [
            "\n",
            "Test set: Average loss: 0.0243, Accuracy: 9929/10000 (99.29%)\n",
            "\n",
            "CASE_1: without L1andL2 with GBN\n",
            "EPOCH: 17\n"
          ],
          "name": "stdout"
        },
        {
          "output_type": "stream",
          "text": [
            "Loss=0.053474411368370056 Batch_id=468 Accuracy=99.28: 100%|██████████| 469/469 [00:15<00:00, 30.20it/s]"
          ],
          "name": "stderr"
        },
        {
          "output_type": "stream",
          "text": [
            "length of test dataset 10000\n"
          ],
          "name": "stdout"
        },
        {
          "output_type": "stream",
          "text": [
            "\n",
            "  0%|          | 0/469 [00:00<?, ?it/s]"
          ],
          "name": "stderr"
        },
        {
          "output_type": "stream",
          "text": [
            "\n",
            "Test set: Average loss: 0.0218, Accuracy: 9932/10000 (99.32%)\n",
            "\n",
            "CASE_1: without L1andL2 with GBN\n",
            "EPOCH: 18\n"
          ],
          "name": "stdout"
        },
        {
          "output_type": "stream",
          "text": [
            "Loss=0.014973551034927368 Batch_id=468 Accuracy=99.27: 100%|██████████| 469/469 [00:15<00:00, 30.49it/s]"
          ],
          "name": "stderr"
        },
        {
          "output_type": "stream",
          "text": [
            "length of test dataset 10000\n"
          ],
          "name": "stdout"
        },
        {
          "output_type": "stream",
          "text": [
            "\n",
            "  0%|          | 0/469 [00:00<?, ?it/s]"
          ],
          "name": "stderr"
        },
        {
          "output_type": "stream",
          "text": [
            "\n",
            "Test set: Average loss: 0.0227, Accuracy: 9932/10000 (99.32%)\n",
            "\n",
            "CASE_1: without L1andL2 with GBN\n",
            "EPOCH: 19\n"
          ],
          "name": "stdout"
        },
        {
          "output_type": "stream",
          "text": [
            "Loss=0.03721781075000763 Batch_id=468 Accuracy=99.28: 100%|██████████| 469/469 [00:15<00:00, 30.53it/s]"
          ],
          "name": "stderr"
        },
        {
          "output_type": "stream",
          "text": [
            "length of test dataset 10000\n"
          ],
          "name": "stdout"
        },
        {
          "output_type": "stream",
          "text": [
            "\n",
            "  0%|          | 0/469 [00:00<?, ?it/s]"
          ],
          "name": "stderr"
        },
        {
          "output_type": "stream",
          "text": [
            "\n",
            "Test set: Average loss: 0.0222, Accuracy: 9929/10000 (99.29%)\n",
            "\n",
            "CASE_1: without L1andL2 with GBN\n",
            "EPOCH: 20\n"
          ],
          "name": "stdout"
        },
        {
          "output_type": "stream",
          "text": [
            "Loss=0.019078552722930908 Batch_id=468 Accuracy=99.33: 100%|██████████| 469/469 [00:15<00:00, 30.62it/s]"
          ],
          "name": "stderr"
        },
        {
          "output_type": "stream",
          "text": [
            "length of test dataset 10000\n"
          ],
          "name": "stdout"
        },
        {
          "output_type": "stream",
          "text": [
            "\n",
            "  0%|          | 0/469 [00:00<?, ?it/s]"
          ],
          "name": "stderr"
        },
        {
          "output_type": "stream",
          "text": [
            "\n",
            "Test set: Average loss: 0.0203, Accuracy: 9939/10000 (99.39%)\n",
            "\n",
            "CASE_1: without L1andL2 with GBN\n",
            "EPOCH: 21\n"
          ],
          "name": "stdout"
        },
        {
          "output_type": "stream",
          "text": [
            "Loss=0.0038106441497802734 Batch_id=468 Accuracy=99.32: 100%|██████████| 469/469 [00:15<00:00, 30.75it/s]"
          ],
          "name": "stderr"
        },
        {
          "output_type": "stream",
          "text": [
            "length of test dataset 10000\n"
          ],
          "name": "stdout"
        },
        {
          "output_type": "stream",
          "text": [
            "\n",
            "  0%|          | 0/469 [00:00<?, ?it/s]"
          ],
          "name": "stderr"
        },
        {
          "output_type": "stream",
          "text": [
            "\n",
            "Test set: Average loss: 0.0201, Accuracy: 9932/10000 (99.32%)\n",
            "\n",
            "CASE_1: without L1andL2 with GBN\n",
            "EPOCH: 22\n"
          ],
          "name": "stdout"
        },
        {
          "output_type": "stream",
          "text": [
            "Loss=0.005424370523542166 Batch_id=468 Accuracy=99.35: 100%|██████████| 469/469 [00:15<00:00, 30.45it/s]"
          ],
          "name": "stderr"
        },
        {
          "output_type": "stream",
          "text": [
            "length of test dataset 10000\n"
          ],
          "name": "stdout"
        },
        {
          "output_type": "stream",
          "text": [
            "\n",
            "  0%|          | 0/469 [00:00<?, ?it/s]"
          ],
          "name": "stderr"
        },
        {
          "output_type": "stream",
          "text": [
            "\n",
            "Test set: Average loss: 0.0210, Accuracy: 9934/10000 (99.34%)\n",
            "\n",
            "CASE_1: without L1andL2 with GBN\n",
            "EPOCH: 23\n"
          ],
          "name": "stdout"
        },
        {
          "output_type": "stream",
          "text": [
            "Loss=0.05808119475841522 Batch_id=468 Accuracy=99.39: 100%|██████████| 469/469 [00:15<00:00, 29.55it/s]"
          ],
          "name": "stderr"
        },
        {
          "output_type": "stream",
          "text": [
            "length of test dataset 10000\n"
          ],
          "name": "stdout"
        },
        {
          "output_type": "stream",
          "text": [
            "\n",
            "  0%|          | 0/469 [00:00<?, ?it/s]"
          ],
          "name": "stderr"
        },
        {
          "output_type": "stream",
          "text": [
            "\n",
            "Test set: Average loss: 0.0195, Accuracy: 9943/10000 (99.43%)\n",
            "\n",
            "CASE_1: without L1andL2 with GBN\n",
            "EPOCH: 24\n"
          ],
          "name": "stdout"
        },
        {
          "output_type": "stream",
          "text": [
            "Loss=0.00372903048992157 Batch_id=468 Accuracy=99.34: 100%|██████████| 469/469 [00:15<00:00, 30.58it/s]"
          ],
          "name": "stderr"
        },
        {
          "output_type": "stream",
          "text": [
            "length of test dataset 10000\n"
          ],
          "name": "stdout"
        },
        {
          "output_type": "stream",
          "text": [
            "\n",
            "  0%|          | 0/469 [00:00<?, ?it/s]"
          ],
          "name": "stderr"
        },
        {
          "output_type": "stream",
          "text": [
            "\n",
            "Test set: Average loss: 0.0186, Accuracy: 9943/10000 (99.43%)\n",
            "\n",
            "CASE_2: with L1 with BN\n",
            "EPOCH: 0\n"
          ],
          "name": "stdout"
        },
        {
          "output_type": "stream",
          "text": [
            "/usr/local/lib/python3.6/dist-packages/torch/nn/_reduction.py:43: UserWarning: size_average and reduce args will be deprecated, please use reduction='sum' instead.\n",
            "  warnings.warn(warning.format(ret))\n",
            "/usr/local/lib/python3.6/dist-packages/torch/nn/modules/loss.py:88: UserWarning: Using a target size (torch.Size([])) that is different to the input size (torch.Size([8, 1, 3, 3])). This will likely lead to incorrect results due to broadcasting. Please ensure they have the same size.\n",
            "  return F.l1_loss(input, target, reduction=self.reduction)\n",
            "/usr/local/lib/python3.6/dist-packages/torch/nn/modules/loss.py:88: UserWarning: Using a target size (torch.Size([])) that is different to the input size (torch.Size([8])). This will likely lead to incorrect results due to broadcasting. Please ensure they have the same size.\n",
            "  return F.l1_loss(input, target, reduction=self.reduction)\n",
            "/usr/local/lib/python3.6/dist-packages/torch/nn/modules/loss.py:88: UserWarning: Using a target size (torch.Size([])) that is different to the input size (torch.Size([12, 8, 3, 3])). This will likely lead to incorrect results due to broadcasting. Please ensure they have the same size.\n",
            "  return F.l1_loss(input, target, reduction=self.reduction)\n",
            "/usr/local/lib/python3.6/dist-packages/torch/nn/modules/loss.py:88: UserWarning: Using a target size (torch.Size([])) that is different to the input size (torch.Size([12])). This will likely lead to incorrect results due to broadcasting. Please ensure they have the same size.\n",
            "  return F.l1_loss(input, target, reduction=self.reduction)\n",
            "/usr/local/lib/python3.6/dist-packages/torch/nn/modules/loss.py:88: UserWarning: Using a target size (torch.Size([])) that is different to the input size (torch.Size([8, 12, 1, 1])). This will likely lead to incorrect results due to broadcasting. Please ensure they have the same size.\n",
            "  return F.l1_loss(input, target, reduction=self.reduction)\n",
            "/usr/local/lib/python3.6/dist-packages/torch/nn/modules/loss.py:88: UserWarning: Using a target size (torch.Size([])) that is different to the input size (torch.Size([16, 12, 3, 3])). This will likely lead to incorrect results due to broadcasting. Please ensure they have the same size.\n",
            "  return F.l1_loss(input, target, reduction=self.reduction)\n",
            "/usr/local/lib/python3.6/dist-packages/torch/nn/modules/loss.py:88: UserWarning: Using a target size (torch.Size([])) that is different to the input size (torch.Size([16])). This will likely lead to incorrect results due to broadcasting. Please ensure they have the same size.\n",
            "  return F.l1_loss(input, target, reduction=self.reduction)\n",
            "/usr/local/lib/python3.6/dist-packages/torch/nn/modules/loss.py:88: UserWarning: Using a target size (torch.Size([])) that is different to the input size (torch.Size([32, 16, 3, 3])). This will likely lead to incorrect results due to broadcasting. Please ensure they have the same size.\n",
            "  return F.l1_loss(input, target, reduction=self.reduction)\n",
            "/usr/local/lib/python3.6/dist-packages/torch/nn/modules/loss.py:88: UserWarning: Using a target size (torch.Size([])) that is different to the input size (torch.Size([32])). This will likely lead to incorrect results due to broadcasting. Please ensure they have the same size.\n",
            "  return F.l1_loss(input, target, reduction=self.reduction)\n",
            "/usr/local/lib/python3.6/dist-packages/torch/nn/modules/loss.py:88: UserWarning: Using a target size (torch.Size([])) that is different to the input size (torch.Size([10, 32, 1, 1])). This will likely lead to incorrect results due to broadcasting. Please ensure they have the same size.\n",
            "  return F.l1_loss(input, target, reduction=self.reduction)\n",
            "Loss=0.2203495055437088 Batch_id=468 Accuracy=99.06: 100%|██████████| 469/469 [00:16<00:00, 27.84it/s]"
          ],
          "name": "stderr"
        },
        {
          "output_type": "stream",
          "text": [
            "length of test dataset 10000\n"
          ],
          "name": "stdout"
        },
        {
          "output_type": "stream",
          "text": [
            "\n",
            "  0%|          | 0/469 [00:00<?, ?it/s]"
          ],
          "name": "stderr"
        },
        {
          "output_type": "stream",
          "text": [
            "\n",
            "Test set: Average loss: 0.0307, Accuracy: 9902/10000 (99.02%)\n",
            "\n",
            "CASE_2: with L1 with BN\n",
            "EPOCH: 1\n"
          ],
          "name": "stdout"
        },
        {
          "output_type": "stream",
          "text": [
            "Loss=0.27863577008247375 Batch_id=468 Accuracy=99.04: 100%|██████████| 469/469 [00:16<00:00, 27.74it/s]"
          ],
          "name": "stderr"
        },
        {
          "output_type": "stream",
          "text": [
            "length of test dataset 10000\n"
          ],
          "name": "stdout"
        },
        {
          "output_type": "stream",
          "text": [
            "\n",
            "  0%|          | 0/469 [00:00<?, ?it/s]"
          ],
          "name": "stderr"
        },
        {
          "output_type": "stream",
          "text": [
            "\n",
            "Test set: Average loss: 0.0298, Accuracy: 9916/10000 (99.16%)\n",
            "\n",
            "CASE_2: with L1 with BN\n",
            "EPOCH: 2\n"
          ],
          "name": "stdout"
        },
        {
          "output_type": "stream",
          "text": [
            "Loss=0.2967374920845032 Batch_id=468 Accuracy=99.09: 100%|██████████| 469/469 [00:17<00:00, 27.50it/s]"
          ],
          "name": "stderr"
        },
        {
          "output_type": "stream",
          "text": [
            "length of test dataset 10000\n"
          ],
          "name": "stdout"
        },
        {
          "output_type": "stream",
          "text": [
            "\n",
            "  0%|          | 0/469 [00:00<?, ?it/s]"
          ],
          "name": "stderr"
        },
        {
          "output_type": "stream",
          "text": [
            "\n",
            "Test set: Average loss: 0.0290, Accuracy: 9911/10000 (99.11%)\n",
            "\n",
            "CASE_2: with L1 with BN\n",
            "EPOCH: 3\n"
          ],
          "name": "stdout"
        },
        {
          "output_type": "stream",
          "text": [
            "Loss=0.1822393387556076 Batch_id=468 Accuracy=98.99: 100%|██████████| 469/469 [00:16<00:00, 27.60it/s]"
          ],
          "name": "stderr"
        },
        {
          "output_type": "stream",
          "text": [
            "length of test dataset 10000\n"
          ],
          "name": "stdout"
        },
        {
          "output_type": "stream",
          "text": [
            "\n",
            "  0%|          | 0/469 [00:00<?, ?it/s]"
          ],
          "name": "stderr"
        },
        {
          "output_type": "stream",
          "text": [
            "\n",
            "Test set: Average loss: 0.0303, Accuracy: 9897/10000 (98.97%)\n",
            "\n",
            "CASE_2: with L1 with BN\n",
            "EPOCH: 4\n"
          ],
          "name": "stdout"
        },
        {
          "output_type": "stream",
          "text": [
            "Loss=0.20488499104976654 Batch_id=468 Accuracy=99.00: 100%|██████████| 469/469 [00:16<00:00, 27.92it/s]"
          ],
          "name": "stderr"
        },
        {
          "output_type": "stream",
          "text": [
            "length of test dataset 10000\n"
          ],
          "name": "stdout"
        },
        {
          "output_type": "stream",
          "text": [
            "\n",
            "  0%|          | 0/469 [00:00<?, ?it/s]"
          ],
          "name": "stderr"
        },
        {
          "output_type": "stream",
          "text": [
            "\n",
            "Test set: Average loss: 0.0282, Accuracy: 9914/10000 (99.14%)\n",
            "\n",
            "CASE_2: with L1 with BN\n",
            "EPOCH: 5\n"
          ],
          "name": "stdout"
        },
        {
          "output_type": "stream",
          "text": [
            "Loss=0.20911270380020142 Batch_id=468 Accuracy=99.06: 100%|██████████| 469/469 [00:17<00:00, 27.50it/s]"
          ],
          "name": "stderr"
        },
        {
          "output_type": "stream",
          "text": [
            "length of test dataset 10000\n"
          ],
          "name": "stdout"
        },
        {
          "output_type": "stream",
          "text": [
            "\n",
            "  0%|          | 0/469 [00:00<?, ?it/s]"
          ],
          "name": "stderr"
        },
        {
          "output_type": "stream",
          "text": [
            "\n",
            "Test set: Average loss: 0.0265, Accuracy: 9920/10000 (99.20%)\n",
            "\n",
            "CASE_2: with L1 with BN\n",
            "EPOCH: 6\n"
          ],
          "name": "stdout"
        },
        {
          "output_type": "stream",
          "text": [
            "Loss=0.17297513782978058 Batch_id=468 Accuracy=98.99: 100%|██████████| 469/469 [00:17<00:00, 27.46it/s]"
          ],
          "name": "stderr"
        },
        {
          "output_type": "stream",
          "text": [
            "length of test dataset 10000\n"
          ],
          "name": "stdout"
        },
        {
          "output_type": "stream",
          "text": [
            "\n",
            "  0%|          | 0/469 [00:00<?, ?it/s]"
          ],
          "name": "stderr"
        },
        {
          "output_type": "stream",
          "text": [
            "\n",
            "Test set: Average loss: 0.0294, Accuracy: 9905/10000 (99.05%)\n",
            "\n",
            "CASE_2: with L1 with BN\n",
            "EPOCH: 7\n"
          ],
          "name": "stdout"
        },
        {
          "output_type": "stream",
          "text": [
            "Loss=0.16738474369049072 Batch_id=468 Accuracy=99.00: 100%|██████████| 469/469 [00:16<00:00, 28.08it/s]"
          ],
          "name": "stderr"
        },
        {
          "output_type": "stream",
          "text": [
            "length of test dataset 10000\n"
          ],
          "name": "stdout"
        },
        {
          "output_type": "stream",
          "text": [
            "\n",
            "  0%|          | 0/469 [00:00<?, ?it/s]"
          ],
          "name": "stderr"
        },
        {
          "output_type": "stream",
          "text": [
            "\n",
            "Test set: Average loss: 0.0407, Accuracy: 9864/10000 (98.64%)\n",
            "\n",
            "CASE_2: with L1 with BN\n",
            "EPOCH: 8\n"
          ],
          "name": "stdout"
        },
        {
          "output_type": "stream",
          "text": [
            "Loss=0.26324033737182617 Batch_id=468 Accuracy=98.99: 100%|██████████| 469/469 [00:16<00:00, 27.78it/s]"
          ],
          "name": "stderr"
        },
        {
          "output_type": "stream",
          "text": [
            "length of test dataset 10000\n"
          ],
          "name": "stdout"
        },
        {
          "output_type": "stream",
          "text": [
            "\n",
            "  0%|          | 0/469 [00:00<?, ?it/s]"
          ],
          "name": "stderr"
        },
        {
          "output_type": "stream",
          "text": [
            "\n",
            "Test set: Average loss: 0.0391, Accuracy: 9871/10000 (98.71%)\n",
            "\n",
            "CASE_2: with L1 with BN\n",
            "EPOCH: 9\n"
          ],
          "name": "stdout"
        },
        {
          "output_type": "stream",
          "text": [
            "Loss=0.17688925564289093 Batch_id=468 Accuracy=99.04: 100%|██████████| 469/469 [00:16<00:00, 27.80it/s]"
          ],
          "name": "stderr"
        },
        {
          "output_type": "stream",
          "text": [
            "length of test dataset 10000\n"
          ],
          "name": "stdout"
        },
        {
          "output_type": "stream",
          "text": [
            "\n",
            "  0%|          | 0/469 [00:00<?, ?it/s]"
          ],
          "name": "stderr"
        },
        {
          "output_type": "stream",
          "text": [
            "\n",
            "Test set: Average loss: 0.0300, Accuracy: 9897/10000 (98.97%)\n",
            "\n",
            "CASE_2: with L1 with BN\n",
            "EPOCH: 10\n"
          ],
          "name": "stdout"
        },
        {
          "output_type": "stream",
          "text": [
            "Loss=0.1728454828262329 Batch_id=468 Accuracy=99.01: 100%|██████████| 469/469 [00:16<00:00, 28.00it/s]"
          ],
          "name": "stderr"
        },
        {
          "output_type": "stream",
          "text": [
            "length of test dataset 10000\n"
          ],
          "name": "stdout"
        },
        {
          "output_type": "stream",
          "text": [
            "\n",
            "  0%|          | 0/469 [00:00<?, ?it/s]"
          ],
          "name": "stderr"
        },
        {
          "output_type": "stream",
          "text": [
            "\n",
            "Test set: Average loss: 0.0296, Accuracy: 9911/10000 (99.11%)\n",
            "\n",
            "CASE_2: with L1 with BN\n",
            "EPOCH: 11\n"
          ],
          "name": "stdout"
        },
        {
          "output_type": "stream",
          "text": [
            "Loss=0.24750888347625732 Batch_id=468 Accuracy=99.03: 100%|██████████| 469/469 [00:16<00:00, 27.79it/s]"
          ],
          "name": "stderr"
        },
        {
          "output_type": "stream",
          "text": [
            "length of test dataset 10000\n"
          ],
          "name": "stdout"
        },
        {
          "output_type": "stream",
          "text": [
            "\n",
            "  0%|          | 0/469 [00:00<?, ?it/s]"
          ],
          "name": "stderr"
        },
        {
          "output_type": "stream",
          "text": [
            "\n",
            "Test set: Average loss: 0.0337, Accuracy: 9900/10000 (99.00%)\n",
            "\n",
            "CASE_2: with L1 with BN\n",
            "EPOCH: 12\n"
          ],
          "name": "stdout"
        },
        {
          "output_type": "stream",
          "text": [
            "Loss=0.16303902864456177 Batch_id=468 Accuracy=98.96: 100%|██████████| 469/469 [00:16<00:00, 28.10it/s]"
          ],
          "name": "stderr"
        },
        {
          "output_type": "stream",
          "text": [
            "length of test dataset 10000\n"
          ],
          "name": "stdout"
        },
        {
          "output_type": "stream",
          "text": [
            "\n",
            "  0%|          | 0/469 [00:00<?, ?it/s]"
          ],
          "name": "stderr"
        },
        {
          "output_type": "stream",
          "text": [
            "\n",
            "Test set: Average loss: 0.0291, Accuracy: 9907/10000 (99.07%)\n",
            "\n",
            "CASE_2: with L1 with BN\n",
            "EPOCH: 13\n"
          ],
          "name": "stdout"
        },
        {
          "output_type": "stream",
          "text": [
            "Loss=0.17251211404800415 Batch_id=468 Accuracy=98.97: 100%|██████████| 469/469 [00:16<00:00, 28.05it/s]"
          ],
          "name": "stderr"
        },
        {
          "output_type": "stream",
          "text": [
            "length of test dataset 10000\n"
          ],
          "name": "stdout"
        },
        {
          "output_type": "stream",
          "text": [
            "\n",
            "  0%|          | 0/469 [00:00<?, ?it/s]"
          ],
          "name": "stderr"
        },
        {
          "output_type": "stream",
          "text": [
            "\n",
            "Test set: Average loss: 0.0289, Accuracy: 9904/10000 (99.04%)\n",
            "\n",
            "CASE_2: with L1 with BN\n",
            "EPOCH: 14\n"
          ],
          "name": "stdout"
        },
        {
          "output_type": "stream",
          "text": [
            "Loss=0.44380584359169006 Batch_id=468 Accuracy=99.04: 100%|██████████| 469/469 [00:16<00:00, 27.89it/s]"
          ],
          "name": "stderr"
        },
        {
          "output_type": "stream",
          "text": [
            "length of test dataset 10000\n"
          ],
          "name": "stdout"
        },
        {
          "output_type": "stream",
          "text": [
            "\n",
            "  0%|          | 0/469 [00:00<?, ?it/s]"
          ],
          "name": "stderr"
        },
        {
          "output_type": "stream",
          "text": [
            "\n",
            "Test set: Average loss: 0.0287, Accuracy: 9906/10000 (99.06%)\n",
            "\n",
            "CASE_2: with L1 with BN\n",
            "EPOCH: 15\n"
          ],
          "name": "stdout"
        },
        {
          "output_type": "stream",
          "text": [
            "Loss=0.1944815218448639 Batch_id=468 Accuracy=98.99: 100%|██████████| 469/469 [00:17<00:00, 27.19it/s]"
          ],
          "name": "stderr"
        },
        {
          "output_type": "stream",
          "text": [
            "length of test dataset 10000\n"
          ],
          "name": "stdout"
        },
        {
          "output_type": "stream",
          "text": [
            "\n",
            "  0%|          | 0/469 [00:00<?, ?it/s]"
          ],
          "name": "stderr"
        },
        {
          "output_type": "stream",
          "text": [
            "\n",
            "Test set: Average loss: 0.0388, Accuracy: 9871/10000 (98.71%)\n",
            "\n",
            "CASE_2: with L1 with BN\n",
            "EPOCH: 16\n"
          ],
          "name": "stdout"
        },
        {
          "output_type": "stream",
          "text": [
            "Loss=0.15887629985809326 Batch_id=468 Accuracy=98.99: 100%|██████████| 469/469 [00:16<00:00, 27.99it/s]"
          ],
          "name": "stderr"
        },
        {
          "output_type": "stream",
          "text": [
            "length of test dataset 10000\n"
          ],
          "name": "stdout"
        },
        {
          "output_type": "stream",
          "text": [
            "\n",
            "  0%|          | 0/469 [00:00<?, ?it/s]"
          ],
          "name": "stderr"
        },
        {
          "output_type": "stream",
          "text": [
            "\n",
            "Test set: Average loss: 0.0308, Accuracy: 9906/10000 (99.06%)\n",
            "\n",
            "CASE_2: with L1 with BN\n",
            "EPOCH: 17\n"
          ],
          "name": "stdout"
        },
        {
          "output_type": "stream",
          "text": [
            "Loss=0.21947695314884186 Batch_id=468 Accuracy=98.99: 100%|██████████| 469/469 [00:16<00:00, 27.89it/s]"
          ],
          "name": "stderr"
        },
        {
          "output_type": "stream",
          "text": [
            "length of test dataset 10000\n"
          ],
          "name": "stdout"
        },
        {
          "output_type": "stream",
          "text": [
            "\n",
            "  0%|          | 0/469 [00:00<?, ?it/s]"
          ],
          "name": "stderr"
        },
        {
          "output_type": "stream",
          "text": [
            "\n",
            "Test set: Average loss: 0.0365, Accuracy: 9885/10000 (98.85%)\n",
            "\n",
            "CASE_2: with L1 with BN\n",
            "EPOCH: 18\n"
          ],
          "name": "stdout"
        },
        {
          "output_type": "stream",
          "text": [
            "Loss=0.15951035916805267 Batch_id=468 Accuracy=99.01: 100%|██████████| 469/469 [00:16<00:00, 27.71it/s]"
          ],
          "name": "stderr"
        },
        {
          "output_type": "stream",
          "text": [
            "length of test dataset 10000\n"
          ],
          "name": "stdout"
        },
        {
          "output_type": "stream",
          "text": [
            "\n",
            "  0%|          | 0/469 [00:00<?, ?it/s]"
          ],
          "name": "stderr"
        },
        {
          "output_type": "stream",
          "text": [
            "\n",
            "Test set: Average loss: 0.0362, Accuracy: 9892/10000 (98.92%)\n",
            "\n",
            "CASE_2: with L1 with BN\n",
            "EPOCH: 19\n"
          ],
          "name": "stdout"
        },
        {
          "output_type": "stream",
          "text": [
            "Loss=0.19118523597717285 Batch_id=468 Accuracy=99.03: 100%|██████████| 469/469 [00:16<00:00, 27.65it/s]"
          ],
          "name": "stderr"
        },
        {
          "output_type": "stream",
          "text": [
            "length of test dataset 10000\n"
          ],
          "name": "stdout"
        },
        {
          "output_type": "stream",
          "text": [
            "\n",
            "  0%|          | 0/469 [00:00<?, ?it/s]"
          ],
          "name": "stderr"
        },
        {
          "output_type": "stream",
          "text": [
            "\n",
            "Test set: Average loss: 0.0294, Accuracy: 9906/10000 (99.06%)\n",
            "\n",
            "CASE_2: with L1 with BN\n",
            "EPOCH: 20\n"
          ],
          "name": "stdout"
        },
        {
          "output_type": "stream",
          "text": [
            "Loss=0.2282162308692932 Batch_id=468 Accuracy=99.01: 100%|██████████| 469/469 [00:16<00:00, 27.64it/s]"
          ],
          "name": "stderr"
        },
        {
          "output_type": "stream",
          "text": [
            "length of test dataset 10000\n"
          ],
          "name": "stdout"
        },
        {
          "output_type": "stream",
          "text": [
            "\n",
            "  0%|          | 0/469 [00:00<?, ?it/s]"
          ],
          "name": "stderr"
        },
        {
          "output_type": "stream",
          "text": [
            "\n",
            "Test set: Average loss: 0.0317, Accuracy: 9898/10000 (98.98%)\n",
            "\n",
            "CASE_2: with L1 with BN\n",
            "EPOCH: 21\n"
          ],
          "name": "stdout"
        },
        {
          "output_type": "stream",
          "text": [
            "Loss=0.17369477450847626 Batch_id=468 Accuracy=99.00: 100%|██████████| 469/469 [00:16<00:00, 27.83it/s]"
          ],
          "name": "stderr"
        },
        {
          "output_type": "stream",
          "text": [
            "length of test dataset 10000\n"
          ],
          "name": "stdout"
        },
        {
          "output_type": "stream",
          "text": [
            "\n",
            "  0%|          | 0/469 [00:00<?, ?it/s]"
          ],
          "name": "stderr"
        },
        {
          "output_type": "stream",
          "text": [
            "\n",
            "Test set: Average loss: 0.0364, Accuracy: 9886/10000 (98.86%)\n",
            "\n",
            "CASE_2: with L1 with BN\n",
            "EPOCH: 22\n"
          ],
          "name": "stdout"
        },
        {
          "output_type": "stream",
          "text": [
            "Loss=0.24119143187999725 Batch_id=468 Accuracy=98.94: 100%|██████████| 469/469 [00:16<00:00, 28.02it/s]"
          ],
          "name": "stderr"
        },
        {
          "output_type": "stream",
          "text": [
            "length of test dataset 10000\n"
          ],
          "name": "stdout"
        },
        {
          "output_type": "stream",
          "text": [
            "\n",
            "  0%|          | 0/469 [00:00<?, ?it/s]"
          ],
          "name": "stderr"
        },
        {
          "output_type": "stream",
          "text": [
            "\n",
            "Test set: Average loss: 0.0543, Accuracy: 9830/10000 (98.30%)\n",
            "\n",
            "CASE_2: with L1 with BN\n",
            "EPOCH: 23\n"
          ],
          "name": "stdout"
        },
        {
          "output_type": "stream",
          "text": [
            "Loss=0.1700279861688614 Batch_id=468 Accuracy=99.15: 100%|██████████| 469/469 [00:16<00:00, 27.82it/s]"
          ],
          "name": "stderr"
        },
        {
          "output_type": "stream",
          "text": [
            "length of test dataset 10000\n"
          ],
          "name": "stdout"
        },
        {
          "output_type": "stream",
          "text": [
            "\n",
            "  0%|          | 0/469 [00:00<?, ?it/s]"
          ],
          "name": "stderr"
        },
        {
          "output_type": "stream",
          "text": [
            "\n",
            "Test set: Average loss: 0.0370, Accuracy: 9874/10000 (98.74%)\n",
            "\n",
            "CASE_2: with L1 with BN\n",
            "EPOCH: 24\n"
          ],
          "name": "stdout"
        },
        {
          "output_type": "stream",
          "text": [
            "Loss=0.3631562888622284 Batch_id=468 Accuracy=98.99: 100%|██████████| 469/469 [00:16<00:00, 27.84it/s]"
          ],
          "name": "stderr"
        },
        {
          "output_type": "stream",
          "text": [
            "length of test dataset 10000\n"
          ],
          "name": "stdout"
        },
        {
          "output_type": "stream",
          "text": [
            "\n",
            "  0%|          | 0/469 [00:00<?, ?it/s]"
          ],
          "name": "stderr"
        },
        {
          "output_type": "stream",
          "text": [
            "\n",
            "Test set: Average loss: 0.0332, Accuracy: 9894/10000 (98.94%)\n",
            "\n",
            "CASE_3: with L1 with GBN\n",
            "EPOCH: 0\n"
          ],
          "name": "stdout"
        },
        {
          "output_type": "stream",
          "text": [
            "Loss=0.21122799813747406 Batch_id=468 Accuracy=99.04: 100%|██████████| 469/469 [00:17<00:00, 27.52it/s]"
          ],
          "name": "stderr"
        },
        {
          "output_type": "stream",
          "text": [
            "length of test dataset 10000\n"
          ],
          "name": "stdout"
        },
        {
          "output_type": "stream",
          "text": [
            "\n",
            "  0%|          | 0/469 [00:00<?, ?it/s]"
          ],
          "name": "stderr"
        },
        {
          "output_type": "stream",
          "text": [
            "\n",
            "Test set: Average loss: 0.0289, Accuracy: 9909/10000 (99.09%)\n",
            "\n",
            "CASE_3: with L1 with GBN\n",
            "EPOCH: 1\n"
          ],
          "name": "stdout"
        },
        {
          "output_type": "stream",
          "text": [
            "Loss=0.21241120994091034 Batch_id=468 Accuracy=99.00: 100%|██████████| 469/469 [00:16<00:00, 27.64it/s]"
          ],
          "name": "stderr"
        },
        {
          "output_type": "stream",
          "text": [
            "length of test dataset 10000\n"
          ],
          "name": "stdout"
        },
        {
          "output_type": "stream",
          "text": [
            "\n",
            "  0%|          | 0/469 [00:00<?, ?it/s]"
          ],
          "name": "stderr"
        },
        {
          "output_type": "stream",
          "text": [
            "\n",
            "Test set: Average loss: 0.0295, Accuracy: 9913/10000 (99.13%)\n",
            "\n",
            "CASE_3: with L1 with GBN\n",
            "EPOCH: 2\n"
          ],
          "name": "stdout"
        },
        {
          "output_type": "stream",
          "text": [
            "Loss=0.34057337045669556 Batch_id=468 Accuracy=98.96: 100%|██████████| 469/469 [00:17<00:00, 27.32it/s]"
          ],
          "name": "stderr"
        },
        {
          "output_type": "stream",
          "text": [
            "length of test dataset 10000\n"
          ],
          "name": "stdout"
        },
        {
          "output_type": "stream",
          "text": [
            "\n",
            "  0%|          | 0/469 [00:00<?, ?it/s]"
          ],
          "name": "stderr"
        },
        {
          "output_type": "stream",
          "text": [
            "\n",
            "Test set: Average loss: 0.0338, Accuracy: 9905/10000 (99.05%)\n",
            "\n",
            "CASE_3: with L1 with GBN\n",
            "EPOCH: 3\n"
          ],
          "name": "stdout"
        },
        {
          "output_type": "stream",
          "text": [
            "Loss=0.22508329153060913 Batch_id=468 Accuracy=99.02: 100%|██████████| 469/469 [00:17<00:00, 27.46it/s]"
          ],
          "name": "stderr"
        },
        {
          "output_type": "stream",
          "text": [
            "length of test dataset 10000\n"
          ],
          "name": "stdout"
        },
        {
          "output_type": "stream",
          "text": [
            "\n",
            "  0%|          | 0/469 [00:00<?, ?it/s]"
          ],
          "name": "stderr"
        },
        {
          "output_type": "stream",
          "text": [
            "\n",
            "Test set: Average loss: 0.0241, Accuracy: 9920/10000 (99.20%)\n",
            "\n",
            "CASE_3: with L1 with GBN\n",
            "EPOCH: 4\n"
          ],
          "name": "stdout"
        },
        {
          "output_type": "stream",
          "text": [
            "Loss=0.2153346687555313 Batch_id=468 Accuracy=98.98: 100%|██████████| 469/469 [00:16<00:00, 27.78it/s]"
          ],
          "name": "stderr"
        },
        {
          "output_type": "stream",
          "text": [
            "length of test dataset 10000\n"
          ],
          "name": "stdout"
        },
        {
          "output_type": "stream",
          "text": [
            "\n",
            "  0%|          | 0/469 [00:00<?, ?it/s]"
          ],
          "name": "stderr"
        },
        {
          "output_type": "stream",
          "text": [
            "\n",
            "Test set: Average loss: 0.0299, Accuracy: 9905/10000 (99.05%)\n",
            "\n",
            "CASE_3: with L1 with GBN\n",
            "EPOCH: 5\n"
          ],
          "name": "stdout"
        },
        {
          "output_type": "stream",
          "text": [
            "Loss=0.26647305488586426 Batch_id=468 Accuracy=98.97: 100%|██████████| 469/469 [00:16<00:00, 27.75it/s]"
          ],
          "name": "stderr"
        },
        {
          "output_type": "stream",
          "text": [
            "length of test dataset 10000\n"
          ],
          "name": "stdout"
        },
        {
          "output_type": "stream",
          "text": [
            "\n",
            "  0%|          | 0/469 [00:00<?, ?it/s]"
          ],
          "name": "stderr"
        },
        {
          "output_type": "stream",
          "text": [
            "\n",
            "Test set: Average loss: 0.0273, Accuracy: 9919/10000 (99.19%)\n",
            "\n",
            "CASE_3: with L1 with GBN\n",
            "EPOCH: 6\n"
          ],
          "name": "stdout"
        },
        {
          "output_type": "stream",
          "text": [
            "Loss=0.23822441697120667 Batch_id=468 Accuracy=98.98: 100%|██████████| 469/469 [00:17<00:00, 27.01it/s]"
          ],
          "name": "stderr"
        },
        {
          "output_type": "stream",
          "text": [
            "length of test dataset 10000\n"
          ],
          "name": "stdout"
        },
        {
          "output_type": "stream",
          "text": [
            "\n",
            "  0%|          | 0/469 [00:00<?, ?it/s]"
          ],
          "name": "stderr"
        },
        {
          "output_type": "stream",
          "text": [
            "\n",
            "Test set: Average loss: 0.0282, Accuracy: 9907/10000 (99.07%)\n",
            "\n",
            "CASE_3: with L1 with GBN\n",
            "EPOCH: 7\n"
          ],
          "name": "stdout"
        },
        {
          "output_type": "stream",
          "text": [
            "Loss=0.2090759426355362 Batch_id=468 Accuracy=98.92: 100%|██████████| 469/469 [00:17<00:00, 27.18it/s]"
          ],
          "name": "stderr"
        },
        {
          "output_type": "stream",
          "text": [
            "length of test dataset 10000\n"
          ],
          "name": "stdout"
        },
        {
          "output_type": "stream",
          "text": [
            "\n",
            "  0%|          | 0/469 [00:00<?, ?it/s]"
          ],
          "name": "stderr"
        },
        {
          "output_type": "stream",
          "text": [
            "\n",
            "Test set: Average loss: 0.0289, Accuracy: 9916/10000 (99.16%)\n",
            "\n",
            "CASE_3: with L1 with GBN\n",
            "EPOCH: 8\n"
          ],
          "name": "stdout"
        },
        {
          "output_type": "stream",
          "text": [
            "Loss=0.17595161497592926 Batch_id=468 Accuracy=99.02: 100%|██████████| 469/469 [00:16<00:00, 27.80it/s]"
          ],
          "name": "stderr"
        },
        {
          "output_type": "stream",
          "text": [
            "length of test dataset 10000\n"
          ],
          "name": "stdout"
        },
        {
          "output_type": "stream",
          "text": [
            "\n",
            "  0%|          | 0/469 [00:00<?, ?it/s]"
          ],
          "name": "stderr"
        },
        {
          "output_type": "stream",
          "text": [
            "\n",
            "Test set: Average loss: 0.0289, Accuracy: 9904/10000 (99.04%)\n",
            "\n",
            "CASE_3: with L1 with GBN\n",
            "EPOCH: 9\n"
          ],
          "name": "stdout"
        },
        {
          "output_type": "stream",
          "text": [
            "Loss=0.18233923614025116 Batch_id=468 Accuracy=98.94: 100%|██████████| 469/469 [00:16<00:00, 27.70it/s]"
          ],
          "name": "stderr"
        },
        {
          "output_type": "stream",
          "text": [
            "length of test dataset 10000\n"
          ],
          "name": "stdout"
        },
        {
          "output_type": "stream",
          "text": [
            "\n",
            "  0%|          | 0/469 [00:00<?, ?it/s]"
          ],
          "name": "stderr"
        },
        {
          "output_type": "stream",
          "text": [
            "\n",
            "Test set: Average loss: 0.0466, Accuracy: 9861/10000 (98.61%)\n",
            "\n",
            "CASE_3: with L1 with GBN\n",
            "EPOCH: 10\n"
          ],
          "name": "stdout"
        },
        {
          "output_type": "stream",
          "text": [
            "Loss=0.17152753472328186 Batch_id=468 Accuracy=98.95: 100%|██████████| 469/469 [00:16<00:00, 27.83it/s]"
          ],
          "name": "stderr"
        },
        {
          "output_type": "stream",
          "text": [
            "length of test dataset 10000\n"
          ],
          "name": "stdout"
        },
        {
          "output_type": "stream",
          "text": [
            "\n",
            "  0%|          | 0/469 [00:00<?, ?it/s]"
          ],
          "name": "stderr"
        },
        {
          "output_type": "stream",
          "text": [
            "\n",
            "Test set: Average loss: 0.0285, Accuracy: 9919/10000 (99.19%)\n",
            "\n",
            "CASE_3: with L1 with GBN\n",
            "EPOCH: 11\n"
          ],
          "name": "stdout"
        },
        {
          "output_type": "stream",
          "text": [
            "Loss=0.16964642703533173 Batch_id=468 Accuracy=98.99: 100%|██████████| 469/469 [00:16<00:00, 27.71it/s]"
          ],
          "name": "stderr"
        },
        {
          "output_type": "stream",
          "text": [
            "length of test dataset 10000\n"
          ],
          "name": "stdout"
        },
        {
          "output_type": "stream",
          "text": [
            "\n",
            "  0%|          | 0/469 [00:00<?, ?it/s]"
          ],
          "name": "stderr"
        },
        {
          "output_type": "stream",
          "text": [
            "\n",
            "Test set: Average loss: 0.0288, Accuracy: 9905/10000 (99.05%)\n",
            "\n",
            "CASE_3: with L1 with GBN\n",
            "EPOCH: 12\n"
          ],
          "name": "stdout"
        },
        {
          "output_type": "stream",
          "text": [
            "Loss=0.31364116072654724 Batch_id=468 Accuracy=98.95: 100%|██████████| 469/469 [00:17<00:00, 27.45it/s]"
          ],
          "name": "stderr"
        },
        {
          "output_type": "stream",
          "text": [
            "length of test dataset 10000\n"
          ],
          "name": "stdout"
        },
        {
          "output_type": "stream",
          "text": [
            "\n",
            "  0%|          | 0/469 [00:00<?, ?it/s]"
          ],
          "name": "stderr"
        },
        {
          "output_type": "stream",
          "text": [
            "\n",
            "Test set: Average loss: 0.0356, Accuracy: 9893/10000 (98.93%)\n",
            "\n",
            "CASE_3: with L1 with GBN\n",
            "EPOCH: 13\n"
          ],
          "name": "stdout"
        },
        {
          "output_type": "stream",
          "text": [
            "Loss=0.22274735569953918 Batch_id=468 Accuracy=99.01: 100%|██████████| 469/469 [00:16<00:00, 27.65it/s]"
          ],
          "name": "stderr"
        },
        {
          "output_type": "stream",
          "text": [
            "length of test dataset 10000\n"
          ],
          "name": "stdout"
        },
        {
          "output_type": "stream",
          "text": [
            "\n",
            "  0%|          | 0/469 [00:00<?, ?it/s]"
          ],
          "name": "stderr"
        },
        {
          "output_type": "stream",
          "text": [
            "\n",
            "Test set: Average loss: 0.0266, Accuracy: 9923/10000 (99.23%)\n",
            "\n",
            "CASE_3: with L1 with GBN\n",
            "EPOCH: 14\n"
          ],
          "name": "stdout"
        },
        {
          "output_type": "stream",
          "text": [
            "Loss=0.1862277388572693 Batch_id=468 Accuracy=99.00: 100%|██████████| 469/469 [00:16<00:00, 27.76it/s]"
          ],
          "name": "stderr"
        },
        {
          "output_type": "stream",
          "text": [
            "length of test dataset 10000\n"
          ],
          "name": "stdout"
        },
        {
          "output_type": "stream",
          "text": [
            "\n",
            "  0%|          | 0/469 [00:00<?, ?it/s]"
          ],
          "name": "stderr"
        },
        {
          "output_type": "stream",
          "text": [
            "\n",
            "Test set: Average loss: 0.0290, Accuracy: 9902/10000 (99.02%)\n",
            "\n",
            "CASE_3: with L1 with GBN\n",
            "EPOCH: 15\n"
          ],
          "name": "stdout"
        },
        {
          "output_type": "stream",
          "text": [
            "Loss=0.16210311651229858 Batch_id=468 Accuracy=99.00: 100%|██████████| 469/469 [00:17<00:00, 27.54it/s]"
          ],
          "name": "stderr"
        },
        {
          "output_type": "stream",
          "text": [
            "length of test dataset 10000\n"
          ],
          "name": "stdout"
        },
        {
          "output_type": "stream",
          "text": [
            "\n",
            "  0%|          | 0/469 [00:00<?, ?it/s]"
          ],
          "name": "stderr"
        },
        {
          "output_type": "stream",
          "text": [
            "\n",
            "Test set: Average loss: 0.0245, Accuracy: 9914/10000 (99.14%)\n",
            "\n",
            "CASE_3: with L1 with GBN\n",
            "EPOCH: 16\n"
          ],
          "name": "stdout"
        },
        {
          "output_type": "stream",
          "text": [
            "Loss=0.3167811930179596 Batch_id=468 Accuracy=98.94: 100%|██████████| 469/469 [00:17<00:00, 27.41it/s]"
          ],
          "name": "stderr"
        },
        {
          "output_type": "stream",
          "text": [
            "length of test dataset 10000\n"
          ],
          "name": "stdout"
        },
        {
          "output_type": "stream",
          "text": [
            "\n",
            "  0%|          | 0/469 [00:00<?, ?it/s]"
          ],
          "name": "stderr"
        },
        {
          "output_type": "stream",
          "text": [
            "\n",
            "Test set: Average loss: 0.0326, Accuracy: 9900/10000 (99.00%)\n",
            "\n",
            "CASE_3: with L1 with GBN\n",
            "EPOCH: 17\n"
          ],
          "name": "stdout"
        },
        {
          "output_type": "stream",
          "text": [
            "Loss=0.19235511124134064 Batch_id=468 Accuracy=99.05: 100%|██████████| 469/469 [00:17<00:00, 27.51it/s]\n"
          ],
          "name": "stderr"
        },
        {
          "output_type": "stream",
          "text": [
            "length of test dataset 10000\n"
          ],
          "name": "stdout"
        },
        {
          "output_type": "stream",
          "text": [
            "\r  0%|          | 0/469 [00:00<?, ?it/s]"
          ],
          "name": "stderr"
        },
        {
          "output_type": "stream",
          "text": [
            "\n",
            "Test set: Average loss: 0.0286, Accuracy: 9908/10000 (99.08%)\n",
            "\n",
            "CASE_3: with L1 with GBN\n",
            "EPOCH: 18\n"
          ],
          "name": "stdout"
        },
        {
          "output_type": "stream",
          "text": [
            "Loss=0.16056302189826965 Batch_id=468 Accuracy=99.00: 100%|██████████| 469/469 [00:16<00:00, 27.83it/s]"
          ],
          "name": "stderr"
        },
        {
          "output_type": "stream",
          "text": [
            "length of test dataset 10000\n"
          ],
          "name": "stdout"
        },
        {
          "output_type": "stream",
          "text": [
            "\n",
            "  0%|          | 0/469 [00:00<?, ?it/s]"
          ],
          "name": "stderr"
        },
        {
          "output_type": "stream",
          "text": [
            "\n",
            "Test set: Average loss: 0.0268, Accuracy: 9924/10000 (99.24%)\n",
            "\n",
            "CASE_3: with L1 with GBN\n",
            "EPOCH: 19\n"
          ],
          "name": "stdout"
        },
        {
          "output_type": "stream",
          "text": [
            "Loss=0.1722627580165863 Batch_id=468 Accuracy=99.01: 100%|██████████| 469/469 [00:16<00:00, 27.80it/s]"
          ],
          "name": "stderr"
        },
        {
          "output_type": "stream",
          "text": [
            "length of test dataset 10000\n"
          ],
          "name": "stdout"
        },
        {
          "output_type": "stream",
          "text": [
            "\n",
            "  0%|          | 0/469 [00:00<?, ?it/s]"
          ],
          "name": "stderr"
        },
        {
          "output_type": "stream",
          "text": [
            "\n",
            "Test set: Average loss: 0.0389, Accuracy: 9881/10000 (98.81%)\n",
            "\n",
            "CASE_3: with L1 with GBN\n",
            "EPOCH: 20\n"
          ],
          "name": "stdout"
        },
        {
          "output_type": "stream",
          "text": [
            "Loss=0.15959185361862183 Batch_id=468 Accuracy=99.03: 100%|██████████| 469/469 [00:17<00:00, 27.18it/s]"
          ],
          "name": "stderr"
        },
        {
          "output_type": "stream",
          "text": [
            "length of test dataset 10000\n"
          ],
          "name": "stdout"
        },
        {
          "output_type": "stream",
          "text": [
            "\n",
            "  0%|          | 0/469 [00:00<?, ?it/s]"
          ],
          "name": "stderr"
        },
        {
          "output_type": "stream",
          "text": [
            "\n",
            "Test set: Average loss: 0.0284, Accuracy: 9912/10000 (99.12%)\n",
            "\n",
            "CASE_3: with L1 with GBN\n",
            "EPOCH: 21\n"
          ],
          "name": "stdout"
        },
        {
          "output_type": "stream",
          "text": [
            "Loss=0.1666063368320465 Batch_id=468 Accuracy=98.99: 100%|██████████| 469/469 [00:17<00:00, 27.53it/s]"
          ],
          "name": "stderr"
        },
        {
          "output_type": "stream",
          "text": [
            "length of test dataset 10000\n"
          ],
          "name": "stdout"
        },
        {
          "output_type": "stream",
          "text": [
            "\n",
            "  0%|          | 0/469 [00:00<?, ?it/s]"
          ],
          "name": "stderr"
        },
        {
          "output_type": "stream",
          "text": [
            "\n",
            "Test set: Average loss: 0.0292, Accuracy: 9913/10000 (99.13%)\n",
            "\n",
            "CASE_3: with L1 with GBN\n",
            "EPOCH: 22\n"
          ],
          "name": "stdout"
        },
        {
          "output_type": "stream",
          "text": [
            "Loss=0.2027299702167511 Batch_id=468 Accuracy=99.02: 100%|██████████| 469/469 [00:17<00:00, 27.52it/s]"
          ],
          "name": "stderr"
        },
        {
          "output_type": "stream",
          "text": [
            "length of test dataset 10000\n"
          ],
          "name": "stdout"
        },
        {
          "output_type": "stream",
          "text": [
            "\n",
            "  0%|          | 0/469 [00:00<?, ?it/s]"
          ],
          "name": "stderr"
        },
        {
          "output_type": "stream",
          "text": [
            "\n",
            "Test set: Average loss: 0.0286, Accuracy: 9911/10000 (99.11%)\n",
            "\n",
            "CASE_3: with L1 with GBN\n",
            "EPOCH: 23\n"
          ],
          "name": "stdout"
        },
        {
          "output_type": "stream",
          "text": [
            "Loss=0.22687667608261108 Batch_id=468 Accuracy=99.00: 100%|██████████| 469/469 [00:17<00:00, 27.20it/s]"
          ],
          "name": "stderr"
        },
        {
          "output_type": "stream",
          "text": [
            "length of test dataset 10000\n"
          ],
          "name": "stdout"
        },
        {
          "output_type": "stream",
          "text": [
            "\n",
            "  0%|          | 0/469 [00:00<?, ?it/s]"
          ],
          "name": "stderr"
        },
        {
          "output_type": "stream",
          "text": [
            "\n",
            "Test set: Average loss: 0.0280, Accuracy: 9911/10000 (99.11%)\n",
            "\n",
            "CASE_3: with L1 with GBN\n",
            "EPOCH: 24\n"
          ],
          "name": "stdout"
        },
        {
          "output_type": "stream",
          "text": [
            "Loss=0.16367588937282562 Batch_id=468 Accuracy=99.02: 100%|██████████| 469/469 [00:17<00:00, 27.31it/s]"
          ],
          "name": "stderr"
        },
        {
          "output_type": "stream",
          "text": [
            "length of test dataset 10000\n"
          ],
          "name": "stdout"
        },
        {
          "output_type": "stream",
          "text": [
            "\n",
            "  0%|          | 0/469 [00:00<?, ?it/s]"
          ],
          "name": "stderr"
        },
        {
          "output_type": "stream",
          "text": [
            "\n",
            "Test set: Average loss: 0.0308, Accuracy: 9900/10000 (99.00%)\n",
            "\n",
            "CASE_4: with L2 with BN\n",
            "EPOCH: 0\n"
          ],
          "name": "stdout"
        },
        {
          "output_type": "stream",
          "text": [
            "Loss=0.008097459562122822 Batch_id=468 Accuracy=99.33: 100%|██████████| 469/469 [00:15<00:00, 30.75it/s]"
          ],
          "name": "stderr"
        },
        {
          "output_type": "stream",
          "text": [
            "length of test dataset 10000\n"
          ],
          "name": "stdout"
        },
        {
          "output_type": "stream",
          "text": [
            "\n",
            "  0%|          | 0/469 [00:00<?, ?it/s]"
          ],
          "name": "stderr"
        },
        {
          "output_type": "stream",
          "text": [
            "\n",
            "Test set: Average loss: 0.0217, Accuracy: 9927/10000 (99.27%)\n",
            "\n",
            "CASE_4: with L2 with BN\n",
            "EPOCH: 1\n"
          ],
          "name": "stdout"
        },
        {
          "output_type": "stream",
          "text": [
            "Loss=0.012999147176742554 Batch_id=468 Accuracy=99.39: 100%|██████████| 469/469 [00:15<00:00, 31.10it/s]"
          ],
          "name": "stderr"
        },
        {
          "output_type": "stream",
          "text": [
            "length of test dataset 10000\n"
          ],
          "name": "stdout"
        },
        {
          "output_type": "stream",
          "text": [
            "\n",
            "  0%|          | 0/469 [00:00<?, ?it/s]"
          ],
          "name": "stderr"
        },
        {
          "output_type": "stream",
          "text": [
            "\n",
            "Test set: Average loss: 0.0208, Accuracy: 9930/10000 (99.30%)\n",
            "\n",
            "CASE_4: with L2 with BN\n",
            "EPOCH: 2\n"
          ],
          "name": "stdout"
        },
        {
          "output_type": "stream",
          "text": [
            "Loss=0.007504900451749563 Batch_id=468 Accuracy=99.44: 100%|██████████| 469/469 [00:15<00:00, 30.91it/s]"
          ],
          "name": "stderr"
        },
        {
          "output_type": "stream",
          "text": [
            "length of test dataset 10000\n"
          ],
          "name": "stdout"
        },
        {
          "output_type": "stream",
          "text": [
            "\n",
            "  0%|          | 0/469 [00:00<?, ?it/s]"
          ],
          "name": "stderr"
        },
        {
          "output_type": "stream",
          "text": [
            "\n",
            "Test set: Average loss: 0.0227, Accuracy: 9926/10000 (99.26%)\n",
            "\n",
            "CASE_4: with L2 with BN\n",
            "EPOCH: 3\n"
          ],
          "name": "stdout"
        },
        {
          "output_type": "stream",
          "text": [
            "Loss=0.08120010048151016 Batch_id=468 Accuracy=99.45: 100%|██████████| 469/469 [00:15<00:00, 30.92it/s]"
          ],
          "name": "stderr"
        },
        {
          "output_type": "stream",
          "text": [
            "length of test dataset 10000\n"
          ],
          "name": "stdout"
        },
        {
          "output_type": "stream",
          "text": [
            "\n",
            "  0%|          | 0/469 [00:00<?, ?it/s]"
          ],
          "name": "stderr"
        },
        {
          "output_type": "stream",
          "text": [
            "\n",
            "Test set: Average loss: 0.0227, Accuracy: 9925/10000 (99.25%)\n",
            "\n",
            "CASE_4: with L2 with BN\n",
            "EPOCH: 4\n"
          ],
          "name": "stdout"
        },
        {
          "output_type": "stream",
          "text": [
            "Loss=0.013659941963851452 Batch_id=468 Accuracy=99.47: 100%|██████████| 469/469 [00:15<00:00, 30.55it/s]"
          ],
          "name": "stderr"
        },
        {
          "output_type": "stream",
          "text": [
            "length of test dataset 10000\n"
          ],
          "name": "stdout"
        },
        {
          "output_type": "stream",
          "text": [
            "\n",
            "  0%|          | 0/469 [00:00<?, ?it/s]"
          ],
          "name": "stderr"
        },
        {
          "output_type": "stream",
          "text": [
            "\n",
            "Test set: Average loss: 0.0217, Accuracy: 9935/10000 (99.35%)\n",
            "\n",
            "CASE_4: with L2 with BN\n",
            "EPOCH: 5\n"
          ],
          "name": "stdout"
        },
        {
          "output_type": "stream",
          "text": [
            "Loss=0.019337231293320656 Batch_id=468 Accuracy=99.49: 100%|██████████| 469/469 [00:15<00:00, 31.17it/s]"
          ],
          "name": "stderr"
        },
        {
          "output_type": "stream",
          "text": [
            "length of test dataset 10000\n"
          ],
          "name": "stdout"
        },
        {
          "output_type": "stream",
          "text": [
            "\n",
            "  0%|          | 0/469 [00:00<?, ?it/s]"
          ],
          "name": "stderr"
        },
        {
          "output_type": "stream",
          "text": [
            "\n",
            "Test set: Average loss: 0.0227, Accuracy: 9920/10000 (99.20%)\n",
            "\n",
            "CASE_4: with L2 with BN\n",
            "EPOCH: 6\n"
          ],
          "name": "stdout"
        },
        {
          "output_type": "stream",
          "text": [
            "Loss=0.01433531939983368 Batch_id=468 Accuracy=99.51: 100%|██████████| 469/469 [00:15<00:00, 31.15it/s]"
          ],
          "name": "stderr"
        },
        {
          "output_type": "stream",
          "text": [
            "length of test dataset 10000\n"
          ],
          "name": "stdout"
        },
        {
          "output_type": "stream",
          "text": [
            "\n",
            "  0%|          | 0/469 [00:00<?, ?it/s]"
          ],
          "name": "stderr"
        },
        {
          "output_type": "stream",
          "text": [
            "\n",
            "Test set: Average loss: 0.0192, Accuracy: 9944/10000 (99.44%)\n",
            "\n",
            "CASE_4: with L2 with BN\n",
            "EPOCH: 7\n"
          ],
          "name": "stdout"
        },
        {
          "output_type": "stream",
          "text": [
            "Loss=0.010334263555705547 Batch_id=468 Accuracy=99.53: 100%|██████████| 469/469 [00:15<00:00, 30.99it/s]"
          ],
          "name": "stderr"
        },
        {
          "output_type": "stream",
          "text": [
            "length of test dataset 10000\n"
          ],
          "name": "stdout"
        },
        {
          "output_type": "stream",
          "text": [
            "\n",
            "  0%|          | 0/469 [00:00<?, ?it/s]"
          ],
          "name": "stderr"
        },
        {
          "output_type": "stream",
          "text": [
            "\n",
            "Test set: Average loss: 0.0199, Accuracy: 9930/10000 (99.30%)\n",
            "\n",
            "CASE_4: with L2 with BN\n",
            "EPOCH: 8\n"
          ],
          "name": "stdout"
        },
        {
          "output_type": "stream",
          "text": [
            "Loss=0.03647033870220184 Batch_id=468 Accuracy=99.52: 100%|██████████| 469/469 [00:15<00:00, 30.88it/s]"
          ],
          "name": "stderr"
        },
        {
          "output_type": "stream",
          "text": [
            "length of test dataset 10000\n"
          ],
          "name": "stdout"
        },
        {
          "output_type": "stream",
          "text": [
            "\n",
            "  0%|          | 0/469 [00:00<?, ?it/s]"
          ],
          "name": "stderr"
        },
        {
          "output_type": "stream",
          "text": [
            "\n",
            "Test set: Average loss: 0.0204, Accuracy: 9938/10000 (99.38%)\n",
            "\n",
            "CASE_4: with L2 with BN\n",
            "EPOCH: 9\n"
          ],
          "name": "stdout"
        },
        {
          "output_type": "stream",
          "text": [
            "Loss=0.03784719109535217 Batch_id=468 Accuracy=99.55: 100%|██████████| 469/469 [00:15<00:00, 30.39it/s]"
          ],
          "name": "stderr"
        },
        {
          "output_type": "stream",
          "text": [
            "length of test dataset 10000\n"
          ],
          "name": "stdout"
        },
        {
          "output_type": "stream",
          "text": [
            "\n",
            "  0%|          | 0/469 [00:00<?, ?it/s]"
          ],
          "name": "stderr"
        },
        {
          "output_type": "stream",
          "text": [
            "\n",
            "Test set: Average loss: 0.0195, Accuracy: 9936/10000 (99.36%)\n",
            "\n",
            "CASE_4: with L2 with BN\n",
            "EPOCH: 10\n"
          ],
          "name": "stdout"
        },
        {
          "output_type": "stream",
          "text": [
            "Loss=0.006330867763608694 Batch_id=468 Accuracy=99.54: 100%|██████████| 469/469 [00:15<00:00, 30.85it/s]"
          ],
          "name": "stderr"
        },
        {
          "output_type": "stream",
          "text": [
            "length of test dataset 10000\n"
          ],
          "name": "stdout"
        },
        {
          "output_type": "stream",
          "text": [
            "\n",
            "  0%|          | 0/469 [00:00<?, ?it/s]"
          ],
          "name": "stderr"
        },
        {
          "output_type": "stream",
          "text": [
            "\n",
            "Test set: Average loss: 0.0194, Accuracy: 9942/10000 (99.42%)\n",
            "\n",
            "CASE_4: with L2 with BN\n",
            "EPOCH: 11\n"
          ],
          "name": "stdout"
        },
        {
          "output_type": "stream",
          "text": [
            "Loss=0.01920725405216217 Batch_id=468 Accuracy=99.53: 100%|██████████| 469/469 [00:15<00:00, 30.92it/s]"
          ],
          "name": "stderr"
        },
        {
          "output_type": "stream",
          "text": [
            "length of test dataset 10000\n"
          ],
          "name": "stdout"
        },
        {
          "output_type": "stream",
          "text": [
            "\n",
            "  0%|          | 0/469 [00:00<?, ?it/s]"
          ],
          "name": "stderr"
        },
        {
          "output_type": "stream",
          "text": [
            "\n",
            "Test set: Average loss: 0.0194, Accuracy: 9938/10000 (99.38%)\n",
            "\n",
            "CASE_4: with L2 with BN\n",
            "EPOCH: 12\n"
          ],
          "name": "stdout"
        },
        {
          "output_type": "stream",
          "text": [
            "Loss=0.03531360998749733 Batch_id=468 Accuracy=99.54: 100%|██████████| 469/469 [00:15<00:00, 30.72it/s]"
          ],
          "name": "stderr"
        },
        {
          "output_type": "stream",
          "text": [
            "length of test dataset 10000\n"
          ],
          "name": "stdout"
        },
        {
          "output_type": "stream",
          "text": [
            "\n",
            "  0%|          | 0/469 [00:00<?, ?it/s]"
          ],
          "name": "stderr"
        },
        {
          "output_type": "stream",
          "text": [
            "\n",
            "Test set: Average loss: 0.0202, Accuracy: 9935/10000 (99.35%)\n",
            "\n",
            "CASE_4: with L2 with BN\n",
            "EPOCH: 13\n"
          ],
          "name": "stdout"
        },
        {
          "output_type": "stream",
          "text": [
            "Loss=0.009017418138682842 Batch_id=468 Accuracy=99.58: 100%|██████████| 469/469 [00:15<00:00, 30.73it/s]"
          ],
          "name": "stderr"
        },
        {
          "output_type": "stream",
          "text": [
            "length of test dataset 10000\n"
          ],
          "name": "stdout"
        },
        {
          "output_type": "stream",
          "text": [
            "\n",
            "  0%|          | 0/469 [00:00<?, ?it/s]"
          ],
          "name": "stderr"
        },
        {
          "output_type": "stream",
          "text": [
            "\n",
            "Test set: Average loss: 0.0203, Accuracy: 9933/10000 (99.33%)\n",
            "\n",
            "CASE_4: with L2 with BN\n",
            "EPOCH: 14\n"
          ],
          "name": "stdout"
        },
        {
          "output_type": "stream",
          "text": [
            "Loss=0.0018034925451502204 Batch_id=468 Accuracy=99.58: 100%|██████████| 469/469 [00:15<00:00, 30.77it/s]"
          ],
          "name": "stderr"
        },
        {
          "output_type": "stream",
          "text": [
            "length of test dataset 10000\n"
          ],
          "name": "stdout"
        },
        {
          "output_type": "stream",
          "text": [
            "\n",
            "  0%|          | 0/469 [00:00<?, ?it/s]"
          ],
          "name": "stderr"
        },
        {
          "output_type": "stream",
          "text": [
            "\n",
            "Test set: Average loss: 0.0193, Accuracy: 9931/10000 (99.31%)\n",
            "\n",
            "CASE_4: with L2 with BN\n",
            "EPOCH: 15\n"
          ],
          "name": "stdout"
        },
        {
          "output_type": "stream",
          "text": [
            "Loss=0.009544442407786846 Batch_id=468 Accuracy=99.58: 100%|██████████| 469/469 [00:15<00:00, 30.82it/s]"
          ],
          "name": "stderr"
        },
        {
          "output_type": "stream",
          "text": [
            "length of test dataset 10000\n"
          ],
          "name": "stdout"
        },
        {
          "output_type": "stream",
          "text": [
            "\n",
            "  0%|          | 0/469 [00:00<?, ?it/s]"
          ],
          "name": "stderr"
        },
        {
          "output_type": "stream",
          "text": [
            "\n",
            "Test set: Average loss: 0.0204, Accuracy: 9937/10000 (99.37%)\n",
            "\n",
            "CASE_4: with L2 with BN\n",
            "EPOCH: 16\n"
          ],
          "name": "stdout"
        },
        {
          "output_type": "stream",
          "text": [
            "Loss=0.002449735999107361 Batch_id=468 Accuracy=99.62: 100%|██████████| 469/469 [00:15<00:00, 30.39it/s]"
          ],
          "name": "stderr"
        },
        {
          "output_type": "stream",
          "text": [
            "length of test dataset 10000\n"
          ],
          "name": "stdout"
        },
        {
          "output_type": "stream",
          "text": [
            "\n",
            "  0%|          | 0/469 [00:00<?, ?it/s]"
          ],
          "name": "stderr"
        },
        {
          "output_type": "stream",
          "text": [
            "\n",
            "Test set: Average loss: 0.0206, Accuracy: 9933/10000 (99.33%)\n",
            "\n",
            "CASE_4: with L2 with BN\n",
            "EPOCH: 17\n"
          ],
          "name": "stdout"
        },
        {
          "output_type": "stream",
          "text": [
            "Loss=0.004812201019376516 Batch_id=468 Accuracy=99.64: 100%|██████████| 469/469 [00:15<00:00, 30.63it/s]"
          ],
          "name": "stderr"
        },
        {
          "output_type": "stream",
          "text": [
            "length of test dataset 10000\n"
          ],
          "name": "stdout"
        },
        {
          "output_type": "stream",
          "text": [
            "\n",
            "  0%|          | 0/469 [00:00<?, ?it/s]"
          ],
          "name": "stderr"
        },
        {
          "output_type": "stream",
          "text": [
            "\n",
            "Test set: Average loss: 0.0184, Accuracy: 9943/10000 (99.43%)\n",
            "\n",
            "CASE_4: with L2 with BN\n",
            "EPOCH: 18\n"
          ],
          "name": "stdout"
        },
        {
          "output_type": "stream",
          "text": [
            "Loss=0.007439976092427969 Batch_id=468 Accuracy=99.58: 100%|██████████| 469/469 [00:15<00:00, 30.91it/s]"
          ],
          "name": "stderr"
        },
        {
          "output_type": "stream",
          "text": [
            "length of test dataset 10000\n"
          ],
          "name": "stdout"
        },
        {
          "output_type": "stream",
          "text": [
            "\n",
            "  0%|          | 0/469 [00:00<?, ?it/s]"
          ],
          "name": "stderr"
        },
        {
          "output_type": "stream",
          "text": [
            "\n",
            "Test set: Average loss: 0.0185, Accuracy: 9940/10000 (99.40%)\n",
            "\n",
            "CASE_4: with L2 with BN\n",
            "EPOCH: 19\n"
          ],
          "name": "stdout"
        },
        {
          "output_type": "stream",
          "text": [
            "Loss=0.0035992960911244154 Batch_id=468 Accuracy=99.61: 100%|██████████| 469/469 [00:15<00:00, 31.16it/s]"
          ],
          "name": "stderr"
        },
        {
          "output_type": "stream",
          "text": [
            "length of test dataset 10000\n"
          ],
          "name": "stdout"
        },
        {
          "output_type": "stream",
          "text": [
            "\n",
            "  0%|          | 0/469 [00:00<?, ?it/s]"
          ],
          "name": "stderr"
        },
        {
          "output_type": "stream",
          "text": [
            "\n",
            "Test set: Average loss: 0.0184, Accuracy: 9942/10000 (99.42%)\n",
            "\n",
            "CASE_4: with L2 with BN\n",
            "EPOCH: 20\n"
          ],
          "name": "stdout"
        },
        {
          "output_type": "stream",
          "text": [
            "Loss=0.001837506890296936 Batch_id=468 Accuracy=99.62: 100%|██████████| 469/469 [00:15<00:00, 31.06it/s]"
          ],
          "name": "stderr"
        },
        {
          "output_type": "stream",
          "text": [
            "length of test dataset 10000\n"
          ],
          "name": "stdout"
        },
        {
          "output_type": "stream",
          "text": [
            "\n",
            "  0%|          | 0/469 [00:00<?, ?it/s]"
          ],
          "name": "stderr"
        },
        {
          "output_type": "stream",
          "text": [
            "\n",
            "Test set: Average loss: 0.0206, Accuracy: 9923/10000 (99.23%)\n",
            "\n",
            "CASE_4: with L2 with BN\n",
            "EPOCH: 21\n"
          ],
          "name": "stdout"
        },
        {
          "output_type": "stream",
          "text": [
            "Loss=0.010451440699398518 Batch_id=468 Accuracy=99.67: 100%|██████████| 469/469 [00:15<00:00, 31.12it/s]"
          ],
          "name": "stderr"
        },
        {
          "output_type": "stream",
          "text": [
            "length of test dataset 10000\n"
          ],
          "name": "stdout"
        },
        {
          "output_type": "stream",
          "text": [
            "\n",
            "  0%|          | 0/469 [00:00<?, ?it/s]"
          ],
          "name": "stderr"
        },
        {
          "output_type": "stream",
          "text": [
            "\n",
            "Test set: Average loss: 0.0203, Accuracy: 9934/10000 (99.34%)\n",
            "\n",
            "CASE_4: with L2 with BN\n",
            "EPOCH: 22\n"
          ],
          "name": "stdout"
        },
        {
          "output_type": "stream",
          "text": [
            "Loss=0.009467065334320068 Batch_id=468 Accuracy=99.61: 100%|██████████| 469/469 [00:15<00:00, 31.24it/s]"
          ],
          "name": "stderr"
        },
        {
          "output_type": "stream",
          "text": [
            "length of test dataset 10000\n"
          ],
          "name": "stdout"
        },
        {
          "output_type": "stream",
          "text": [
            "\n",
            "  0%|          | 0/469 [00:00<?, ?it/s]"
          ],
          "name": "stderr"
        },
        {
          "output_type": "stream",
          "text": [
            "\n",
            "Test set: Average loss: 0.0195, Accuracy: 9934/10000 (99.34%)\n",
            "\n",
            "CASE_4: with L2 with BN\n",
            "EPOCH: 23\n"
          ],
          "name": "stdout"
        },
        {
          "output_type": "stream",
          "text": [
            "Loss=0.010288874618709087 Batch_id=468 Accuracy=99.60: 100%|██████████| 469/469 [00:15<00:00, 30.51it/s]"
          ],
          "name": "stderr"
        },
        {
          "output_type": "stream",
          "text": [
            "length of test dataset 10000\n"
          ],
          "name": "stdout"
        },
        {
          "output_type": "stream",
          "text": [
            "\n",
            "  0%|          | 0/469 [00:00<?, ?it/s]"
          ],
          "name": "stderr"
        },
        {
          "output_type": "stream",
          "text": [
            "\n",
            "Test set: Average loss: 0.0194, Accuracy: 9943/10000 (99.43%)\n",
            "\n",
            "CASE_4: with L2 with BN\n",
            "EPOCH: 24\n"
          ],
          "name": "stdout"
        },
        {
          "output_type": "stream",
          "text": [
            "Loss=0.01455796230584383 Batch_id=468 Accuracy=99.64: 100%|██████████| 469/469 [00:15<00:00, 31.04it/s]"
          ],
          "name": "stderr"
        },
        {
          "output_type": "stream",
          "text": [
            "length of test dataset 10000\n"
          ],
          "name": "stdout"
        },
        {
          "output_type": "stream",
          "text": [
            "\n",
            "  0%|          | 0/469 [00:00<?, ?it/s]"
          ],
          "name": "stderr"
        },
        {
          "output_type": "stream",
          "text": [
            "\n",
            "Test set: Average loss: 0.0202, Accuracy: 9940/10000 (99.40%)\n",
            "\n",
            "CASE_5: with L2 with GBN\n",
            "EPOCH: 0\n"
          ],
          "name": "stdout"
        },
        {
          "output_type": "stream",
          "text": [
            "Loss=0.00925967562943697 Batch_id=468 Accuracy=99.33: 100%|██████████| 469/469 [00:15<00:00, 30.93it/s]"
          ],
          "name": "stderr"
        },
        {
          "output_type": "stream",
          "text": [
            "length of test dataset 10000\n"
          ],
          "name": "stdout"
        },
        {
          "output_type": "stream",
          "text": [
            "\n",
            "  0%|          | 0/469 [00:00<?, ?it/s]"
          ],
          "name": "stderr"
        },
        {
          "output_type": "stream",
          "text": [
            "\n",
            "Test set: Average loss: 0.0200, Accuracy: 9941/10000 (99.41%)\n",
            "\n",
            "CASE_5: with L2 with GBN\n",
            "EPOCH: 1\n"
          ],
          "name": "stdout"
        },
        {
          "output_type": "stream",
          "text": [
            "Loss=0.005312522407621145 Batch_id=468 Accuracy=99.36: 100%|██████████| 469/469 [00:15<00:00, 30.84it/s]"
          ],
          "name": "stderr"
        },
        {
          "output_type": "stream",
          "text": [
            "length of test dataset 10000\n"
          ],
          "name": "stdout"
        },
        {
          "output_type": "stream",
          "text": [
            "\n",
            "  0%|          | 0/469 [00:00<?, ?it/s]"
          ],
          "name": "stderr"
        },
        {
          "output_type": "stream",
          "text": [
            "\n",
            "Test set: Average loss: 0.0195, Accuracy: 9936/10000 (99.36%)\n",
            "\n",
            "CASE_5: with L2 with GBN\n",
            "EPOCH: 2\n"
          ],
          "name": "stdout"
        },
        {
          "output_type": "stream",
          "text": [
            "Loss=0.03911067917943001 Batch_id=468 Accuracy=99.40: 100%|██████████| 469/469 [00:15<00:00, 30.36it/s]"
          ],
          "name": "stderr"
        },
        {
          "output_type": "stream",
          "text": [
            "length of test dataset 10000\n"
          ],
          "name": "stdout"
        },
        {
          "output_type": "stream",
          "text": [
            "\n",
            "  0%|          | 0/469 [00:00<?, ?it/s]"
          ],
          "name": "stderr"
        },
        {
          "output_type": "stream",
          "text": [
            "\n",
            "Test set: Average loss: 0.0175, Accuracy: 9947/10000 (99.47%)\n",
            "\n",
            "CASE_5: with L2 with GBN\n",
            "EPOCH: 3\n"
          ],
          "name": "stdout"
        },
        {
          "output_type": "stream",
          "text": [
            "Loss=0.0021119366865605116 Batch_id=468 Accuracy=99.42: 100%|██████████| 469/469 [00:15<00:00, 30.43it/s]"
          ],
          "name": "stderr"
        },
        {
          "output_type": "stream",
          "text": [
            "length of test dataset 10000\n"
          ],
          "name": "stdout"
        },
        {
          "output_type": "stream",
          "text": [
            "\n",
            "  0%|          | 0/469 [00:00<?, ?it/s]"
          ],
          "name": "stderr"
        },
        {
          "output_type": "stream",
          "text": [
            "\n",
            "Test set: Average loss: 0.0178, Accuracy: 9948/10000 (99.48%)\n",
            "\n",
            "CASE_5: with L2 with GBN\n",
            "EPOCH: 4\n"
          ],
          "name": "stdout"
        },
        {
          "output_type": "stream",
          "text": [
            "Loss=0.0653017982840538 Batch_id=468 Accuracy=99.39: 100%|██████████| 469/469 [00:15<00:00, 30.93it/s]"
          ],
          "name": "stderr"
        },
        {
          "output_type": "stream",
          "text": [
            "length of test dataset 10000\n"
          ],
          "name": "stdout"
        },
        {
          "output_type": "stream",
          "text": [
            "\n",
            "  0%|          | 0/469 [00:00<?, ?it/s]"
          ],
          "name": "stderr"
        },
        {
          "output_type": "stream",
          "text": [
            "\n",
            "Test set: Average loss: 0.0201, Accuracy: 9935/10000 (99.35%)\n",
            "\n",
            "CASE_5: with L2 with GBN\n",
            "EPOCH: 5\n"
          ],
          "name": "stdout"
        },
        {
          "output_type": "stream",
          "text": [
            "Loss=0.0021680991631001234 Batch_id=468 Accuracy=99.44: 100%|██████████| 469/469 [00:15<00:00, 30.89it/s]"
          ],
          "name": "stderr"
        },
        {
          "output_type": "stream",
          "text": [
            "length of test dataset 10000\n"
          ],
          "name": "stdout"
        },
        {
          "output_type": "stream",
          "text": [
            "\n",
            "  0%|          | 0/469 [00:00<?, ?it/s]"
          ],
          "name": "stderr"
        },
        {
          "output_type": "stream",
          "text": [
            "\n",
            "Test set: Average loss: 0.0193, Accuracy: 9946/10000 (99.46%)\n",
            "\n",
            "CASE_5: with L2 with GBN\n",
            "EPOCH: 6\n"
          ],
          "name": "stdout"
        },
        {
          "output_type": "stream",
          "text": [
            "Loss=0.006210362073034048 Batch_id=468 Accuracy=99.50: 100%|██████████| 469/469 [00:15<00:00, 30.99it/s]"
          ],
          "name": "stderr"
        },
        {
          "output_type": "stream",
          "text": [
            "length of test dataset 10000\n"
          ],
          "name": "stdout"
        },
        {
          "output_type": "stream",
          "text": [
            "\n",
            "  0%|          | 0/469 [00:00<?, ?it/s]"
          ],
          "name": "stderr"
        },
        {
          "output_type": "stream",
          "text": [
            "\n",
            "Test set: Average loss: 0.0213, Accuracy: 9931/10000 (99.31%)\n",
            "\n",
            "CASE_5: with L2 with GBN\n",
            "EPOCH: 7\n"
          ],
          "name": "stdout"
        },
        {
          "output_type": "stream",
          "text": [
            "Loss=0.003983482718467712 Batch_id=468 Accuracy=99.49: 100%|██████████| 469/469 [00:15<00:00, 30.68it/s]"
          ],
          "name": "stderr"
        },
        {
          "output_type": "stream",
          "text": [
            "length of test dataset 10000\n"
          ],
          "name": "stdout"
        },
        {
          "output_type": "stream",
          "text": [
            "\n",
            "  0%|          | 0/469 [00:00<?, ?it/s]"
          ],
          "name": "stderr"
        },
        {
          "output_type": "stream",
          "text": [
            "\n",
            "Test set: Average loss: 0.0161, Accuracy: 9947/10000 (99.47%)\n",
            "\n",
            "CASE_5: with L2 with GBN\n",
            "EPOCH: 8\n"
          ],
          "name": "stdout"
        },
        {
          "output_type": "stream",
          "text": [
            "Loss=0.006107538938522339 Batch_id=468 Accuracy=99.50: 100%|██████████| 469/469 [00:15<00:00, 30.64it/s]"
          ],
          "name": "stderr"
        },
        {
          "output_type": "stream",
          "text": [
            "length of test dataset 10000\n"
          ],
          "name": "stdout"
        },
        {
          "output_type": "stream",
          "text": [
            "\n",
            "  0%|          | 0/469 [00:00<?, ?it/s]"
          ],
          "name": "stderr"
        },
        {
          "output_type": "stream",
          "text": [
            "\n",
            "Test set: Average loss: 0.0172, Accuracy: 9938/10000 (99.38%)\n",
            "\n",
            "CASE_5: with L2 with GBN\n",
            "EPOCH: 9\n"
          ],
          "name": "stdout"
        },
        {
          "output_type": "stream",
          "text": [
            "Loss=0.0008067389135248959 Batch_id=468 Accuracy=99.48: 100%|██████████| 469/469 [00:15<00:00, 30.47it/s]"
          ],
          "name": "stderr"
        },
        {
          "output_type": "stream",
          "text": [
            "length of test dataset 10000\n"
          ],
          "name": "stdout"
        },
        {
          "output_type": "stream",
          "text": [
            "\n",
            "  0%|          | 0/469 [00:00<?, ?it/s]"
          ],
          "name": "stderr"
        },
        {
          "output_type": "stream",
          "text": [
            "\n",
            "Test set: Average loss: 0.0170, Accuracy: 9952/10000 (99.52%)\n",
            "\n",
            "CASE_5: with L2 with GBN\n",
            "EPOCH: 10\n"
          ],
          "name": "stdout"
        },
        {
          "output_type": "stream",
          "text": [
            "Loss=0.013928684405982494 Batch_id=468 Accuracy=99.48: 100%|██████████| 469/469 [00:15<00:00, 30.37it/s]"
          ],
          "name": "stderr"
        },
        {
          "output_type": "stream",
          "text": [
            "length of test dataset 10000\n"
          ],
          "name": "stdout"
        },
        {
          "output_type": "stream",
          "text": [
            "\n",
            "  0%|          | 0/469 [00:00<?, ?it/s]"
          ],
          "name": "stderr"
        },
        {
          "output_type": "stream",
          "text": [
            "\n",
            "Test set: Average loss: 0.0173, Accuracy: 9940/10000 (99.40%)\n",
            "\n",
            "CASE_5: with L2 with GBN\n",
            "EPOCH: 11\n"
          ],
          "name": "stdout"
        },
        {
          "output_type": "stream",
          "text": [
            "Loss=0.017572039738297462 Batch_id=468 Accuracy=99.52: 100%|██████████| 469/469 [00:15<00:00, 30.95it/s]"
          ],
          "name": "stderr"
        },
        {
          "output_type": "stream",
          "text": [
            "length of test dataset 10000\n"
          ],
          "name": "stdout"
        },
        {
          "output_type": "stream",
          "text": [
            "\n",
            "  0%|          | 0/469 [00:00<?, ?it/s]"
          ],
          "name": "stderr"
        },
        {
          "output_type": "stream",
          "text": [
            "\n",
            "Test set: Average loss: 0.0163, Accuracy: 9951/10000 (99.51%)\n",
            "\n",
            "CASE_5: with L2 with GBN\n",
            "EPOCH: 12\n"
          ],
          "name": "stdout"
        },
        {
          "output_type": "stream",
          "text": [
            "Loss=0.011146594770252705 Batch_id=468 Accuracy=99.56: 100%|██████████| 469/469 [00:15<00:00, 30.41it/s]"
          ],
          "name": "stderr"
        },
        {
          "output_type": "stream",
          "text": [
            "length of test dataset 10000\n"
          ],
          "name": "stdout"
        },
        {
          "output_type": "stream",
          "text": [
            "\n",
            "  0%|          | 0/469 [00:00<?, ?it/s]"
          ],
          "name": "stderr"
        },
        {
          "output_type": "stream",
          "text": [
            "\n",
            "Test set: Average loss: 0.0152, Accuracy: 9955/10000 (99.55%)\n",
            "\n",
            "CASE_5: with L2 with GBN\n",
            "EPOCH: 13\n"
          ],
          "name": "stdout"
        },
        {
          "output_type": "stream",
          "text": [
            "Loss=0.015176936984062195 Batch_id=468 Accuracy=99.54: 100%|██████████| 469/469 [00:15<00:00, 30.70it/s]"
          ],
          "name": "stderr"
        },
        {
          "output_type": "stream",
          "text": [
            "length of test dataset 10000\n"
          ],
          "name": "stdout"
        },
        {
          "output_type": "stream",
          "text": [
            "\n",
            "  0%|          | 0/469 [00:00<?, ?it/s]"
          ],
          "name": "stderr"
        },
        {
          "output_type": "stream",
          "text": [
            "\n",
            "Test set: Average loss: 0.0145, Accuracy: 9952/10000 (99.52%)\n",
            "\n",
            "CASE_5: with L2 with GBN\n",
            "EPOCH: 14\n"
          ],
          "name": "stdout"
        },
        {
          "output_type": "stream",
          "text": [
            "Loss=0.004663392901420593 Batch_id=468 Accuracy=99.55: 100%|██████████| 469/469 [00:15<00:00, 30.74it/s]"
          ],
          "name": "stderr"
        },
        {
          "output_type": "stream",
          "text": [
            "length of test dataset 10000\n"
          ],
          "name": "stdout"
        },
        {
          "output_type": "stream",
          "text": [
            "\n",
            "  0%|          | 0/469 [00:00<?, ?it/s]"
          ],
          "name": "stderr"
        },
        {
          "output_type": "stream",
          "text": [
            "\n",
            "Test set: Average loss: 0.0158, Accuracy: 9947/10000 (99.47%)\n",
            "\n",
            "CASE_5: with L2 with GBN\n",
            "EPOCH: 15\n"
          ],
          "name": "stdout"
        },
        {
          "output_type": "stream",
          "text": [
            "Loss=0.01346182357519865 Batch_id=468 Accuracy=99.53: 100%|██████████| 469/469 [00:15<00:00, 30.85it/s]"
          ],
          "name": "stderr"
        },
        {
          "output_type": "stream",
          "text": [
            "length of test dataset 10000\n"
          ],
          "name": "stdout"
        },
        {
          "output_type": "stream",
          "text": [
            "\n",
            "  0%|          | 0/469 [00:00<?, ?it/s]"
          ],
          "name": "stderr"
        },
        {
          "output_type": "stream",
          "text": [
            "\n",
            "Test set: Average loss: 0.0161, Accuracy: 9950/10000 (99.50%)\n",
            "\n",
            "CASE_5: with L2 with GBN\n",
            "EPOCH: 16\n"
          ],
          "name": "stdout"
        },
        {
          "output_type": "stream",
          "text": [
            "Loss=0.017432868480682373 Batch_id=468 Accuracy=99.52: 100%|██████████| 469/469 [00:15<00:00, 30.92it/s]"
          ],
          "name": "stderr"
        },
        {
          "output_type": "stream",
          "text": [
            "length of test dataset 10000\n"
          ],
          "name": "stdout"
        },
        {
          "output_type": "stream",
          "text": [
            "\n",
            "  0%|          | 0/469 [00:00<?, ?it/s]"
          ],
          "name": "stderr"
        },
        {
          "output_type": "stream",
          "text": [
            "\n",
            "Test set: Average loss: 0.0168, Accuracy: 9945/10000 (99.45%)\n",
            "\n",
            "CASE_5: with L2 with GBN\n",
            "EPOCH: 17\n"
          ],
          "name": "stdout"
        },
        {
          "output_type": "stream",
          "text": [
            "Loss=0.013946090824902058 Batch_id=468 Accuracy=99.53: 100%|██████████| 469/469 [00:15<00:00, 30.60it/s]"
          ],
          "name": "stderr"
        },
        {
          "output_type": "stream",
          "text": [
            "length of test dataset 10000\n"
          ],
          "name": "stdout"
        },
        {
          "output_type": "stream",
          "text": [
            "\n",
            "  0%|          | 0/469 [00:00<?, ?it/s]"
          ],
          "name": "stderr"
        },
        {
          "output_type": "stream",
          "text": [
            "\n",
            "Test set: Average loss: 0.0168, Accuracy: 9943/10000 (99.43%)\n",
            "\n",
            "CASE_5: with L2 with GBN\n",
            "EPOCH: 18\n"
          ],
          "name": "stdout"
        },
        {
          "output_type": "stream",
          "text": [
            "Loss=0.002746348502114415 Batch_id=468 Accuracy=99.60: 100%|██████████| 469/469 [00:15<00:00, 30.77it/s]"
          ],
          "name": "stderr"
        },
        {
          "output_type": "stream",
          "text": [
            "length of test dataset 10000\n"
          ],
          "name": "stdout"
        },
        {
          "output_type": "stream",
          "text": [
            "\n",
            "  0%|          | 0/469 [00:00<?, ?it/s]"
          ],
          "name": "stderr"
        },
        {
          "output_type": "stream",
          "text": [
            "\n",
            "Test set: Average loss: 0.0153, Accuracy: 9950/10000 (99.50%)\n",
            "\n",
            "CASE_5: with L2 with GBN\n",
            "EPOCH: 19\n"
          ],
          "name": "stdout"
        },
        {
          "output_type": "stream",
          "text": [
            "Loss=0.007582371588796377 Batch_id=468 Accuracy=99.60: 100%|██████████| 469/469 [00:15<00:00, 30.85it/s]"
          ],
          "name": "stderr"
        },
        {
          "output_type": "stream",
          "text": [
            "length of test dataset 10000\n"
          ],
          "name": "stdout"
        },
        {
          "output_type": "stream",
          "text": [
            "\n",
            "  0%|          | 0/469 [00:00<?, ?it/s]"
          ],
          "name": "stderr"
        },
        {
          "output_type": "stream",
          "text": [
            "\n",
            "Test set: Average loss: 0.0199, Accuracy: 9940/10000 (99.40%)\n",
            "\n",
            "CASE_5: with L2 with GBN\n",
            "EPOCH: 20\n"
          ],
          "name": "stdout"
        },
        {
          "output_type": "stream",
          "text": [
            "Loss=0.05088132992386818 Batch_id=468 Accuracy=99.58: 100%|██████████| 469/469 [00:16<00:00, 29.10it/s]"
          ],
          "name": "stderr"
        },
        {
          "output_type": "stream",
          "text": [
            "length of test dataset 10000\n"
          ],
          "name": "stdout"
        },
        {
          "output_type": "stream",
          "text": [
            "\n",
            "  0%|          | 0/469 [00:00<?, ?it/s]"
          ],
          "name": "stderr"
        },
        {
          "output_type": "stream",
          "text": [
            "\n",
            "Test set: Average loss: 0.0185, Accuracy: 9942/10000 (99.42%)\n",
            "\n",
            "CASE_5: with L2 with GBN\n",
            "EPOCH: 21\n"
          ],
          "name": "stdout"
        },
        {
          "output_type": "stream",
          "text": [
            "Loss=0.0033654719591140747 Batch_id=468 Accuracy=99.58: 100%|██████████| 469/469 [00:15<00:00, 29.52it/s]"
          ],
          "name": "stderr"
        },
        {
          "output_type": "stream",
          "text": [
            "length of test dataset 10000\n"
          ],
          "name": "stdout"
        },
        {
          "output_type": "stream",
          "text": [
            "\n",
            "  0%|          | 0/469 [00:00<?, ?it/s]"
          ],
          "name": "stderr"
        },
        {
          "output_type": "stream",
          "text": [
            "\n",
            "Test set: Average loss: 0.0159, Accuracy: 9949/10000 (99.49%)\n",
            "\n",
            "CASE_5: with L2 with GBN\n",
            "EPOCH: 22\n"
          ],
          "name": "stdout"
        },
        {
          "output_type": "stream",
          "text": [
            "Loss=0.04334897920489311 Batch_id=468 Accuracy=99.61: 100%|██████████| 469/469 [00:16<00:00, 29.02it/s]"
          ],
          "name": "stderr"
        },
        {
          "output_type": "stream",
          "text": [
            "length of test dataset 10000\n"
          ],
          "name": "stdout"
        },
        {
          "output_type": "stream",
          "text": [
            "\n",
            "  0%|          | 0/469 [00:00<?, ?it/s]"
          ],
          "name": "stderr"
        },
        {
          "output_type": "stream",
          "text": [
            "\n",
            "Test set: Average loss: 0.0181, Accuracy: 9941/10000 (99.41%)\n",
            "\n",
            "CASE_5: with L2 with GBN\n",
            "EPOCH: 23\n"
          ],
          "name": "stdout"
        },
        {
          "output_type": "stream",
          "text": [
            "Loss=0.01728883385658264 Batch_id=468 Accuracy=99.58: 100%|██████████| 469/469 [00:15<00:00, 29.70it/s]"
          ],
          "name": "stderr"
        },
        {
          "output_type": "stream",
          "text": [
            "length of test dataset 10000\n"
          ],
          "name": "stdout"
        },
        {
          "output_type": "stream",
          "text": [
            "\n",
            "  0%|          | 0/469 [00:00<?, ?it/s]"
          ],
          "name": "stderr"
        },
        {
          "output_type": "stream",
          "text": [
            "\n",
            "Test set: Average loss: 0.0161, Accuracy: 9947/10000 (99.47%)\n",
            "\n",
            "CASE_5: with L2 with GBN\n",
            "EPOCH: 24\n"
          ],
          "name": "stdout"
        },
        {
          "output_type": "stream",
          "text": [
            "Loss=0.0020279933232814074 Batch_id=468 Accuracy=99.62: 100%|██████████| 469/469 [00:16<00:00, 28.93it/s]"
          ],
          "name": "stderr"
        },
        {
          "output_type": "stream",
          "text": [
            "length of test dataset 10000\n"
          ],
          "name": "stdout"
        },
        {
          "output_type": "stream",
          "text": [
            "\n",
            "  0%|          | 0/469 [00:00<?, ?it/s]"
          ],
          "name": "stderr"
        },
        {
          "output_type": "stream",
          "text": [
            "\n",
            "Test set: Average loss: 0.0156, Accuracy: 9944/10000 (99.44%)\n",
            "\n",
            "CASE_6: with L1andL2 with BN\n",
            "EPOCH: 0\n"
          ],
          "name": "stdout"
        },
        {
          "output_type": "stream",
          "text": [
            "Loss=0.18823012709617615 Batch_id=468 Accuracy=99.39: 100%|██████████| 469/469 [00:17<00:00, 26.80it/s]"
          ],
          "name": "stderr"
        },
        {
          "output_type": "stream",
          "text": [
            "length of test dataset 10000\n"
          ],
          "name": "stdout"
        },
        {
          "output_type": "stream",
          "text": [
            "\n",
            "  0%|          | 0/469 [00:00<?, ?it/s]"
          ],
          "name": "stderr"
        },
        {
          "output_type": "stream",
          "text": [
            "\n",
            "Test set: Average loss: 0.0380, Accuracy: 9901/10000 (99.01%)\n",
            "\n",
            "CASE_6: with L1andL2 with BN\n",
            "EPOCH: 1\n"
          ],
          "name": "stdout"
        },
        {
          "output_type": "stream",
          "text": [
            "Loss=0.18249821662902832 Batch_id=468 Accuracy=99.24: 100%|██████████| 469/469 [00:17<00:00, 26.75it/s]"
          ],
          "name": "stderr"
        },
        {
          "output_type": "stream",
          "text": [
            "length of test dataset 10000\n"
          ],
          "name": "stdout"
        },
        {
          "output_type": "stream",
          "text": [
            "\n",
            "  0%|          | 0/469 [00:00<?, ?it/s]"
          ],
          "name": "stderr"
        },
        {
          "output_type": "stream",
          "text": [
            "\n",
            "Test set: Average loss: 0.0305, Accuracy: 9905/10000 (99.05%)\n",
            "\n",
            "CASE_6: with L1andL2 with BN\n",
            "EPOCH: 2\n"
          ],
          "name": "stdout"
        },
        {
          "output_type": "stream",
          "text": [
            "Loss=0.17620493471622467 Batch_id=468 Accuracy=99.25: 100%|██████████| 469/469 [00:17<00:00, 26.67it/s]"
          ],
          "name": "stderr"
        },
        {
          "output_type": "stream",
          "text": [
            "length of test dataset 10000\n"
          ],
          "name": "stdout"
        },
        {
          "output_type": "stream",
          "text": [
            "\n",
            "  0%|          | 0/469 [00:00<?, ?it/s]"
          ],
          "name": "stderr"
        },
        {
          "output_type": "stream",
          "text": [
            "\n",
            "Test set: Average loss: 0.0290, Accuracy: 9913/10000 (99.13%)\n",
            "\n",
            "CASE_6: with L1andL2 with BN\n",
            "EPOCH: 3\n"
          ],
          "name": "stdout"
        },
        {
          "output_type": "stream",
          "text": [
            "Loss=0.2222226858139038 Batch_id=468 Accuracy=99.20: 100%|██████████| 469/469 [00:17<00:00, 27.01it/s]\n"
          ],
          "name": "stderr"
        },
        {
          "output_type": "stream",
          "text": [
            "length of test dataset 10000\n"
          ],
          "name": "stdout"
        },
        {
          "output_type": "stream",
          "text": [
            "\r  0%|          | 0/469 [00:00<?, ?it/s]"
          ],
          "name": "stderr"
        },
        {
          "output_type": "stream",
          "text": [
            "\n",
            "Test set: Average loss: 0.0320, Accuracy: 9897/10000 (98.97%)\n",
            "\n",
            "CASE_6: with L1andL2 with BN\n",
            "EPOCH: 4\n"
          ],
          "name": "stdout"
        },
        {
          "output_type": "stream",
          "text": [
            "Loss=0.22127294540405273 Batch_id=468 Accuracy=99.16: 100%|██████████| 469/469 [00:17<00:00, 27.04it/s]"
          ],
          "name": "stderr"
        },
        {
          "output_type": "stream",
          "text": [
            "length of test dataset 10000\n"
          ],
          "name": "stdout"
        },
        {
          "output_type": "stream",
          "text": [
            "\n",
            "  0%|          | 0/469 [00:00<?, ?it/s]"
          ],
          "name": "stderr"
        },
        {
          "output_type": "stream",
          "text": [
            "\n",
            "Test set: Average loss: 0.0315, Accuracy: 9914/10000 (99.14%)\n",
            "\n",
            "CASE_6: with L1andL2 with BN\n",
            "EPOCH: 5\n"
          ],
          "name": "stdout"
        },
        {
          "output_type": "stream",
          "text": [
            "Loss=0.15593627095222473 Batch_id=468 Accuracy=99.17: 100%|██████████| 469/469 [00:17<00:00, 26.87it/s]\n"
          ],
          "name": "stderr"
        },
        {
          "output_type": "stream",
          "text": [
            "length of test dataset 10000\n"
          ],
          "name": "stdout"
        },
        {
          "output_type": "stream",
          "text": [
            "\r  0%|          | 0/469 [00:00<?, ?it/s]"
          ],
          "name": "stderr"
        },
        {
          "output_type": "stream",
          "text": [
            "\n",
            "Test set: Average loss: 0.0338, Accuracy: 9891/10000 (98.91%)\n",
            "\n",
            "CASE_6: with L1andL2 with BN\n",
            "EPOCH: 6\n"
          ],
          "name": "stdout"
        },
        {
          "output_type": "stream",
          "text": [
            "Loss=0.303937166929245 Batch_id=468 Accuracy=99.11: 100%|██████████| 469/469 [00:17<00:00, 27.01it/s]"
          ],
          "name": "stderr"
        },
        {
          "output_type": "stream",
          "text": [
            "length of test dataset 10000\n"
          ],
          "name": "stdout"
        },
        {
          "output_type": "stream",
          "text": [
            "\n",
            "  0%|          | 0/469 [00:00<?, ?it/s]"
          ],
          "name": "stderr"
        },
        {
          "output_type": "stream",
          "text": [
            "\n",
            "Test set: Average loss: 0.0286, Accuracy: 9920/10000 (99.20%)\n",
            "\n",
            "CASE_6: with L1andL2 with BN\n",
            "EPOCH: 7\n"
          ],
          "name": "stdout"
        },
        {
          "output_type": "stream",
          "text": [
            "Loss=0.15901319682598114 Batch_id=468 Accuracy=99.10: 100%|██████████| 469/469 [00:17<00:00, 26.86it/s]"
          ],
          "name": "stderr"
        },
        {
          "output_type": "stream",
          "text": [
            "length of test dataset 10000\n"
          ],
          "name": "stdout"
        },
        {
          "output_type": "stream",
          "text": [
            "\n",
            "  0%|          | 0/469 [00:00<?, ?it/s]"
          ],
          "name": "stderr"
        },
        {
          "output_type": "stream",
          "text": [
            "\n",
            "Test set: Average loss: 0.0319, Accuracy: 9897/10000 (98.97%)\n",
            "\n",
            "CASE_6: with L1andL2 with BN\n",
            "EPOCH: 8\n"
          ],
          "name": "stdout"
        },
        {
          "output_type": "stream",
          "text": [
            "Loss=0.15840023756027222 Batch_id=468 Accuracy=99.13: 100%|██████████| 469/469 [00:17<00:00, 27.20it/s]"
          ],
          "name": "stderr"
        },
        {
          "output_type": "stream",
          "text": [
            "length of test dataset 10000\n"
          ],
          "name": "stdout"
        },
        {
          "output_type": "stream",
          "text": [
            "\n",
            "  0%|          | 0/469 [00:00<?, ?it/s]"
          ],
          "name": "stderr"
        },
        {
          "output_type": "stream",
          "text": [
            "\n",
            "Test set: Average loss: 0.0265, Accuracy: 9916/10000 (99.16%)\n",
            "\n",
            "CASE_6: with L1andL2 with BN\n",
            "EPOCH: 9\n"
          ],
          "name": "stdout"
        },
        {
          "output_type": "stream",
          "text": [
            "Loss=0.17275409400463104 Batch_id=468 Accuracy=99.06: 100%|██████████| 469/469 [00:16<00:00, 27.90it/s]"
          ],
          "name": "stderr"
        },
        {
          "output_type": "stream",
          "text": [
            "length of test dataset 10000\n"
          ],
          "name": "stdout"
        },
        {
          "output_type": "stream",
          "text": [
            "\n",
            "  0%|          | 0/469 [00:00<?, ?it/s]"
          ],
          "name": "stderr"
        },
        {
          "output_type": "stream",
          "text": [
            "\n",
            "Test set: Average loss: 0.0315, Accuracy: 9905/10000 (99.05%)\n",
            "\n",
            "CASE_6: with L1andL2 with BN\n",
            "EPOCH: 10\n"
          ],
          "name": "stdout"
        },
        {
          "output_type": "stream",
          "text": [
            "Loss=0.20054949820041656 Batch_id=468 Accuracy=99.09: 100%|██████████| 469/469 [00:17<00:00, 27.54it/s]"
          ],
          "name": "stderr"
        },
        {
          "output_type": "stream",
          "text": [
            "length of test dataset 10000\n"
          ],
          "name": "stdout"
        },
        {
          "output_type": "stream",
          "text": [
            "\n",
            "  0%|          | 0/469 [00:00<?, ?it/s]"
          ],
          "name": "stderr"
        },
        {
          "output_type": "stream",
          "text": [
            "\n",
            "Test set: Average loss: 0.0295, Accuracy: 9906/10000 (99.06%)\n",
            "\n",
            "CASE_6: with L1andL2 with BN\n",
            "EPOCH: 11\n"
          ],
          "name": "stdout"
        },
        {
          "output_type": "stream",
          "text": [
            "Loss=0.2739253044128418 Batch_id=468 Accuracy=99.09: 100%|██████████| 469/469 [00:16<00:00, 27.82it/s]"
          ],
          "name": "stderr"
        },
        {
          "output_type": "stream",
          "text": [
            "length of test dataset 10000\n"
          ],
          "name": "stdout"
        },
        {
          "output_type": "stream",
          "text": [
            "\n",
            "  0%|          | 0/469 [00:00<?, ?it/s]"
          ],
          "name": "stderr"
        },
        {
          "output_type": "stream",
          "text": [
            "\n",
            "Test set: Average loss: 0.0282, Accuracy: 9916/10000 (99.16%)\n",
            "\n",
            "CASE_6: with L1andL2 with BN\n",
            "EPOCH: 12\n"
          ],
          "name": "stdout"
        },
        {
          "output_type": "stream",
          "text": [
            "Loss=0.22095130383968353 Batch_id=468 Accuracy=99.08: 100%|██████████| 469/469 [00:16<00:00, 27.90it/s]\n"
          ],
          "name": "stderr"
        },
        {
          "output_type": "stream",
          "text": [
            "length of test dataset 10000\n"
          ],
          "name": "stdout"
        },
        {
          "output_type": "stream",
          "text": [
            "\r  0%|          | 0/469 [00:00<?, ?it/s]"
          ],
          "name": "stderr"
        },
        {
          "output_type": "stream",
          "text": [
            "\n",
            "Test set: Average loss: 0.0375, Accuracy: 9875/10000 (98.75%)\n",
            "\n",
            "CASE_6: with L1andL2 with BN\n",
            "EPOCH: 13\n"
          ],
          "name": "stdout"
        },
        {
          "output_type": "stream",
          "text": [
            "Loss=0.38024842739105225 Batch_id=468 Accuracy=99.11: 100%|██████████| 469/469 [00:16<00:00, 28.05it/s]"
          ],
          "name": "stderr"
        },
        {
          "output_type": "stream",
          "text": [
            "length of test dataset 10000\n"
          ],
          "name": "stdout"
        },
        {
          "output_type": "stream",
          "text": [
            "\n",
            "  0%|          | 0/469 [00:00<?, ?it/s]"
          ],
          "name": "stderr"
        },
        {
          "output_type": "stream",
          "text": [
            "\n",
            "Test set: Average loss: 0.0282, Accuracy: 9912/10000 (99.12%)\n",
            "\n",
            "CASE_6: with L1andL2 with BN\n",
            "EPOCH: 14\n"
          ],
          "name": "stdout"
        },
        {
          "output_type": "stream",
          "text": [
            "Loss=0.14970314502716064 Batch_id=468 Accuracy=99.10: 100%|██████████| 469/469 [00:16<00:00, 27.62it/s]"
          ],
          "name": "stderr"
        },
        {
          "output_type": "stream",
          "text": [
            "length of test dataset 10000\n"
          ],
          "name": "stdout"
        },
        {
          "output_type": "stream",
          "text": [
            "\n",
            "  0%|          | 0/469 [00:00<?, ?it/s]"
          ],
          "name": "stderr"
        },
        {
          "output_type": "stream",
          "text": [
            "\n",
            "Test set: Average loss: 0.0308, Accuracy: 9910/10000 (99.10%)\n",
            "\n",
            "CASE_6: with L1andL2 with BN\n",
            "EPOCH: 15\n"
          ],
          "name": "stdout"
        },
        {
          "output_type": "stream",
          "text": [
            "Loss=0.25951525568962097 Batch_id=468 Accuracy=99.09: 100%|██████████| 469/469 [00:16<00:00, 27.80it/s]"
          ],
          "name": "stderr"
        },
        {
          "output_type": "stream",
          "text": [
            "length of test dataset 10000\n"
          ],
          "name": "stdout"
        },
        {
          "output_type": "stream",
          "text": [
            "\n",
            "  0%|          | 0/469 [00:00<?, ?it/s]"
          ],
          "name": "stderr"
        },
        {
          "output_type": "stream",
          "text": [
            "\n",
            "Test set: Average loss: 0.0279, Accuracy: 9916/10000 (99.16%)\n",
            "\n",
            "CASE_6: with L1andL2 with BN\n",
            "EPOCH: 16\n"
          ],
          "name": "stdout"
        },
        {
          "output_type": "stream",
          "text": [
            "Loss=0.1778850257396698 Batch_id=468 Accuracy=99.14: 100%|██████████| 469/469 [00:16<00:00, 27.91it/s]"
          ],
          "name": "stderr"
        },
        {
          "output_type": "stream",
          "text": [
            "length of test dataset 10000\n"
          ],
          "name": "stdout"
        },
        {
          "output_type": "stream",
          "text": [
            "\n",
            "  0%|          | 0/469 [00:00<?, ?it/s]"
          ],
          "name": "stderr"
        },
        {
          "output_type": "stream",
          "text": [
            "\n",
            "Test set: Average loss: 0.0241, Accuracy: 9928/10000 (99.28%)\n",
            "\n",
            "CASE_6: with L1andL2 with BN\n",
            "EPOCH: 17\n"
          ],
          "name": "stdout"
        },
        {
          "output_type": "stream",
          "text": [
            "Loss=0.15714305639266968 Batch_id=468 Accuracy=99.11: 100%|██████████| 469/469 [00:16<00:00, 28.07it/s]"
          ],
          "name": "stderr"
        },
        {
          "output_type": "stream",
          "text": [
            "length of test dataset 10000\n"
          ],
          "name": "stdout"
        },
        {
          "output_type": "stream",
          "text": [
            "\n",
            "  0%|          | 0/469 [00:00<?, ?it/s]"
          ],
          "name": "stderr"
        },
        {
          "output_type": "stream",
          "text": [
            "\n",
            "Test set: Average loss: 0.0322, Accuracy: 9893/10000 (98.93%)\n",
            "\n",
            "CASE_6: with L1andL2 with BN\n",
            "EPOCH: 18\n"
          ],
          "name": "stdout"
        },
        {
          "output_type": "stream",
          "text": [
            "Loss=0.19092579185962677 Batch_id=468 Accuracy=99.10: 100%|██████████| 469/469 [00:16<00:00, 27.80it/s]"
          ],
          "name": "stderr"
        },
        {
          "output_type": "stream",
          "text": [
            "length of test dataset 10000\n"
          ],
          "name": "stdout"
        },
        {
          "output_type": "stream",
          "text": [
            "\n",
            "  0%|          | 0/469 [00:00<?, ?it/s]"
          ],
          "name": "stderr"
        },
        {
          "output_type": "stream",
          "text": [
            "\n",
            "Test set: Average loss: 0.0280, Accuracy: 9911/10000 (99.11%)\n",
            "\n",
            "CASE_6: with L1andL2 with BN\n",
            "EPOCH: 19\n"
          ],
          "name": "stdout"
        },
        {
          "output_type": "stream",
          "text": [
            "Loss=0.16914157569408417 Batch_id=468 Accuracy=99.04: 100%|██████████| 469/469 [00:17<00:00, 27.35it/s]"
          ],
          "name": "stderr"
        },
        {
          "output_type": "stream",
          "text": [
            "length of test dataset 10000\n"
          ],
          "name": "stdout"
        },
        {
          "output_type": "stream",
          "text": [
            "\n",
            "  0%|          | 0/469 [00:00<?, ?it/s]"
          ],
          "name": "stderr"
        },
        {
          "output_type": "stream",
          "text": [
            "\n",
            "Test set: Average loss: 0.0333, Accuracy: 9897/10000 (98.97%)\n",
            "\n",
            "CASE_6: with L1andL2 with BN\n",
            "EPOCH: 20\n"
          ],
          "name": "stdout"
        },
        {
          "output_type": "stream",
          "text": [
            "Loss=0.14758050441741943 Batch_id=468 Accuracy=99.16: 100%|██████████| 469/469 [00:16<00:00, 27.87it/s]"
          ],
          "name": "stderr"
        },
        {
          "output_type": "stream",
          "text": [
            "length of test dataset 10000\n"
          ],
          "name": "stdout"
        },
        {
          "output_type": "stream",
          "text": [
            "\n",
            "  0%|          | 0/469 [00:00<?, ?it/s]"
          ],
          "name": "stderr"
        },
        {
          "output_type": "stream",
          "text": [
            "\n",
            "Test set: Average loss: 0.0268, Accuracy: 9919/10000 (99.19%)\n",
            "\n",
            "CASE_6: with L1andL2 with BN\n",
            "EPOCH: 21\n"
          ],
          "name": "stdout"
        },
        {
          "output_type": "stream",
          "text": [
            "Loss=0.15786553919315338 Batch_id=468 Accuracy=99.10: 100%|██████████| 469/469 [00:16<00:00, 27.81it/s]"
          ],
          "name": "stderr"
        },
        {
          "output_type": "stream",
          "text": [
            "length of test dataset 10000\n"
          ],
          "name": "stdout"
        },
        {
          "output_type": "stream",
          "text": [
            "\n",
            "  0%|          | 0/469 [00:00<?, ?it/s]"
          ],
          "name": "stderr"
        },
        {
          "output_type": "stream",
          "text": [
            "\n",
            "Test set: Average loss: 0.0264, Accuracy: 9917/10000 (99.17%)\n",
            "\n",
            "CASE_6: with L1andL2 with BN\n",
            "EPOCH: 22\n"
          ],
          "name": "stdout"
        },
        {
          "output_type": "stream",
          "text": [
            "Loss=0.14948859810829163 Batch_id=468 Accuracy=99.13: 100%|██████████| 469/469 [00:16<00:00, 27.91it/s]"
          ],
          "name": "stderr"
        },
        {
          "output_type": "stream",
          "text": [
            "length of test dataset 10000\n"
          ],
          "name": "stdout"
        },
        {
          "output_type": "stream",
          "text": [
            "\n",
            "  0%|          | 0/469 [00:00<?, ?it/s]"
          ],
          "name": "stderr"
        },
        {
          "output_type": "stream",
          "text": [
            "\n",
            "Test set: Average loss: 0.0319, Accuracy: 9907/10000 (99.07%)\n",
            "\n",
            "CASE_6: with L1andL2 with BN\n",
            "EPOCH: 23\n"
          ],
          "name": "stdout"
        },
        {
          "output_type": "stream",
          "text": [
            "Loss=0.17248967289924622 Batch_id=468 Accuracy=99.13: 100%|██████████| 469/469 [00:16<00:00, 27.86it/s]"
          ],
          "name": "stderr"
        },
        {
          "output_type": "stream",
          "text": [
            "length of test dataset 10000\n"
          ],
          "name": "stdout"
        },
        {
          "output_type": "stream",
          "text": [
            "\n",
            "  0%|          | 0/469 [00:00<?, ?it/s]"
          ],
          "name": "stderr"
        },
        {
          "output_type": "stream",
          "text": [
            "\n",
            "Test set: Average loss: 0.0402, Accuracy: 9865/10000 (98.65%)\n",
            "\n",
            "CASE_6: with L1andL2 with BN\n",
            "EPOCH: 24\n"
          ],
          "name": "stdout"
        },
        {
          "output_type": "stream",
          "text": [
            "Loss=0.17965438961982727 Batch_id=468 Accuracy=99.11: 100%|██████████| 469/469 [00:16<00:00, 28.01it/s]"
          ],
          "name": "stderr"
        },
        {
          "output_type": "stream",
          "text": [
            "length of test dataset 10000\n"
          ],
          "name": "stdout"
        },
        {
          "output_type": "stream",
          "text": [
            "\n",
            "  0%|          | 0/469 [00:00<?, ?it/s]"
          ],
          "name": "stderr"
        },
        {
          "output_type": "stream",
          "text": [
            "\n",
            "Test set: Average loss: 0.0267, Accuracy: 9917/10000 (99.17%)\n",
            "\n",
            "CASE_7: with L1andL2 with GBN\n",
            "EPOCH: 0\n"
          ],
          "name": "stdout"
        },
        {
          "output_type": "stream",
          "text": [
            "Loss=0.29132914543151855 Batch_id=468 Accuracy=99.36: 100%|██████████| 469/469 [00:16<00:00, 27.83it/s]"
          ],
          "name": "stderr"
        },
        {
          "output_type": "stream",
          "text": [
            "length of test dataset 10000\n"
          ],
          "name": "stdout"
        },
        {
          "output_type": "stream",
          "text": [
            "\n",
            "  0%|          | 0/469 [00:00<?, ?it/s]"
          ],
          "name": "stderr"
        },
        {
          "output_type": "stream",
          "text": [
            "\n",
            "Test set: Average loss: 0.0230, Accuracy: 9929/10000 (99.29%)\n",
            "\n",
            "CASE_7: with L1andL2 with GBN\n",
            "EPOCH: 1\n"
          ],
          "name": "stdout"
        },
        {
          "output_type": "stream",
          "text": [
            "Loss=0.17882539331912994 Batch_id=468 Accuracy=99.24: 100%|██████████| 469/469 [00:16<00:00, 27.75it/s]"
          ],
          "name": "stderr"
        },
        {
          "output_type": "stream",
          "text": [
            "length of test dataset 10000\n"
          ],
          "name": "stdout"
        },
        {
          "output_type": "stream",
          "text": [
            "\n",
            "  0%|          | 0/469 [00:00<?, ?it/s]"
          ],
          "name": "stderr"
        },
        {
          "output_type": "stream",
          "text": [
            "\n",
            "Test set: Average loss: 0.0249, Accuracy: 9917/10000 (99.17%)\n",
            "\n",
            "CASE_7: with L1andL2 with GBN\n",
            "EPOCH: 2\n"
          ],
          "name": "stdout"
        },
        {
          "output_type": "stream",
          "text": [
            "Loss=0.18610194325447083 Batch_id=468 Accuracy=99.19: 100%|██████████| 469/469 [00:16<00:00, 27.59it/s]"
          ],
          "name": "stderr"
        },
        {
          "output_type": "stream",
          "text": [
            "length of test dataset 10000\n"
          ],
          "name": "stdout"
        },
        {
          "output_type": "stream",
          "text": [
            "\n",
            "  0%|          | 0/469 [00:00<?, ?it/s]"
          ],
          "name": "stderr"
        },
        {
          "output_type": "stream",
          "text": [
            "\n",
            "Test set: Average loss: 0.0362, Accuracy: 9881/10000 (98.81%)\n",
            "\n",
            "CASE_7: with L1andL2 with GBN\n",
            "EPOCH: 3\n"
          ],
          "name": "stdout"
        },
        {
          "output_type": "stream",
          "text": [
            "Loss=0.2874084413051605 Batch_id=468 Accuracy=99.08: 100%|██████████| 469/469 [00:16<00:00, 27.64it/s]"
          ],
          "name": "stderr"
        },
        {
          "output_type": "stream",
          "text": [
            "length of test dataset 10000\n"
          ],
          "name": "stdout"
        },
        {
          "output_type": "stream",
          "text": [
            "\n",
            "  0%|          | 0/469 [00:00<?, ?it/s]"
          ],
          "name": "stderr"
        },
        {
          "output_type": "stream",
          "text": [
            "\n",
            "Test set: Average loss: 0.0252, Accuracy: 9923/10000 (99.23%)\n",
            "\n",
            "CASE_7: with L1andL2 with GBN\n",
            "EPOCH: 4\n"
          ],
          "name": "stdout"
        },
        {
          "output_type": "stream",
          "text": [
            "Loss=0.19259986281394958 Batch_id=468 Accuracy=99.13: 100%|██████████| 469/469 [00:16<00:00, 27.80it/s]"
          ],
          "name": "stderr"
        },
        {
          "output_type": "stream",
          "text": [
            "length of test dataset 10000\n"
          ],
          "name": "stdout"
        },
        {
          "output_type": "stream",
          "text": [
            "\n",
            "  0%|          | 0/469 [00:00<?, ?it/s]"
          ],
          "name": "stderr"
        },
        {
          "output_type": "stream",
          "text": [
            "\n",
            "Test set: Average loss: 0.0262, Accuracy: 9915/10000 (99.15%)\n",
            "\n",
            "CASE_7: with L1andL2 with GBN\n",
            "EPOCH: 5\n"
          ],
          "name": "stdout"
        },
        {
          "output_type": "stream",
          "text": [
            "Loss=0.2278318703174591 Batch_id=468 Accuracy=99.10: 100%|██████████| 469/469 [00:16<00:00, 28.05it/s]"
          ],
          "name": "stderr"
        },
        {
          "output_type": "stream",
          "text": [
            "length of test dataset 10000\n"
          ],
          "name": "stdout"
        },
        {
          "output_type": "stream",
          "text": [
            "\n",
            "  0%|          | 0/469 [00:00<?, ?it/s]"
          ],
          "name": "stderr"
        },
        {
          "output_type": "stream",
          "text": [
            "\n",
            "Test set: Average loss: 0.0249, Accuracy: 9921/10000 (99.21%)\n",
            "\n",
            "CASE_7: with L1andL2 with GBN\n",
            "EPOCH: 6\n"
          ],
          "name": "stdout"
        },
        {
          "output_type": "stream",
          "text": [
            "Loss=0.20183846354484558 Batch_id=468 Accuracy=99.07: 100%|██████████| 469/469 [00:17<00:00, 27.58it/s]"
          ],
          "name": "stderr"
        },
        {
          "output_type": "stream",
          "text": [
            "length of test dataset 10000\n"
          ],
          "name": "stdout"
        },
        {
          "output_type": "stream",
          "text": [
            "\n",
            "  0%|          | 0/469 [00:00<?, ?it/s]"
          ],
          "name": "stderr"
        },
        {
          "output_type": "stream",
          "text": [
            "\n",
            "Test set: Average loss: 0.0270, Accuracy: 9918/10000 (99.18%)\n",
            "\n",
            "CASE_7: with L1andL2 with GBN\n",
            "EPOCH: 7\n"
          ],
          "name": "stdout"
        },
        {
          "output_type": "stream",
          "text": [
            "Loss=0.1647137850522995 Batch_id=468 Accuracy=99.12: 100%|██████████| 469/469 [00:16<00:00, 27.75it/s]\n"
          ],
          "name": "stderr"
        },
        {
          "output_type": "stream",
          "text": [
            "length of test dataset 10000\n"
          ],
          "name": "stdout"
        },
        {
          "output_type": "stream",
          "text": [
            "\r  0%|          | 0/469 [00:00<?, ?it/s]"
          ],
          "name": "stderr"
        },
        {
          "output_type": "stream",
          "text": [
            "\n",
            "Test set: Average loss: 0.0250, Accuracy: 9917/10000 (99.17%)\n",
            "\n",
            "CASE_7: with L1andL2 with GBN\n",
            "EPOCH: 8\n"
          ],
          "name": "stdout"
        },
        {
          "output_type": "stream",
          "text": [
            "Loss=0.1917160153388977 Batch_id=468 Accuracy=99.08: 100%|██████████| 469/469 [00:16<00:00, 27.92it/s]"
          ],
          "name": "stderr"
        },
        {
          "output_type": "stream",
          "text": [
            "length of test dataset 10000\n"
          ],
          "name": "stdout"
        },
        {
          "output_type": "stream",
          "text": [
            "\n",
            "  0%|          | 0/469 [00:00<?, ?it/s]"
          ],
          "name": "stderr"
        },
        {
          "output_type": "stream",
          "text": [
            "\n",
            "Test set: Average loss: 0.0294, Accuracy: 9901/10000 (99.01%)\n",
            "\n",
            "CASE_7: with L1andL2 with GBN\n",
            "EPOCH: 9\n"
          ],
          "name": "stdout"
        },
        {
          "output_type": "stream",
          "text": [
            "Loss=0.16834954917430878 Batch_id=468 Accuracy=99.11: 100%|██████████| 469/469 [00:16<00:00, 27.80it/s]"
          ],
          "name": "stderr"
        },
        {
          "output_type": "stream",
          "text": [
            "length of test dataset 10000\n"
          ],
          "name": "stdout"
        },
        {
          "output_type": "stream",
          "text": [
            "\n",
            "  0%|          | 0/469 [00:00<?, ?it/s]"
          ],
          "name": "stderr"
        },
        {
          "output_type": "stream",
          "text": [
            "\n",
            "Test set: Average loss: 0.0256, Accuracy: 9924/10000 (99.24%)\n",
            "\n",
            "CASE_7: with L1andL2 with GBN\n",
            "EPOCH: 10\n"
          ],
          "name": "stdout"
        },
        {
          "output_type": "stream",
          "text": [
            "Loss=0.3253300189971924 Batch_id=468 Accuracy=99.06: 100%|██████████| 469/469 [00:16<00:00, 27.75it/s]"
          ],
          "name": "stderr"
        },
        {
          "output_type": "stream",
          "text": [
            "length of test dataset 10000\n"
          ],
          "name": "stdout"
        },
        {
          "output_type": "stream",
          "text": [
            "\n",
            "  0%|          | 0/469 [00:00<?, ?it/s]"
          ],
          "name": "stderr"
        },
        {
          "output_type": "stream",
          "text": [
            "\n",
            "Test set: Average loss: 0.0258, Accuracy: 9902/10000 (99.02%)\n",
            "\n",
            "CASE_7: with L1andL2 with GBN\n",
            "EPOCH: 11\n"
          ],
          "name": "stdout"
        },
        {
          "output_type": "stream",
          "text": [
            "Loss=0.1592017412185669 Batch_id=468 Accuracy=99.08: 100%|██████████| 469/469 [00:17<00:00, 27.50it/s]"
          ],
          "name": "stderr"
        },
        {
          "output_type": "stream",
          "text": [
            "length of test dataset 10000\n"
          ],
          "name": "stdout"
        },
        {
          "output_type": "stream",
          "text": [
            "\n",
            "  0%|          | 0/469 [00:00<?, ?it/s]"
          ],
          "name": "stderr"
        },
        {
          "output_type": "stream",
          "text": [
            "\n",
            "Test set: Average loss: 0.0267, Accuracy: 9919/10000 (99.19%)\n",
            "\n",
            "CASE_7: with L1andL2 with GBN\n",
            "EPOCH: 12\n"
          ],
          "name": "stdout"
        },
        {
          "output_type": "stream",
          "text": [
            "Loss=0.15685328841209412 Batch_id=468 Accuracy=99.10: 100%|██████████| 469/469 [00:16<00:00, 27.63it/s]"
          ],
          "name": "stderr"
        },
        {
          "output_type": "stream",
          "text": [
            "length of test dataset 10000\n"
          ],
          "name": "stdout"
        },
        {
          "output_type": "stream",
          "text": [
            "\n",
            "  0%|          | 0/469 [00:00<?, ?it/s]"
          ],
          "name": "stderr"
        },
        {
          "output_type": "stream",
          "text": [
            "\n",
            "Test set: Average loss: 0.0267, Accuracy: 9911/10000 (99.11%)\n",
            "\n",
            "CASE_7: with L1andL2 with GBN\n",
            "EPOCH: 13\n"
          ],
          "name": "stdout"
        },
        {
          "output_type": "stream",
          "text": [
            "Loss=0.3512569069862366 Batch_id=468 Accuracy=99.06: 100%|██████████| 469/469 [00:16<00:00, 27.77it/s]"
          ],
          "name": "stderr"
        },
        {
          "output_type": "stream",
          "text": [
            "length of test dataset 10000\n"
          ],
          "name": "stdout"
        },
        {
          "output_type": "stream",
          "text": [
            "\n",
            "  0%|          | 0/469 [00:00<?, ?it/s]"
          ],
          "name": "stderr"
        },
        {
          "output_type": "stream",
          "text": [
            "\n",
            "Test set: Average loss: 0.0273, Accuracy: 9919/10000 (99.19%)\n",
            "\n",
            "CASE_7: with L1andL2 with GBN\n",
            "EPOCH: 14\n"
          ],
          "name": "stdout"
        },
        {
          "output_type": "stream",
          "text": [
            "Loss=0.24154485762119293 Batch_id=468 Accuracy=99.10: 100%|██████████| 469/469 [00:17<00:00, 27.47it/s]"
          ],
          "name": "stderr"
        },
        {
          "output_type": "stream",
          "text": [
            "length of test dataset 10000\n"
          ],
          "name": "stdout"
        },
        {
          "output_type": "stream",
          "text": [
            "\n",
            "  0%|          | 0/469 [00:00<?, ?it/s]"
          ],
          "name": "stderr"
        },
        {
          "output_type": "stream",
          "text": [
            "\n",
            "Test set: Average loss: 0.0255, Accuracy: 9921/10000 (99.21%)\n",
            "\n",
            "CASE_7: with L1andL2 with GBN\n",
            "EPOCH: 15\n"
          ],
          "name": "stdout"
        },
        {
          "output_type": "stream",
          "text": [
            "Loss=0.2250220775604248 Batch_id=468 Accuracy=99.04: 100%|██████████| 469/469 [00:17<00:00, 27.56it/s]"
          ],
          "name": "stderr"
        },
        {
          "output_type": "stream",
          "text": [
            "length of test dataset 10000\n"
          ],
          "name": "stdout"
        },
        {
          "output_type": "stream",
          "text": [
            "\n",
            "  0%|          | 0/469 [00:00<?, ?it/s]"
          ],
          "name": "stderr"
        },
        {
          "output_type": "stream",
          "text": [
            "\n",
            "Test set: Average loss: 0.0273, Accuracy: 9919/10000 (99.19%)\n",
            "\n",
            "CASE_7: with L1andL2 with GBN\n",
            "EPOCH: 16\n"
          ],
          "name": "stdout"
        },
        {
          "output_type": "stream",
          "text": [
            "Loss=0.19689452648162842 Batch_id=468 Accuracy=98.99: 100%|██████████| 469/469 [00:16<00:00, 27.68it/s]"
          ],
          "name": "stderr"
        },
        {
          "output_type": "stream",
          "text": [
            "length of test dataset 10000\n"
          ],
          "name": "stdout"
        },
        {
          "output_type": "stream",
          "text": [
            "\n",
            "  0%|          | 0/469 [00:00<?, ?it/s]"
          ],
          "name": "stderr"
        },
        {
          "output_type": "stream",
          "text": [
            "\n",
            "Test set: Average loss: 0.0291, Accuracy: 9912/10000 (99.12%)\n",
            "\n",
            "CASE_7: with L1andL2 with GBN\n",
            "EPOCH: 17\n"
          ],
          "name": "stdout"
        },
        {
          "output_type": "stream",
          "text": [
            "Loss=0.15534304082393646 Batch_id=468 Accuracy=99.09: 100%|██████████| 469/469 [00:16<00:00, 27.79it/s]"
          ],
          "name": "stderr"
        },
        {
          "output_type": "stream",
          "text": [
            "length of test dataset 10000\n"
          ],
          "name": "stdout"
        },
        {
          "output_type": "stream",
          "text": [
            "\n",
            "  0%|          | 0/469 [00:00<?, ?it/s]"
          ],
          "name": "stderr"
        },
        {
          "output_type": "stream",
          "text": [
            "\n",
            "Test set: Average loss: 0.0241, Accuracy: 9919/10000 (99.19%)\n",
            "\n",
            "CASE_7: with L1andL2 with GBN\n",
            "EPOCH: 18\n"
          ],
          "name": "stdout"
        },
        {
          "output_type": "stream",
          "text": [
            "Loss=0.15153609216213226 Batch_id=468 Accuracy=99.14: 100%|██████████| 469/469 [00:16<00:00, 27.83it/s]"
          ],
          "name": "stderr"
        },
        {
          "output_type": "stream",
          "text": [
            "length of test dataset 10000\n"
          ],
          "name": "stdout"
        },
        {
          "output_type": "stream",
          "text": [
            "\n",
            "  0%|          | 0/469 [00:00<?, ?it/s]"
          ],
          "name": "stderr"
        },
        {
          "output_type": "stream",
          "text": [
            "\n",
            "Test set: Average loss: 0.0264, Accuracy: 9918/10000 (99.18%)\n",
            "\n",
            "CASE_7: with L1andL2 with GBN\n",
            "EPOCH: 19\n"
          ],
          "name": "stdout"
        },
        {
          "output_type": "stream",
          "text": [
            "Loss=0.15000252425670624 Batch_id=468 Accuracy=99.09: 100%|██████████| 469/469 [00:17<00:00, 27.19it/s]"
          ],
          "name": "stderr"
        },
        {
          "output_type": "stream",
          "text": [
            "length of test dataset 10000\n"
          ],
          "name": "stdout"
        },
        {
          "output_type": "stream",
          "text": [
            "\n",
            "  0%|          | 0/469 [00:00<?, ?it/s]"
          ],
          "name": "stderr"
        },
        {
          "output_type": "stream",
          "text": [
            "\n",
            "Test set: Average loss: 0.0338, Accuracy: 9890/10000 (98.90%)\n",
            "\n",
            "CASE_7: with L1andL2 with GBN\n",
            "EPOCH: 20\n"
          ],
          "name": "stdout"
        },
        {
          "output_type": "stream",
          "text": [
            "Loss=0.24169078469276428 Batch_id=468 Accuracy=99.06: 100%|██████████| 469/469 [00:16<00:00, 27.82it/s]"
          ],
          "name": "stderr"
        },
        {
          "output_type": "stream",
          "text": [
            "length of test dataset 10000\n"
          ],
          "name": "stdout"
        },
        {
          "output_type": "stream",
          "text": [
            "\n",
            "  0%|          | 0/469 [00:00<?, ?it/s]"
          ],
          "name": "stderr"
        },
        {
          "output_type": "stream",
          "text": [
            "\n",
            "Test set: Average loss: 0.0286, Accuracy: 9905/10000 (99.05%)\n",
            "\n",
            "CASE_7: with L1andL2 with GBN\n",
            "EPOCH: 21\n"
          ],
          "name": "stdout"
        },
        {
          "output_type": "stream",
          "text": [
            "Loss=0.17935600876808167 Batch_id=468 Accuracy=99.09: 100%|██████████| 469/469 [00:16<00:00, 27.64it/s]"
          ],
          "name": "stderr"
        },
        {
          "output_type": "stream",
          "text": [
            "length of test dataset 10000\n"
          ],
          "name": "stdout"
        },
        {
          "output_type": "stream",
          "text": [
            "\n",
            "  0%|          | 0/469 [00:00<?, ?it/s]"
          ],
          "name": "stderr"
        },
        {
          "output_type": "stream",
          "text": [
            "\n",
            "Test set: Average loss: 0.0236, Accuracy: 9921/10000 (99.21%)\n",
            "\n",
            "CASE_7: with L1andL2 with GBN\n",
            "EPOCH: 22\n"
          ],
          "name": "stdout"
        },
        {
          "output_type": "stream",
          "text": [
            "Loss=0.1639433652162552 Batch_id=468 Accuracy=99.05: 100%|██████████| 469/469 [00:17<00:00, 27.56it/s]"
          ],
          "name": "stderr"
        },
        {
          "output_type": "stream",
          "text": [
            "length of test dataset 10000\n"
          ],
          "name": "stdout"
        },
        {
          "output_type": "stream",
          "text": [
            "\n",
            "  0%|          | 0/469 [00:00<?, ?it/s]"
          ],
          "name": "stderr"
        },
        {
          "output_type": "stream",
          "text": [
            "\n",
            "Test set: Average loss: 0.0388, Accuracy: 9873/10000 (98.73%)\n",
            "\n",
            "CASE_7: with L1andL2 with GBN\n",
            "EPOCH: 23\n"
          ],
          "name": "stdout"
        },
        {
          "output_type": "stream",
          "text": [
            "Loss=0.42759913206100464 Batch_id=468 Accuracy=99.07: 100%|██████████| 469/469 [00:17<00:00, 27.37it/s]"
          ],
          "name": "stderr"
        },
        {
          "output_type": "stream",
          "text": [
            "length of test dataset 10000\n"
          ],
          "name": "stdout"
        },
        {
          "output_type": "stream",
          "text": [
            "\n",
            "  0%|          | 0/469 [00:00<?, ?it/s]"
          ],
          "name": "stderr"
        },
        {
          "output_type": "stream",
          "text": [
            "\n",
            "Test set: Average loss: 0.0270, Accuracy: 9905/10000 (99.05%)\n",
            "\n",
            "CASE_7: with L1andL2 with GBN\n",
            "EPOCH: 24\n"
          ],
          "name": "stdout"
        },
        {
          "output_type": "stream",
          "text": [
            "Loss=0.23278388381004333 Batch_id=468 Accuracy=99.01: 100%|██████████| 469/469 [00:17<00:00, 27.53it/s]"
          ],
          "name": "stderr"
        },
        {
          "output_type": "stream",
          "text": [
            "length of test dataset 10000\n"
          ],
          "name": "stdout"
        },
        {
          "output_type": "stream",
          "text": [
            "\n"
          ],
          "name": "stderr"
        },
        {
          "output_type": "stream",
          "text": [
            "\n",
            "Test set: Average loss: 0.0294, Accuracy: 9912/10000 (99.12%)\n",
            "\n"
          ],
          "name": "stdout"
        }
      ]
    },
    {
      "cell_type": "code",
      "metadata": {
        "id": "XotFxkgFXhUR",
        "colab_type": "code",
        "colab": {
          "base_uri": "https://localhost:8080/",
          "height": 71
        },
        "outputId": "369d3f08-396e-4135-ed07-456e1314919c"
      },
      "source": [
        "print(results1[0])\n",
        "print(results2[0])"
      ],
      "execution_count": 31,
      "outputs": [
        {
          "output_type": "stream",
          "text": [
            "[0.08200320301055908, 0.0548373042345047, 0.04122107753753662, 0.04169366669654846, 0.032945459389686585, 0.03299295077323913, 0.027713239884376527, 0.029942966198921204, 0.031943437147140506, 0.02707292549610138, 0.0282519291639328, 0.02563844072818756, 0.026165591621398927, 0.02672872145175934, 0.02675213975906372, 0.025466984009742736, 0.021090609574317933, 0.023833046102523802, 0.023848989033699034, 0.024463326263427735, 0.021806454133987428, 0.022534426546096803, 0.021470130610466005, 0.021617270636558533, 0.023460743427276613, 0.08607247281074525, 0.05565920979976654, 0.05272434685230255, 0.0406644312620163, 0.030594969248771666, 0.034344745349884034, 0.03147258660793304, 0.030180567455291747, 0.025100782680511476, 0.024665576457977297, 0.023849933123588563, 0.02437735049724579, 0.02214720432758331, 0.023464494466781616, 0.025888024544715883, 0.020426883673667906, 0.024297826075553895, 0.02181831078529358, 0.022706556105613708, 0.02215883011817932, 0.02034914207458496, 0.02013410918712616, 0.021027783155441283, 0.019526897835731506, 0.01861867632865906, 0.030724530291557313, 0.02975147953033447, 0.029020473313331605, 0.030318835687637328, 0.02822811803817749, 0.026453445148468018, 0.02940309467315674, 0.04066533372402191, 0.03913839366436005, 0.03002739474773407, 0.029648307299613954, 0.03374026548862457, 0.02909856798648834, 0.028943810367584227, 0.028718211269378662, 0.03880267772674561, 0.03078419737815857, 0.036456277537345885, 0.03624276723861694, 0.02941458649635315, 0.03166536693572998, 0.036404439759254455, 0.054314675378799436, 0.037048664021492005, 0.03320907406806946, 0.028892851853370666, 0.02949923074245453, 0.03379177560806274, 0.024054647374153137, 0.029900866770744324, 0.027264604806900024, 0.028217932319641113, 0.028919482803344727, 0.028902755403518676, 0.046605533289909365, 0.02849682309627533, 0.02876471571922302, 0.0355702730178833, 0.0265816036939621, 0.02904351909160614, 0.024493487071990967, 0.03257887120246887, 0.02861316511631012, 0.026758741307258607, 0.03885241343975067, 0.028440108323097228, 0.029206266760826112, 0.028576060795783998, 0.02804069812297821, 0.03082498834133148, 0.021709311056137087, 0.020802715992927552, 0.02268980758190155, 0.022748530888557435, 0.021679614567756654, 0.02266094982624054, 0.019153087115287782, 0.019867054915428162, 0.020368687725067138, 0.019544016098976134, 0.019378603196144106, 0.019418626928329467, 0.020179627442359925, 0.02029336438179016, 0.019331484508514404, 0.020354367995262145, 0.020640844631195067, 0.01841386787891388, 0.018481595849990845, 0.01841116261482239, 0.020562739634513855, 0.020267147850990295, 0.019463147830963135, 0.019373467898368836, 0.020204328083992005, 0.019965199208259583, 0.019541191482543945, 0.017502461814880372, 0.017842753195762635, 0.020101569080352783, 0.019316047525405885, 0.02132295241355896, 0.016067862176895143, 0.017177135729789735, 0.016995170354843138, 0.017339755535125734, 0.01633170371055603, 0.015213217926025391, 0.014521651554107666, 0.01578184654712677, 0.016117312979698182, 0.01675591378211975, 0.016824923872947692, 0.015292384791374207, 0.019878048992156984, 0.01848864290714264, 0.015883265852928163, 0.018079125118255615, 0.01606880564689636, 0.015634743499755858, 0.037958117961883545, 0.03054501678943634, 0.029013359022140504, 0.0320389219045639, 0.031473524737358094, 0.03384983065128326, 0.028608146643638612, 0.031921342730522155, 0.02650016734600067, 0.03154910343885422, 0.029482464385032655, 0.028178427171707154, 0.03750845379829407, 0.028247462868690492, 0.030761192655563353, 0.027930883097648622, 0.024142510890960693, 0.03218776726722717, 0.028022596037387847, 0.0332897052526474, 0.026758625149726867, 0.026425998306274415, 0.03189352240562439, 0.040223140478134155, 0.026678360867500306, 0.023046976280212402, 0.02489812262058258, 0.03623192181587219, 0.025180715346336365, 0.02620461595058441, 0.024860006880760194, 0.027015938186645508, 0.02500475161075592, 0.02941482162475586, 0.025570567965507506, 0.025778244936466216, 0.026748502779006957, 0.02673154454231262, 0.027267081713676453, 0.02547847762107849, 0.027345897626876833, 0.029089569735527038, 0.024116099333763123, 0.026368666195869445, 0.0337590473651886, 0.028629689836502076, 0.023630204844474794, 0.03880830230712891, 0.026982066798210143, 0.02939903085231781]\n",
            "[0.08200320301055908, 0.0548373042345047, 0.04122107753753662, 0.04169366669654846, 0.032945459389686585, 0.03299295077323913, 0.027713239884376527, 0.029942966198921204, 0.031943437147140506, 0.02707292549610138, 0.0282519291639328, 0.02563844072818756, 0.026165591621398927, 0.02672872145175934, 0.02675213975906372, 0.025466984009742736, 0.021090609574317933, 0.023833046102523802, 0.023848989033699034, 0.024463326263427735, 0.021806454133987428, 0.022534426546096803, 0.021470130610466005, 0.021617270636558533, 0.023460743427276613, 0.08607247281074525, 0.05565920979976654, 0.05272434685230255, 0.0406644312620163, 0.030594969248771666, 0.034344745349884034, 0.03147258660793304, 0.030180567455291747, 0.025100782680511476, 0.024665576457977297, 0.023849933123588563, 0.02437735049724579, 0.02214720432758331, 0.023464494466781616, 0.025888024544715883, 0.020426883673667906, 0.024297826075553895, 0.02181831078529358, 0.022706556105613708, 0.02215883011817932, 0.02034914207458496, 0.02013410918712616, 0.021027783155441283, 0.019526897835731506, 0.01861867632865906, 0.030724530291557313, 0.02975147953033447, 0.029020473313331605, 0.030318835687637328, 0.02822811803817749, 0.026453445148468018, 0.02940309467315674, 0.04066533372402191, 0.03913839366436005, 0.03002739474773407, 0.029648307299613954, 0.03374026548862457, 0.02909856798648834, 0.028943810367584227, 0.028718211269378662, 0.03880267772674561, 0.03078419737815857, 0.036456277537345885, 0.03624276723861694, 0.02941458649635315, 0.03166536693572998, 0.036404439759254455, 0.054314675378799436, 0.037048664021492005, 0.03320907406806946, 0.028892851853370666, 0.02949923074245453, 0.03379177560806274, 0.024054647374153137, 0.029900866770744324, 0.027264604806900024, 0.028217932319641113, 0.028919482803344727, 0.028902755403518676, 0.046605533289909365, 0.02849682309627533, 0.02876471571922302, 0.0355702730178833, 0.0265816036939621, 0.02904351909160614, 0.024493487071990967, 0.03257887120246887, 0.02861316511631012, 0.026758741307258607, 0.03885241343975067, 0.028440108323097228, 0.029206266760826112, 0.028576060795783998, 0.02804069812297821, 0.03082498834133148, 0.021709311056137087, 0.020802715992927552, 0.02268980758190155, 0.022748530888557435, 0.021679614567756654, 0.02266094982624054, 0.019153087115287782, 0.019867054915428162, 0.020368687725067138, 0.019544016098976134, 0.019378603196144106, 0.019418626928329467, 0.020179627442359925, 0.02029336438179016, 0.019331484508514404, 0.020354367995262145, 0.020640844631195067, 0.01841386787891388, 0.018481595849990845, 0.01841116261482239, 0.020562739634513855, 0.020267147850990295, 0.019463147830963135, 0.019373467898368836, 0.020204328083992005, 0.019965199208259583, 0.019541191482543945, 0.017502461814880372, 0.017842753195762635, 0.020101569080352783, 0.019316047525405885, 0.02132295241355896, 0.016067862176895143, 0.017177135729789735, 0.016995170354843138, 0.017339755535125734, 0.01633170371055603, 0.015213217926025391, 0.014521651554107666, 0.01578184654712677, 0.016117312979698182, 0.01675591378211975, 0.016824923872947692, 0.015292384791374207, 0.019878048992156984, 0.01848864290714264, 0.015883265852928163, 0.018079125118255615, 0.01606880564689636, 0.015634743499755858, 0.037958117961883545, 0.03054501678943634, 0.029013359022140504, 0.0320389219045639, 0.031473524737358094, 0.03384983065128326, 0.028608146643638612, 0.031921342730522155, 0.02650016734600067, 0.03154910343885422, 0.029482464385032655, 0.028178427171707154, 0.03750845379829407, 0.028247462868690492, 0.030761192655563353, 0.027930883097648622, 0.024142510890960693, 0.03218776726722717, 0.028022596037387847, 0.0332897052526474, 0.026758625149726867, 0.026425998306274415, 0.03189352240562439, 0.040223140478134155, 0.026678360867500306, 0.023046976280212402, 0.02489812262058258, 0.03623192181587219, 0.025180715346336365, 0.02620461595058441, 0.024860006880760194, 0.027015938186645508, 0.02500475161075592, 0.02941482162475586, 0.025570567965507506, 0.025778244936466216, 0.026748502779006957, 0.02673154454231262, 0.027267081713676453, 0.02547847762107849, 0.027345897626876833, 0.029089569735527038, 0.024116099333763123, 0.026368666195869445, 0.0337590473651886, 0.028629689836502076, 0.023630204844474794, 0.03880830230712891, 0.026982066798210143, 0.02939903085231781]\n"
          ],
          "name": "stdout"
        }
      ]
    },
    {
      "cell_type": "code",
      "metadata": {
        "id": "5STw-HcgXhXi",
        "colab_type": "code",
        "colab": {
          "base_uri": "https://localhost:8080/",
          "height": 472
        },
        "outputId": "a50e44e0-9832-4041-8073-b709bf8bed54"
      },
      "source": [
        "%matplotlib inline\n",
        "import matplotlib.pyplot as plt\n",
        "\n",
        "fig, axs = plt.subplots(1,2,figsize=(15,5))\n",
        "for i in range(1,9):\n",
        "  if i == 1:\n",
        "    print(\"CASE_1: without L1andL2 with BN\")\n",
        "\n",
        "    axs[0].plot(results1[0],color='red')\n",
        "    axs[0].set_title(\"Test Loss\")\n",
        "    axs[1].plot(results1[1],color='red')\n",
        "    axs[1].set_title(\"Test Accuracy\")\n",
        "    #plt.savefig(\"/content/gdrive/My Drive/Colab Notebooks/EVA4/Session 6/models/l2-figure.png\", bbox_inches='tight')\n",
        "\n",
        "  elif i == 2:\n",
        "    print(\"CASE_2: without L1andL2 with GBN\")\n",
        "    \n",
        "    axs[0].plot(results2[0],color='green')\n",
        "    axs[0].set_title(\"Test Loss\")\n",
        "    axs[1].plot(results2[1],color='green')\n",
        "    axs[1].set_title(\"Test Accuracy\")\n",
        "    #plt.savefig(\"/content/gdrive/My Drive/Colab Notebooks/EVA4/Session 6/models/l2-figure.png\", bbox_inches='tight')\n",
        "\n",
        "  elif i == 3:\n",
        "    print(\"CASE_3: with L1 with BN\")\n",
        "    \n",
        "    axs[0].plot(results3[0],color='blue')\n",
        "    axs[0].set_title(\"Test Loss\")\n",
        "    axs[1].plot(results3[1],color='blue')\n",
        "    axs[1].set_title(\"Test Accuracy123\")\n",
        "    #plt.savefig(\"/content/gdrive/My Drive/Colab Notebooks/EVA4/Session 6/models/l2-figure.png\", bbox_inches='tight')\n",
        "\n",
        "  elif i == 4:\n",
        "    print(\"CASE_4: with L1 with GBN\")\n",
        "    \n",
        "    axs[0].plot(results4[0], color='black')\n",
        "    axs[0].set_title(\"Test Loss\")\n",
        "    axs[1].plot(results4[1], color='black')\n",
        "    axs[1].set_title(\"Test Accuracy\")\n",
        "    #plt.savefig(\"/content/gdrive/My Drive/Colab Notebooks/EVA4/Session 6/models/l2-figure.png\", bbox_inches='tight')\n",
        "\n",
        "  elif i == 5:\n",
        "    print(\"CASE_5: with L2 with BN\")\n",
        "    \n",
        "    axs[0].plot(results5[0], color='yellow')\n",
        "    axs[0].set_title(\"Test Loss\")\n",
        "    axs[1].plot(results5[1], color='yellow')\n",
        "    axs[1].set_title(\"Test Accuracy\")\n",
        "    #plt.savefig(\"/content/gdrive/My Drive/Colab Notebooks/EVA4/Session 6/models/l2-figure.png\", bbox_inches='tight')\n",
        "\n",
        "\n",
        "  elif i == 6:\n",
        "    print(\"CASE_6: with L2 with GBN\")\n",
        "    \n",
        "    axs[0].plot(results6[0], color='cyan')\n",
        "    axs[0].set_title(\"Test Loss\")\n",
        "    axs[1].plot(results6[1], color='cyan')\n",
        "    axs[1].set_title(\"Test Accuracy\")\n",
        "    #plt.savefig(\"/content/gdrive/My Drive/Colab Notebooks/EVA4/Session 6/models/l2-figure.png\", bbox_inches='tight')\n",
        "\n",
        "\n",
        "  elif i == 7:\n",
        "    print(\"CASE_7: with L1andL2 with BN\")\n",
        "    \n",
        "    axs[0].plot(results7[0], color='magenta')\n",
        "    axs[0].set_title(\"Test Loss\")\n",
        "    axs[1].plot(results7[1], color='magenta')\n",
        "    axs[1].set_title(\"Test Accuracy\")\n",
        "    #plt.savefig(\"/content/gdrive/My Drive/Colab Notebooks/EVA4/Session 6/models/l2-figure.png\", bbox_inches='tight')\n",
        "\n",
        "\n",
        "  elif i == 8:\n",
        "    print(\"CASE_8: with L1andL2 with GBN\")\n",
        "    \n",
        "    axs[0].plot(results8[0], color='brown')\n",
        "    axs[0].set_title(\"Test Loss\")\n",
        "    axs[1].plot(results8[1], color='brown')\n",
        "    axs[1].set_title(\"Test Accuracy\")\n",
        "    #plt.savefig(\"/content/gdrive/My Drive/Colab Notebooks/EVA4/Session 6/models/l2-figure.png\", bbox_inches='tight')"
      ],
      "execution_count": 32,
      "outputs": [
        {
          "output_type": "stream",
          "text": [
            "CASE_1: without L1andL2 with BN\n",
            "CASE_2: without L1andL2 with GBN\n",
            "CASE_3: with L1 with BN\n",
            "CASE_4: with L1 with GBN\n",
            "CASE_5: with L2 with BN\n",
            "CASE_6: with L2 with GBN\n",
            "CASE_7: with L1andL2 with BN\n",
            "CASE_8: with L1andL2 with GBN\n"
          ],
          "name": "stdout"
        },
        {
          "output_type": "display_data",
          "data": {
            "image/png": "[encoded data removed]",
            "text/plain": [
              "<Figure size 1080x360 with 2 Axes>"
            ]
          },
          "metadata": {
            "tags": [],
            "needs_background": "light"
          }
        }
      ]
    },
    {
      "cell_type": "code",
      "metadata": {
        "id": "VJyAt2_cXhaI",
        "colab_type": "code",
        "colab": {}
      },
      "source": [
        ""
      ],
      "execution_count": 0,
      "outputs": []
    }
  ]
}